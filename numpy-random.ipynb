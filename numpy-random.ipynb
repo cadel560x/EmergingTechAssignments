{
 "cells": [
  {
   "cell_type": "markdown",
   "metadata": {},
   "source": [
    "# The numpy.random package"
   ]
  },
  {
   "cell_type": "markdown",
   "metadata": {},
   "source": [
    "## The numpy.random.rand function"
   ]
  },
  {
   "cell_type": "markdown",
   "metadata": {},
   "source": [
    "It returns random numbers between 0 (inclusive) and 1 (excluded) from a uniform distribution, that is, that all numbers have the same chance of being generated. Some examples of the rand() function."
   ]
  },
  {
   "cell_type": "code",
   "execution_count": 1,
   "metadata": {},
   "outputs": [],
   "source": [
    "import numpy as np"
   ]
  },
  {
   "cell_type": "markdown",
   "metadata": {},
   "source": [
    "Without arguments returns a single random number."
   ]
  },
  {
   "cell_type": "code",
   "execution_count": 2,
   "metadata": {},
   "outputs": [
    {
     "data": {
      "text/plain": [
       "0.538961019320699"
      ]
     },
     "execution_count": 2,
     "metadata": {},
     "output_type": "execute_result"
    }
   ],
   "source": [
    "np.random.rand()"
   ]
  },
  {
   "cell_type": "markdown",
   "metadata": {},
   "source": [
    "With one argument, returns one row of the specified amount of random numbers"
   ]
  },
  {
   "cell_type": "code",
   "execution_count": 3,
   "metadata": {},
   "outputs": [
    {
     "data": {
      "text/plain": [
       "array([0.60640461, 0.8930006 , 0.67707657, 0.10565527])"
      ]
     },
     "execution_count": 3,
     "metadata": {},
     "output_type": "execute_result"
    }
   ],
   "source": [
    "np.random.rand(4)"
   ]
  },
  {
   "cell_type": "markdown",
   "metadata": {},
   "source": [
    "Two or more arguments specify the dimensions of a random number matrix of n dimensions.  \n",
    "The following example creates a 3rows x 2columns bi-dimensional matrix of random numbers."
   ]
  },
  {
   "cell_type": "code",
   "execution_count": 4,
   "metadata": {},
   "outputs": [
    {
     "data": {
      "text/plain": [
       "array([[0.24533941, 0.0266757 ],\n",
       "       [0.48993285, 0.49336176],\n",
       "       [0.5946189 , 0.81648845]])"
      ]
     },
     "execution_count": 4,
     "metadata": {},
     "output_type": "execute_result"
    }
   ],
   "source": [
    "np.random.rand(3,2)"
   ]
  },
  {
   "cell_type": "markdown",
   "metadata": {},
   "source": [
    "This is for a 3 dimensinal matrix"
   ]
  },
  {
   "cell_type": "code",
   "execution_count": 5,
   "metadata": {},
   "outputs": [
    {
     "data": {
      "text/plain": [
       "array([[[0.46294771, 0.28676593, 0.9333551 , 0.45145348],\n",
       "        [0.32979765, 0.5682367 , 0.31404098, 0.3956554 ],\n",
       "        [0.7703981 , 0.1392069 , 0.58619428, 0.40770454]],\n",
       "\n",
       "       [[0.53181591, 0.55664153, 0.47431679, 0.94281572],\n",
       "        [0.09125576, 0.66402911, 0.10681944, 0.07705625],\n",
       "        [0.91813408, 0.12747528, 0.19483786, 0.88201543]]])"
      ]
     },
     "execution_count": 5,
     "metadata": {},
     "output_type": "execute_result"
    }
   ],
   "source": [
    "np.random.rand(2,3,4)"
   ]
  },
  {
   "cell_type": "markdown",
   "metadata": {},
   "source": [
    "More dimensions can be added:"
   ]
  },
  {
   "cell_type": "code",
   "execution_count": 6,
   "metadata": {
    "scrolled": true
   },
   "outputs": [
    {
     "data": {
      "text/plain": [
       "array([[[[0.45894577, 0.64513317, 0.82547325, 0.50322323, 0.97574382],\n",
       "         [0.97817202, 0.15279384, 0.722545  , 0.91635919, 0.63187322],\n",
       "         [0.80132689, 0.43666987, 0.83935943, 0.88860671, 0.30771591],\n",
       "         [0.52232718, 0.20630448, 0.70922998, 0.61179545, 0.92695621]],\n",
       "\n",
       "        [[0.21087509, 0.42005943, 0.38902085, 0.45885956, 0.09926386],\n",
       "         [0.1503261 , 0.90985133, 0.13741588, 0.72698115, 0.29082231],\n",
       "         [0.03036961, 0.29401762, 0.30259844, 0.26846537, 0.71072265],\n",
       "         [0.35172801, 0.73704456, 0.6112432 , 0.42191696, 0.05848708]],\n",
       "\n",
       "        [[0.62955262, 0.60327008, 0.59666446, 0.25013831, 0.3327038 ],\n",
       "         [0.09838341, 0.12971506, 0.79964549, 0.47386063, 0.88735622],\n",
       "         [0.87289569, 0.15877608, 0.69767655, 0.77219858, 0.00993143],\n",
       "         [0.00982208, 0.85267521, 0.51898783, 0.15702014, 0.1274856 ]]],\n",
       "\n",
       "\n",
       "       [[[0.03311221, 0.17385639, 0.24522979, 0.12094655, 0.03396378],\n",
       "         [0.20862176, 0.16850998, 0.529297  , 0.12380511, 0.18316696],\n",
       "         [0.30194892, 0.62135201, 0.69555865, 0.01925482, 0.35358821],\n",
       "         [0.60907707, 0.60033939, 0.4182274 , 0.19934493, 0.48795857]],\n",
       "\n",
       "        [[0.95893969, 0.63122788, 0.68542806, 0.84924276, 0.48857866],\n",
       "         [0.7845762 , 0.62378002, 0.88192955, 0.79106528, 0.27635923],\n",
       "         [0.15702406, 0.53607479, 0.96106698, 0.12430302, 0.88763538],\n",
       "         [0.8160511 , 0.76813009, 0.29325385, 0.35960293, 0.69225086]],\n",
       "\n",
       "        [[0.16657849, 0.00293155, 0.58065742, 0.80821908, 0.79718942],\n",
       "         [0.35323915, 0.71472685, 0.48346613, 0.44341745, 0.66116246],\n",
       "         [0.32713329, 0.53061226, 0.46875437, 0.20420259, 0.67217609],\n",
       "         [0.28640916, 0.94957884, 0.54931516, 0.84917284, 0.20212466]]]])"
      ]
     },
     "execution_count": 6,
     "metadata": {},
     "output_type": "execute_result"
    }
   ],
   "source": [
    "np.random.rand(2,3,4,5)"
   ]
  },
  {
   "cell_type": "markdown",
   "metadata": {},
   "source": [
    "## Random Distributions"
   ]
  },
  {
   "cell_type": "markdown",
   "metadata": {},
   "source": [
    "### Uniform distribution\n",
    "Is very similar to the function numpy.random.rand, but it allows to specify different sampling intervals, not only between 0 and 1."
   ]
  },
  {
   "cell_type": "markdown",
   "metadata": {},
   "source": [
    "Without arguments it behaves like numpy.random.rand"
   ]
  },
  {
   "cell_type": "code",
   "execution_count": 7,
   "metadata": {},
   "outputs": [
    {
     "data": {
      "text/plain": [
       "0.7828735435769753"
      ]
     },
     "execution_count": 7,
     "metadata": {},
     "output_type": "execute_result"
    }
   ],
   "source": [
    "np.random.uniform()"
   ]
  },
  {
   "cell_type": "markdown",
   "metadata": {},
   "source": [
    "With one argument, it generates a random number between 0 and the passed argument"
   ]
  },
  {
   "cell_type": "code",
   "execution_count": 8,
   "metadata": {},
   "outputs": [
    {
     "data": {
      "text/plain": [
       "2.7574665545044668"
      ]
     },
     "execution_count": 8,
     "metadata": {},
     "output_type": "execute_result"
    }
   ],
   "source": [
    "np.random.uniform(5)"
   ]
  },
  {
   "cell_type": "markdown",
   "metadata": {},
   "source": [
    "With two arguments, it generates a random number between the first and second argument"
   ]
  },
  {
   "cell_type": "code",
   "execution_count": 9,
   "metadata": {},
   "outputs": [
    {
     "data": {
      "text/plain": [
       "1.0465234603459828"
      ]
     },
     "execution_count": 9,
     "metadata": {},
     "output_type": "execute_result"
    }
   ],
   "source": [
    "np.random.uniform(0.0, 100.0)"
   ]
  },
  {
   "cell_type": "markdown",
   "metadata": {},
   "source": [
    "With three arguments, it generates an amount of random numbers specified by the third argument; between the first and second argument"
   ]
  },
  {
   "cell_type": "code",
   "execution_count": 10,
   "metadata": {},
   "outputs": [
    {
     "data": {
      "text/plain": [
       "array([-0.10567825, -0.87172212, -0.36072684, -0.33841226, -0.79674206,\n",
       "       -0.38027109, -0.69111003, -0.33074732, -0.77679722, -0.21705385])"
      ]
     },
     "execution_count": 10,
     "metadata": {},
     "output_type": "execute_result"
    }
   ],
   "source": [
    "np.random.uniform(-1,0,10)"
   ]
  },
  {
   "cell_type": "markdown",
   "metadata": {},
   "source": [
    "A histogram plot of the uniform distribution:"
   ]
  },
  {
   "cell_type": "code",
   "execution_count": 11,
   "metadata": {},
   "outputs": [
    {
     "data": {
      "text/plain": [
       "(array([1068., 1008.,  984., 1017., 1011., 1005., 1012.,  916.,  986.,\n",
       "         993.]),\n",
       " array([6.66362354e-02, 1.00058270e+02, 2.00049903e+02, 3.00041536e+02,\n",
       "        4.00033170e+02, 5.00024803e+02, 6.00016437e+02, 7.00008070e+02,\n",
       "        7.99999703e+02, 8.99991337e+02, 9.99982970e+02]),\n",
       " <a list of 10 Patch objects>)"
      ]
     },
     "execution_count": 11,
     "metadata": {},
     "output_type": "execute_result"
    }
   ],
   "source": [
    "import matplotlib.pyplot as plt\n",
    "x = np.random.uniform(0,1000,10000)\n",
    "plt.hist(x)"
   ]
  },
  {
   "cell_type": "markdown",
   "metadata": {},
   "source": [
    "### Normal Distribution\n",
    "It draws samples from a normal distribution. It has three arguments. The first one is the center of the distribution, oftenly called 'mu' and is the mean, median and mode of it. The second parameter is the standard deviation and specifies the width of the distribution. It is three times the value of the std dev to the right and three times its value to the left too. The last argument is optional and specifies how many samples to draw."
   ]
  },
  {
   "cell_type": "markdown",
   "metadata": {},
   "source": [
    "With no arguments draws a sample from the space space between 0 and three units distance, it could be to the right or to the left. So it's drawing samples using 0 as the mean and 1 as standard deviation:"
   ]
  },
  {
   "cell_type": "code",
   "execution_count": 12,
   "metadata": {},
   "outputs": [
    {
     "data": {
      "text/plain": [
       "0.29263543185476"
      ]
     },
     "execution_count": 12,
     "metadata": {},
     "output_type": "execute_result"
    }
   ],
   "source": [
    "np.random.normal()"
   ]
  },
  {
   "cell_type": "markdown",
   "metadata": {},
   "source": [
    "With one argument draws a sample using the argument as the mean and 1 as standard deviation:"
   ]
  },
  {
   "cell_type": "code",
   "execution_count": 13,
   "metadata": {},
   "outputs": [
    {
     "data": {
      "text/plain": [
       "3.8096134723066415"
      ]
     },
     "execution_count": 13,
     "metadata": {},
     "output_type": "execute_result"
    }
   ],
   "source": [
    "np.random.normal(5)"
   ]
  },
  {
   "cell_type": "markdown",
   "metadata": {},
   "source": [
    "With two arguments draws a sample using the first argument as the mean and the second as the standard deviation:"
   ]
  },
  {
   "cell_type": "code",
   "execution_count": 14,
   "metadata": {},
   "outputs": [
    {
     "data": {
      "text/plain": [
       "8.134723313425805"
      ]
     },
     "execution_count": 14,
     "metadata": {},
     "output_type": "execute_result"
    }
   ],
   "source": [
    "np.random.normal(7,2)"
   ]
  },
  {
   "cell_type": "markdown",
   "metadata": {},
   "source": [
    "With three arguments, the first two arguments behave like before and the third argument specifies the amount of samples to draw:"
   ]
  },
  {
   "cell_type": "code",
   "execution_count": 15,
   "metadata": {},
   "outputs": [
    {
     "data": {
      "text/plain": [
       "array([6.60021237, 7.72846483, 6.37843543, 7.73611595, 6.65086796,\n",
       "       6.88225421, 7.39532081, 8.19264882, 7.28568602, 6.82744467])"
      ]
     },
     "execution_count": 15,
     "metadata": {},
     "output_type": "execute_result"
    }
   ],
   "source": [
    "np.random.normal(7,1,10)"
   ]
  },
  {
   "cell_type": "markdown",
   "metadata": {},
   "source": [
    "Below are some histogram plots of the normal distribution changing the function arguments.  \n",
    "Base example:"
   ]
  },
  {
   "cell_type": "code",
   "execution_count": 16,
   "metadata": {},
   "outputs": [
    {
     "data": {
      "text/plain": [
       "(array([  23.,  139.,  559., 1499., 2562., 2615., 1648.,  744.,  176.,\n",
       "          35.]),\n",
       " array([-0.35495862, -0.28488988, -0.21482114, -0.1447524 , -0.07468366,\n",
       "        -0.00461491,  0.06545383,  0.13552257,  0.20559131,  0.27566005,\n",
       "         0.34572879]),\n",
       " <a list of 10 Patch objects>)"
      ]
     },
     "execution_count": 16,
     "metadata": {},
     "output_type": "execute_result"
    },
    {
     "data": {
      "image/png": "[encoded data removed]",
      "text/plain": [
       "<Figure size 432x288 with 1 Axes>"
      ]
     },
     "metadata": {},
     "output_type": "display_data"
    }
   ],
   "source": [
    "x = np.random.normal(0,0.1,10000)\n",
    "plt.hist(x)"
   ]
  },
  {
   "cell_type": "markdown",
   "metadata": {},
   "source": [
    "Changing the first argument ('center' or 'loc'):"
   ]
  },
  {
   "cell_type": "code",
   "execution_count": 17,
   "metadata": {},
   "outputs": [
    {
     "data": {
      "text/plain": [
       "(array([  36.,  231.,  865., 2111., 2899., 2410., 1110.,  292.,   41.,\n",
       "           5.]),\n",
       " array([7.65579197, 7.73071629, 7.80564062, 7.88056495, 7.95548928,\n",
       "        8.03041361, 8.10533794, 8.18026227, 8.2551866 , 8.33011093,\n",
       "        8.40503526]),\n",
       " <a list of 10 Patch objects>)"
      ]
     },
     "execution_count": 17,
     "metadata": {},
     "output_type": "execute_result"
    },
    {
     "data": {
      "image/png": "[encoded data removed]",
      "text/plain": [
       "<Figure size 432x288 with 1 Axes>"
      ]
     },
     "metadata": {},
     "output_type": "display_data"
    }
   ],
   "source": [
    "x = np.random.normal(8,0.1,10000)\n",
    "plt.hist(x)"
   ]
  },
  {
   "cell_type": "markdown",
   "metadata": {},
   "source": [
    "Changing the second argument ('standard devtiation' or 'spread'):"
   ]
  },
  {
   "cell_type": "code",
   "execution_count": 18,
   "metadata": {},
   "outputs": [
    {
     "data": {
      "text/plain": [
       "(array([  16.,  112.,  579., 1647., 2725., 2657., 1600.,  537.,  106.,\n",
       "          21.]), array([-21.15377379, -15.27232794,  -9.39088209,  -3.50943625,\n",
       "          2.3720096 ,   8.25345545,  14.1349013 ,  20.01634715,\n",
       "         25.897793  ,  31.77923884,  37.66068469]), <a list of 10 Patch objects>)"
      ]
     },
     "execution_count": 18,
     "metadata": {},
     "output_type": "execute_result"
    },
    {
     "data": {
      "image/png": "[encoded data removed]",
      "text/plain": [
       "<Figure size 432x288 with 1 Axes>"
      ]
     },
     "metadata": {},
     "output_type": "display_data"
    }
   ],
   "source": [
    "x = np.random.normal(8,8,10000)\n",
    "plt.hist(x)"
   ]
  },
  {
   "cell_type": "markdown",
   "metadata": {},
   "source": [
    "Changing the third argument, the amount of samples:"
   ]
  },
  {
   "cell_type": "code",
   "execution_count": 19,
   "metadata": {},
   "outputs": [
    {
     "data": {
      "text/plain": [
       "(array([ 1.,  3.,  5., 10., 14., 26., 16., 11.,  9.,  5.]),\n",
       " array([-14.21404248, -10.21973401,  -6.22542553,  -2.23111706,\n",
       "          1.76319141,   5.75749989,   9.75180836,  13.74611684,\n",
       "         17.74042531,  21.73473378,  25.72904226]),\n",
       " <a list of 10 Patch objects>)"
      ]
     },
     "execution_count": 19,
     "metadata": {},
     "output_type": "execute_result"
    },
    {
     "data": {
      "image/png": "[encoded data removed]",
      "text/plain": [
       "<Figure size 432x288 with 1 Axes>"
      ]
     },
     "metadata": {},
     "output_type": "display_data"
    }
   ],
   "source": [
    "x = np.random.normal(8,8,100)\n",
    "plt.hist(x)"
   ]
  },
  {
   "cell_type": "markdown",
   "metadata": {},
   "source": [
    "## Degrees of Freedom\n",
    "For the next two probability distributions we need to explain first what are the degrees of freedom.\n",
    "\n",
    "Let's start with a simple example.  Let's say we have seven hats and we want to wear one different hat every day of the week.\n",
    "On the first day, we can wear any of the 7 hats. On the second day, we can choose from the 6 remaining hats, on day 3 we can choose from 5 hats, and so on.  \n",
    "\n",
    "When day 6 rolls around, we still have a choice between 2 hats that we haven’t worn yet that week. But after we choose our hat for day 6, we have no choice for the hat that we wear on Day 7. We must wear the one remaining hat. We had 7-1 = 6 days of “hat” freedom—in which the hat we wore could vary!  \n",
    "\n",
    "That’s kind of the idea behind degrees of freedom in statistics. Degrees of freedom are often broadly defined as the number of \"observations\" (pieces of information) in the data that are free to vary when estimating statistical parameters.  \n",
    "\n",
    "Let's suppose we want to test the population mean with a sample of 10 values, using a 1-sample t test. We now have a constraint—the estimation of the mean. What is that constraint? By definition of the mean, the following relationship must hold: The sum of all values in the data must equal the amount of values multiplied by the mean.  \n",
    "\n",
    "So if a data set has 10 values, the sum of the 10 values must equal the mean times 10. If the mean of the 10 values is 3.5, this constraint requires that the sum of the 10 values must equal 10 x 3.5 = 35.\n",
    "With that constraint, the first value in the data set is free to vary. Whatever value it is, it’s still possible for the sum of all 10 numbers to have a value of 35. The second value is also free to vary, because whatever value you choose, it still allows for the possibility that the sum of all the values is 35.\n",
    "In fact, the first 9 values could be anything, including these two examples:  \n",
    "34, -8.3, -37, -92, -1, 0, 1, -22, 99   \n",
    "0.1, 0.2, 0.3, 0.4, 0.5, 0.6, 0.7, 0.8, 0.9  \n",
    "\n",
    "But to have all 10 values sum to 35, and have a mean of 3.5, the 10th value cannot vary. It must be a specific number:  \n",
    "34, -8.3, -37, -92, -1, 0, 1, -22, 99  -----> 10TH value must be 61.3  \n",
    "0.1, 0.2, 0.3, 0.4, 0.5, 0.6, 0.7, 0.8, 0.9 ----> 10TH value must be 30.5  \n",
    "\n",
    "Therefore, we have 10 - 1 = 9 degrees of freedom. It doesn’t matter what sample size we use, or what mean value we use—the last value in the sample is not free to vary. You end up with $n - 1$ degrees of freedom, where $n$ is the sample size.  \n",
    "\n",
    "Another way to say this is that the number of degrees of freedom equals the number of \"observations\" minus the number of required relations among the observations (e.g., the number of parameter estimates). For a 1-sample t-test, one degree of freedom is spent estimating the mean, and the remaining $n - 1$ degrees of freedom estimate variability."
   ]
  },
  {
   "cell_type": "markdown",
   "metadata": {},
   "source": [
    "## Student's $t$ Distribution\n",
    "The derivation of the t-distribution was first published in 1908 by William Gosset while working for the Guinness Brewery in Dublin. Due to proprietary issues, he had to publish under a pseudonym, and so he used the name Student. Gosset was interested in the problems of small samples – for example, the chemical properties of barley where sample sizes might be as few as 3. "
   ]
  },
  {
   "cell_type": "markdown",
   "metadata": {},
   "source": [
    "The probability density function for the $t$ distribution is\n",
    "![title](images/StudentPDF.png)\n",
    "The $t$ test is based on an assumption that the data come from a normal distribution. The $t$ test provides a way to test whether the sample mean (that is the mean calculated from the data) is a good estimate of the true mean."
   ]
  },
  {
   "cell_type": "markdown",
   "metadata": {},
   "source": [
    "The random.standard_t function takes at least 1 argument, the degrees of freedom $df$. In return, draws one number from the Student's $t$ distribution."
   ]
  },
  {
   "cell_type": "code",
   "execution_count": 20,
   "metadata": {},
   "outputs": [
    {
     "data": {
      "text/plain": [
       "1.6991337592699274"
      ]
     },
     "execution_count": 20,
     "metadata": {},
     "output_type": "execute_result"
    }
   ],
   "source": [
    "np.random.standard_t(1)"
   ]
  },
  {
   "cell_type": "markdown",
   "metadata": {},
   "source": [
    "With two arguments, the function draws an amount of samples specified by the second argument where the degrees of freedom ($df$) are provided by the first argument."
   ]
  },
  {
   "cell_type": "code",
   "execution_count": 21,
   "metadata": {},
   "outputs": [
    {
     "data": {
      "text/plain": [
       "array([ 0.26329406, -3.03568557,  0.08543951, -0.98901422])"
      ]
     },
     "execution_count": 21,
     "metadata": {},
     "output_type": "execute_result"
    }
   ],
   "source": [
    "np.random.standard_t(1,4)"
   ]
  },
  {
   "cell_type": "markdown",
   "metadata": {},
   "source": [
    "Below is histogram plot with 100000 samples and $df$ and is 10"
   ]
  },
  {
   "cell_type": "code",
   "execution_count": 22,
   "metadata": {},
   "outputs": [
    {
     "data": {
      "text/plain": [
       "(array([3.0000e+00, 5.2000e+01, 6.2300e+02, 7.1700e+03, 3.9509e+04,\n",
       "        4.2910e+04, 8.8420e+03, 8.1300e+02, 6.7000e+01, 1.1000e+01]),\n",
       " array([-7.3761739 , -5.91488967, -4.45360544, -2.99232121, -1.53103698,\n",
       "        -0.06975275,  1.39153148,  2.85281571,  4.31409994,  5.77538417,\n",
       "         7.2366684 ]),\n",
       " <a list of 10 Patch objects>)"
      ]
     },
     "execution_count": 22,
     "metadata": {},
     "output_type": "execute_result"
    },
    {
     "data": {
      "image/png": "[encoded data removed]",
      "text/plain": [
       "<Figure size 432x288 with 1 Axes>"
      ]
     },
     "metadata": {},
     "output_type": "display_data"
    }
   ],
   "source": [
    "x = np.random.standard_t(10,100000)\n",
    "plt.hist(x)"
   ]
  },
  {
   "cell_type": "markdown",
   "metadata": {},
   "source": [
    "## Chi Square Distribution\n",
    "The chi-squared distribution is used in the common chi-squared tests for goodness of fit of an observed distribution to a theoretical one, the independence of two criteria of classification of qualitative data, and in confidence interval estimation for a population standard deviation of a normal distribution from a sample standard deviation.\n",
    "\n",
    "When an amount of independent random variables that is equal to the degrees of freedom, each variable from standard normal distributions (mean 0, variance 1), are squared and summed, the resulting distribution is chi-square. This distribution is often used in hypothesis testing.\n",
    "\n",
    "The chi-square distribution is defined by the following probability density function:  \n",
    "$$Y = Y_0({\\chi}^2)^{( \\frac{v}{2} - 1 )} e^{-\\frac{\\chi^2}{2}}$$\n",
    "\n",
    "where $Y_0$ is a constant that depends on the number of degrees of freedom, $\\chi^2$ is the chi-square statistic, $v$ = n - 1 is the number of degrees of freedom. $Y_0$ is defined, so that the area under the chi-square curve is equal to one.\n",
    "\n",
    "The chi-square distribution has the following properties: \n",
    "* The mean of the distribution is equal to the number of degrees of freedom: μ = $v$.\n",
    "* The variance is equal to two times the number of degrees of freedom: σ2 = $2v$\n",
    "* When the degrees of freedom are greater than or equal to 2, the maximum value for $Y$ occurs when $\\chi^2 = v - 2$.\n",
    "* As the degrees of freedom increase, the chi-square curve approaches a normal distribution."
   ]
  },
  {
   "cell_type": "markdown",
   "metadata": {},
   "source": [
    "The random.chisquare function takes at least 1 argument, the degrees of freedom $df$. In return, draws one number from the Chi Squared distribution."
   ]
  },
  {
   "cell_type": "code",
   "execution_count": 23,
   "metadata": {},
   "outputs": [
    {
     "data": {
      "text/plain": [
       "6.153618698715713"
      ]
     },
     "execution_count": 23,
     "metadata": {},
     "output_type": "execute_result"
    }
   ],
   "source": [
    "np.random.chisquare(2)"
   ]
  },
  {
   "cell_type": "markdown",
   "metadata": {},
   "source": [
    "With two arguments, the function draws an amount of samples specified by the second argument where the degrees of freedom ($df$) are provided by the first argument."
   ]
  },
  {
   "cell_type": "code",
   "execution_count": 24,
   "metadata": {},
   "outputs": [
    {
     "data": {
      "text/plain": [
       "array([2.43655208, 7.17297586, 7.6543024 , 2.80397136])"
      ]
     },
     "execution_count": 24,
     "metadata": {},
     "output_type": "execute_result"
    }
   ],
   "source": [
    "np.random.chisquare(6,4)"
   ]
  },
  {
   "cell_type": "markdown",
   "metadata": {},
   "source": [
    "Below is histogram plot with 1000 samples and $df$ and is 6"
   ]
  },
  {
   "cell_type": "code",
   "execution_count": 25,
   "metadata": {},
   "outputs": [
    {
     "data": {
      "text/plain": [
       "(array([150., 330., 238., 147.,  74.,  42.,  13.,   4.,   0.,   2.]),\n",
       " array([ 0.28523658,  2.74786159,  5.2104866 ,  7.67311161, 10.13573661,\n",
       "        12.59836162, 15.06098663, 17.52361164, 19.98623665, 22.44886166,\n",
       "        24.91148666]),\n",
       " <a list of 10 Patch objects>)"
      ]
     },
     "execution_count": 25,
     "metadata": {},
     "output_type": "execute_result"
    },
    {
     "data": {
      "image/png": "[encoded data removed]",
      "text/plain": [
       "<Figure size 432x288 with 1 Axes>"
      ]
     },
     "metadata": {},
     "output_type": "display_data"
    }
   ],
   "source": [
    "x = np.random.chisquare(6,1000)\n",
    "plt.hist(x)"
   ]
  },
  {
   "cell_type": "markdown",
   "metadata": {},
   "source": [
    "## Binomial Distribution\n",
    "In many cases, it is appropriate to summarize a group of independent observations by the number of observations in the group that represent one of two outcomes. For example, the proportion of individuals in a random sample who support one of two political candidates fits this description. In this case, the statistic  is the count X of voters who support the candidate divided by the total number of individuals in the group $n$. This provides an estimate of the parameter $p$, the proportion of individuals who support the candidate in the entire population. \n",
    "The binomial distribution describes the behavior of a count variable X if the following conditions apply: \n",
    "* The number of observations $n$ is fixed. \n",
    "* Each observation is independent. \n",
    "* Each observation represents one of two outcomes (\"success\" or \"failure\"). \n",
    "* The probability of \"success\" $p$ is the same for each outcome. \n",
    "\n",
    "If these conditions are met, then X has a binomial distribution with parameters $n$ and $p$, abbreviated $B(n,p)$. "
   ]
  },
  {
   "cell_type": "markdown",
   "metadata": {},
   "source": [
    "The probability density for the binomial distribution is\n",
    "$$P(N) = {{n}\\choose{N}} \\cdot p^N(1-kp)^{n-N}$$\n",
    "where $n$ is the number of trials, $p$ is the probability of success, and $N$ is the number of successes.  \n",
    "The binomial distribution is frequently used to model the number of successes in a sample of size $n$ drawn with replacement from a population of size $N$. If the sampling is carried out without replacement, the draws are not independent and so the resulting distribution is a hypergeometric distribution, not a binomial one. "
   ]
  },
  {
   "cell_type": "markdown",
   "metadata": {},
   "source": [
    "The random.binomial function takes at least 2 arguments, the first argument is the number $n$ of trials and the second is the probabability $p$ of success. In return, draws one number from the binomial distribution."
   ]
  },
  {
   "cell_type": "code",
   "execution_count": 26,
   "metadata": {
    "scrolled": true
   },
   "outputs": [
    {
     "data": {
      "text/plain": [
       "2"
      ]
     },
     "execution_count": 26,
     "metadata": {},
     "output_type": "execute_result"
    }
   ],
   "source": [
    "np.random.binomial(10, 1/6)"
   ]
  },
  {
   "cell_type": "markdown",
   "metadata": {},
   "source": [
    "With three arguments, the function draws an amount of samples specified by the third argument. The first two arguments are the still the same as explained in the previous cell. For example let's see the result of of getting a 1 on after rolling a die 10 times, tested 1000 times."
   ]
  },
  {
   "cell_type": "code",
   "execution_count": 27,
   "metadata": {
    "scrolled": true
   },
   "outputs": [
    {
     "data": {
      "text/plain": [
       "array([1, 1, 1, 1, 1, 3, 0, 4, 1, 1, 1, 0, 2, 0, 2, 0, 3, 3, 1, 3, 0, 2,\n",
       "       3, 1, 2, 0, 1, 1, 1, 1, 0, 0, 2, 0, 1, 3, 2, 1, 1, 1, 4, 4, 1, 3,\n",
       "       1, 1, 0, 0, 1, 1, 2, 3, 1, 1, 0, 2, 2, 2, 1, 1, 1, 4, 0, 1, 5, 3,\n",
       "       2, 3, 2, 1, 2, 2, 1, 1, 2, 2, 1, 1, 0, 4, 2, 3, 0, 1, 2, 2, 0, 1,\n",
       "       2, 4, 2, 1, 1, 2, 2, 1, 0, 0, 1, 1, 3, 2, 0, 2, 0, 2, 0, 2, 3, 2,\n",
       "       3, 1, 3, 2, 2, 1, 3, 2, 1, 1, 3, 2, 2, 2, 4, 0, 1, 0, 3, 3, 1, 3,\n",
       "       2, 1, 0, 4, 0, 2, 1, 0, 2, 1, 2, 2, 3, 2, 1, 1, 3, 1, 1, 4, 1, 1,\n",
       "       1, 1, 1, 2, 1, 3, 0, 2, 2, 2, 0, 3, 2, 4, 1, 3, 0, 3, 0, 0, 2, 4,\n",
       "       3, 2, 1, 1, 0, 3, 0, 1, 4, 3, 3, 4, 0, 1, 2, 2, 1, 0, 3, 2, 0, 2,\n",
       "       3, 1, 0, 2, 1, 3, 1, 2, 2, 2, 1, 2, 3, 3, 0, 2, 3, 2, 2, 3, 1, 1,\n",
       "       2, 1, 0, 3, 3, 2, 3, 1, 2, 1, 1, 2, 1, 2, 2, 2, 1, 3, 2, 2, 3, 2,\n",
       "       1, 1, 4, 1, 1, 1, 2, 1, 2, 3, 1, 2, 3, 0, 1, 1, 1, 2, 0, 0, 3, 2,\n",
       "       2, 1, 3, 4, 2, 1, 2, 1, 1, 4, 1, 1, 1, 0, 3, 3, 2, 2, 2, 0, 0, 2,\n",
       "       1, 1, 2, 2, 1, 2, 1, 2, 2, 4, 1, 0, 1, 2, 1, 3, 1, 0, 2, 1, 1, 1,\n",
       "       2, 0, 2, 0, 2, 2, 2, 2, 1, 3, 4, 3, 2, 1, 3, 0, 2, 2, 3, 0, 1, 1,\n",
       "       1, 1, 1, 4, 2, 1, 1, 1, 2, 2, 2, 1, 1, 0, 2, 1, 2, 2, 4, 2, 1, 1,\n",
       "       1, 2, 1, 1, 2, 3, 2, 1, 4, 2, 2, 3, 1, 1, 1, 3, 2, 2, 1, 1, 3, 0,\n",
       "       1, 4, 1, 2, 2, 1, 2, 3, 1, 2, 4, 3, 1, 1, 0, 0, 1, 2, 3, 1, 2, 1,\n",
       "       2, 2, 1, 0, 0, 1, 2, 2, 0, 1, 0, 2, 0, 1, 2, 1, 5, 1, 2, 1, 1, 3,\n",
       "       0, 1, 2, 4, 1, 3, 2, 2, 1, 4, 2, 2, 1, 0, 1, 2, 0, 3, 2, 2, 0, 2,\n",
       "       2, 0, 1, 1, 0, 1, 1, 2, 0, 1, 2, 1, 1, 1, 0, 1, 2, 2, 5, 3, 1, 0,\n",
       "       2, 2, 2, 3, 1, 1, 0, 0, 1, 2, 1, 1, 1, 3, 2, 1, 3, 3, 3, 1, 2, 2,\n",
       "       1, 0, 3, 1, 0, 3, 4, 0, 2, 2, 2, 0, 0, 1, 2, 3, 1, 1, 5, 3, 1, 2,\n",
       "       2, 2, 1, 1, 2, 5, 0, 1, 2, 1, 2, 2, 5, 3, 3, 2, 2, 1, 1, 0, 0, 1,\n",
       "       2, 3, 1, 0, 3, 2, 3, 1, 1, 3, 1, 0, 1, 3, 2, 1, 2, 2, 2, 1, 1, 0,\n",
       "       0, 2, 0, 2, 0, 1, 1, 3, 2, 2, 3, 1, 0, 1, 3, 5, 0, 2, 0, 0, 1, 2,\n",
       "       3, 3, 3, 1, 1, 0, 2, 1, 1, 4, 2, 2, 1, 3, 3, 1, 3, 1, 3, 1, 1, 2,\n",
       "       1, 1, 4, 2, 1, 3, 1, 0, 2, 0, 1, 1, 2, 2, 0, 1, 1, 2, 2, 2, 0, 1,\n",
       "       1, 1, 1, 2, 2, 2, 0, 1, 3, 2, 2, 2, 0, 3, 4, 5, 1, 4, 2, 2, 4, 0,\n",
       "       1, 1, 3, 2, 3, 1, 0, 2, 2, 2, 0, 1, 0, 0, 2, 0, 2, 1, 1, 3, 0, 1,\n",
       "       2, 2, 3, 3, 1, 2, 2, 3, 3, 3, 0, 2, 0, 2, 3, 3, 1, 3, 0, 2, 2, 0,\n",
       "       0, 0, 1, 2, 3, 1, 1, 3, 1, 2, 0, 1, 1, 2, 1, 1, 2, 1, 2, 2, 2, 2,\n",
       "       3, 3, 0, 3, 1, 3, 1, 3, 2, 0, 2, 3, 2, 3, 3, 0, 1, 1, 2, 0, 2, 3,\n",
       "       0, 2, 1, 2, 2, 2, 0, 1, 0, 1, 1, 2, 0, 5, 2, 1, 3, 2, 1, 2, 2, 1,\n",
       "       0, 1, 4, 1, 5, 1, 2, 2, 2, 1, 1, 3, 1, 0, 2, 2, 2, 2, 2, 1, 3, 0,\n",
       "       0, 2, 2, 2, 1, 2, 0, 2, 2, 0, 5, 0, 0, 2, 2, 0, 1, 3, 2, 2, 2, 3,\n",
       "       1, 2, 0, 3, 3, 3, 2, 1, 2, 1, 2, 2, 4, 0, 4, 0, 1, 0, 1, 2, 2, 1,\n",
       "       0, 2, 3, 1, 3, 3, 2, 1, 4, 0, 2, 2, 4, 1, 0, 1, 4, 0, 3, 2, 2, 4,\n",
       "       2, 2, 1, 3, 0, 3, 2, 3, 1, 0, 0, 4, 2, 0, 1, 2, 1, 1, 0, 2, 2, 3,\n",
       "       5, 0, 0, 0, 2, 3, 1, 2, 2, 2, 1, 1, 2, 4, 0, 1, 2, 2, 2, 2, 2, 3,\n",
       "       3, 1, 3, 2, 0, 3, 3, 2, 2, 2, 2, 0, 3, 1, 1, 4, 1, 1, 4, 2, 0, 1,\n",
       "       2, 1, 2, 0, 1, 2, 2, 2, 0, 0, 1, 0, 0, 2, 2, 1, 1, 3, 1, 0, 1, 2,\n",
       "       2, 2, 2, 2, 3, 0, 3, 1, 0, 1, 2, 1, 1, 1, 1, 1, 0, 1, 2, 1, 1, 3,\n",
       "       1, 4, 2, 2, 4, 2, 2, 2, 2, 4, 0, 4, 1, 0, 1, 3, 0, 1, 1, 0, 3, 0,\n",
       "       0, 1, 3, 1, 1, 2, 2, 3, 0, 3, 0, 2, 3, 0, 4, 4, 3, 2, 1, 0, 2, 2,\n",
       "       3, 3, 2, 2, 3, 0, 2, 1, 1, 2])"
      ]
     },
     "execution_count": 27,
     "metadata": {},
     "output_type": "execute_result"
    }
   ],
   "source": [
    "np.random.binomial(10, 1/6, 1000)"
   ]
  },
  {
   "cell_type": "markdown",
   "metadata": {},
   "source": [
    "Below is the histogram plot of the previos experiment"
   ]
  },
  {
   "cell_type": "code",
   "execution_count": 28,
   "metadata": {},
   "outputs": [
    {
     "data": {
      "text/plain": [
       "(array([167.,   0., 323.,   0., 293.,   0., 158.,   0.,  44.,  15.]),\n",
       " array([0. , 0.5, 1. , 1.5, 2. , 2.5, 3. , 3.5, 4. , 4.5, 5. ]),\n",
       " <a list of 10 Patch objects>)"
      ]
     },
     "execution_count": 28,
     "metadata": {},
     "output_type": "execute_result"
    },
    {
     "data": {
      "image/png": "[encoded data removed]",
      "text/plain": [
       "<Figure size 432x288 with 1 Axes>"
      ]
     },
     "metadata": {},
     "output_type": "display_data"
    }
   ],
   "source": [
    "x = np.random.binomial(10, 1/6, 1000)\n",
    "plt.hist(x)"
   ]
  },
  {
   "cell_type": "markdown",
   "metadata": {},
   "source": [
    "## Pareto Distribution\n",
    "The Pareto distribution is a probability distribution that seeks to describe quantities which have a particular property: namely, that a few items account for a lot of it and a lot of items account for a little of it."
   ]
  },
  {
   "cell_type": "markdown",
   "metadata": {},
   "source": [
    "The distribution can be defined by the following survival function (also called tail function):  \n",
    "$${\\displaystyle {\\overline {F}}(x)=\\Pr(X>x)={\\begin{cases}\\left({\\frac {x_{\\mathrm {m} }}{x}}\\right)^{\\alpha }&x\\geq x_{\\mathrm {m} },\\\\0&x<x_{\\mathrm {m} },\\end{cases}}}$$\n",
    "\n",
    "* X is a random variable with a Pareto distribution. The probability that X is greater than some number x. \n",
    "* $x_m$ is the (necessarily positive) minimum possible value of X. The Pareto distribution is characterized by $x_m$.\n",
    "* α is shape parameter, which is known as the tail index."
   ]
  },
  {
   "cell_type": "markdown",
   "metadata": {},
   "source": [
    "A well known example of the Pareto distribution is that 20 percent of the people control 80 percent of the wealth (which itself is sometimes called the Pareto principle), is another statement of the fact that the allocation of income could be Pareto distributed.  \n",
    "Some other examples:\n",
    "* business: the top few customers account for a bulk of the profits\n",
    "* insurance: a small number of big claims account for a bulk of payments\n",
    "* settlement: a small number of cities include a bulk of the population\n",
    "* languages: the most frequent words account for most words in books\n",
    "* gardening: a select few pods account for most of the peas\n",
    "* software: a small number of bugs account for most of the crashes"
   ]
  },
  {
   "cell_type": "markdown",
   "metadata": {},
   "source": [
    "The random.pareto function takes at least 1 argument, α the shape parameter, which is known as the tail index. In return, draws one number from the pareto distribution."
   ]
  },
  {
   "cell_type": "code",
   "execution_count": 29,
   "metadata": {},
   "outputs": [
    {
     "data": {
      "text/plain": [
       "0.023216173283247432"
      ]
     },
     "execution_count": 29,
     "metadata": {},
     "output_type": "execute_result"
    }
   ],
   "source": [
    "np.random.pareto(3)"
   ]
  },
  {
   "cell_type": "markdown",
   "metadata": {},
   "source": [
    "With two arguments, the function draws an amount of samples specified by the second argument where shape (α) is provided by the first argument."
   ]
  },
  {
   "cell_type": "code",
   "execution_count": 30,
   "metadata": {},
   "outputs": [
    {
     "data": {
      "text/plain": [
       "array([0.24303927, 0.58623013, 0.25269328, 1.57093945, 0.25259639])"
      ]
     },
     "execution_count": 30,
     "metadata": {},
     "output_type": "execute_result"
    }
   ],
   "source": [
    "np.random.pareto(3,5)"
   ]
  },
  {
   "cell_type": "markdown",
   "metadata": {},
   "source": [
    "Below is a histogram plot with 1000 samples and α and is 3"
   ]
  },
  {
   "cell_type": "code",
   "execution_count": 31,
   "metadata": {},
   "outputs": [
    {
     "data": {
      "text/plain": [
       "(array([808., 135.,  26.,  12.,   6.,   5.,   2.,   2.,   1.,   3.]),\n",
       " array([9.87924799e-05, 7.78782604e-01, 1.55746642e+00, 2.33615023e+00,\n",
       "        3.11483404e+00, 3.89351785e+00, 4.67220166e+00, 5.45088547e+00,\n",
       "        6.22956929e+00, 7.00825310e+00, 7.78693691e+00]),\n",
       " <a list of 10 Patch objects>)"
      ]
     },
     "execution_count": 31,
     "metadata": {},
     "output_type": "execute_result"
    },
    {
     "data": {
      "image/png": "[encoded data removed]",
      "text/plain": [
       "<Figure size 432x288 with 1 Axes>"
      ]
     },
     "metadata": {},
     "output_type": "display_data"
    }
   ],
   "source": [
    "x = np.random.pareto(3, 1000)\n",
    "plt.hist(x)"
   ]
  },
  {
   "cell_type": "markdown",
   "metadata": {},
   "source": [
    "## Poisson Distribution\n",
    "\n",
    "The Poisson distribution is popular for modelling the number of times an event occurs in an interval of time or space."
   ]
  },
  {
   "cell_type": "markdown",
   "metadata": {},
   "source": [
    "An event can occur 0, 1, 2, … times in an interval. The average number of events in an interval is designated \n",
    "λ (lambda). Lambda is the event rate, also called the rate parameter. The probability of observing k events in an interval is given by the equation  \n",
    "$${\\displaystyle P(k{\\text{ events in interval}})=e^{-\\lambda }{\\frac {\\lambda ^{k}}{k!}}}$$\n",
    "\n",
    "where \n",
    "* λ is the average number of events per interval\n",
    "* $e$ is the number 2.71828... (Euler's number) the base of the natural logarithms\n",
    "* $k$ takes values 0, 1, 2, …\n",
    "* $k! = k × (k − 1) × (k − 2) × … × 2 × 1$ is the factorial of $k$."
   ]
  },
  {
   "cell_type": "markdown",
   "metadata": {},
   "source": [
    "For example, the average number of goals in a World Cup soccer match is approximately 2.5 and the Poisson model is appropriate.\n",
    "Because the average event rate is 2.5 goals per match, λ = 2.5. \n",
    "\n",
    "\\begin{align}\n",
    "& {\\displaystyle P(k{\\text{ goals in a match}})={\\frac {2.5^{k}e^{-2.5}}{k!}}}  \\\\\n",
    "& {\\displaystyle P(k=0{\\text{ goals in a match}})={\\frac {2.5^{0}e^{-2.5}}{0!}}={\\frac {e^{-2.5}}{1}}\\approx 0.082} \\\\\n",
    "& {\\displaystyle P(k=1{\\text{ goal in a match}})={\\frac {2.5^{1}e^{-2.5}}{1!}}={\\frac {2.5e^{-2.5}}{1}}\\approx 0.205} \\\\\n",
    "& {\\displaystyle P(k=2{\\text{ goals in a match}})={\\frac {2.5^{2}e^{-2.5}}{2!}}={\\frac {6.25e^{-2.5}}{2}}\\approx 0.257}\n",
    "\\end{align}\n",
    "\n",
    "The table below gives the probability for 0 to 7 goals in a match.  \n",
    "\n",
    "k | P(k goals in a World Cup soccer match)\n",
    "--- | ---\n",
    "0 | 0.082 \n",
    "1 | 0.205 \n",
    "2 | 0.257 \n",
    "3 | 0.213 \n",
    "4 | 0.133 \n",
    "5 | 0.067 \n",
    "6 | 0.028 \n",
    "7 | 0.010"
   ]
  },
  {
   "cell_type": "markdown",
   "metadata": {},
   "source": [
    "The random.poisson function without arguments draws a sample where the average lambda $(\\lambda)$ is 1 "
   ]
  },
  {
   "cell_type": "code",
   "execution_count": 32,
   "metadata": {},
   "outputs": [
    {
     "data": {
      "text/plain": [
       "1"
      ]
     },
     "execution_count": 32,
     "metadata": {},
     "output_type": "execute_result"
    }
   ],
   "source": [
    "np.random.poisson()"
   ]
  },
  {
   "cell_type": "markdown",
   "metadata": {},
   "source": [
    "With one argument, the function draws a number where the argument is the average lambda $(\\lambda)$"
   ]
  },
  {
   "cell_type": "code",
   "execution_count": 33,
   "metadata": {},
   "outputs": [
    {
     "data": {
      "text/plain": [
       "3"
      ]
     },
     "execution_count": 33,
     "metadata": {},
     "output_type": "execute_result"
    }
   ],
   "source": [
    "np.random.poisson(2.5)"
   ]
  },
  {
   "cell_type": "markdown",
   "metadata": {},
   "source": [
    "With two arguments, the function draws an amount of samples specified by the second argument where  average lambda \n",
    "($\\lambda$) is provided by the first argument"
   ]
  },
  {
   "cell_type": "code",
   "execution_count": 34,
   "metadata": {},
   "outputs": [
    {
     "data": {
      "text/plain": [
       "array([1, 3, 0, 3, 2, 2, 2, 3, 2, 2])"
      ]
     },
     "execution_count": 34,
     "metadata": {},
     "output_type": "execute_result"
    }
   ],
   "source": [
    "np.random.poisson(2.5,10)"
   ]
  },
  {
   "cell_type": "markdown",
   "metadata": {},
   "source": [
    "Below is histogram plot with 1000 samples and $\\lambda$ is 2.5"
   ]
  },
  {
   "cell_type": "code",
   "execution_count": 35,
   "metadata": {},
   "outputs": [
    {
     "data": {
      "text/plain": [
       "(array([ 75., 196., 286., 228., 116.,  52.,  28.,  14.,   4.,   1.]),\n",
       " array([0. , 0.9, 1.8, 2.7, 3.6, 4.5, 5.4, 6.3, 7.2, 8.1, 9. ]),\n",
       " <a list of 10 Patch objects>)"
      ]
     },
     "execution_count": 35,
     "metadata": {},
     "output_type": "execute_result"
    },
    {
     "data": {
      "image/png": "[encoded data removed]",
      "text/plain": [
       "<Figure size 432x288 with 1 Axes>"
      ]
     },
     "metadata": {},
     "output_type": "display_data"
    }
   ],
   "source": [
    "x = np.random.poisson(2.5,1000)\n",
    "plt.hist(x)"
   ]
  },
  {
   "cell_type": "markdown",
   "metadata": {},
   "source": [
    "## Random Seeds\n",
    "A random seed (or seed state, or just seed) is a number used to initialize a pseudorandom number generator. Random seeds are often generated from the state of the computer system, such as the time.  \n",
    "A pseudorandom number generator is an algorithm for generating a sequence of numbers whose properties approximate the properties of sequences of random numbers. The pseudorandom-generated sequence is not truly random, because it is completely determined by an initial value, the seed.  \n",
    "If the seed is fixed, the same series of pseudorandom numbers are going to be generated. This is useful for debugging and testing programs that use random numbers"
   ]
  },
  {
   "cell_type": "markdown",
   "metadata": {},
   "source": [
    "By default Python uses a fraction of time to set the seed, usually microseconds at runtime. Let's compare calls to the 'rand()' function without and with a fixed seed."
   ]
  },
  {
   "cell_type": "code",
   "execution_count": 36,
   "metadata": {},
   "outputs": [
    {
     "data": {
      "text/plain": [
       "0.22749737713125262"
      ]
     },
     "execution_count": 36,
     "metadata": {},
     "output_type": "execute_result"
    }
   ],
   "source": [
    "np.random.rand()"
   ]
  },
  {
   "cell_type": "markdown",
   "metadata": {},
   "source": [
    "Let's fixed the seed to a fixed value and call 'rand()' again"
   ]
  },
  {
   "cell_type": "code",
   "execution_count": 37,
   "metadata": {},
   "outputs": [
    {
     "data": {
      "text/plain": [
       "0.9670298390136767"
      ]
     },
     "execution_count": 37,
     "metadata": {},
     "output_type": "execute_result"
    }
   ],
   "source": [
    "np.random.seed(4)\n",
    "np.random.rand()"
   ]
  },
  {
   "cell_type": "markdown",
   "metadata": {},
   "source": [
    "Let's use time as seed again an"
   ]
  },
  {
   "cell_type": "code",
   "execution_count": 38,
   "metadata": {},
   "outputs": [
    {
     "data": {
      "text/plain": [
       "0.07626104109187692"
      ]
     },
     "execution_count": 38,
     "metadata": {},
     "output_type": "execute_result"
    }
   ],
   "source": [
    "np.random.seed()\n",
    "np.random.rand()"
   ]
  },
  {
   "cell_type": "markdown",
   "metadata": {},
   "source": [
    "Now, let's set the seed value to 4 again and we'll see it generate the same value as before:"
   ]
  },
  {
   "cell_type": "code",
   "execution_count": 39,
   "metadata": {},
   "outputs": [
    {
     "data": {
      "text/plain": [
       "0.9670298390136767"
      ]
     },
     "execution_count": 39,
     "metadata": {},
     "output_type": "execute_result"
    }
   ],
   "source": [
    "np.random.seed(4)\n",
    "np.random.rand()"
   ]
  }
 ],
 "metadata": {
  "kernelspec": {
   "display_name": "Python 3",
   "language": "python",
   "name": "python3"
  },
  "language_info": {
   "codemirror_mode": {
    "name": "ipython",
    "version": 3
   },
   "file_extension": ".py",
   "mimetype": "text/x-python",
   "name": "python",
   "nbconvert_exporter": "python",
   "pygments_lexer": "ipython3",
   "version": "3.6.5"
  }
 },
 "nbformat": 4,
 "nbformat_minor": 2
}
