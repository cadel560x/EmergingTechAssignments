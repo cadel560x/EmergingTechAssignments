{
 "cells": [
  {
   "cell_type": "markdown",
   "metadata": {},
   "source": [
    "# The numpy.random package"
   ]
  },
  {
   "cell_type": "markdown",
   "metadata": {},
   "source": [
    "## The numpy.random.rand function"
   ]
  },
  {
   "cell_type": "markdown",
   "metadata": {},
   "source": [
    "It returns random numbers between 0 (inclusive) and 1 (excluded) from a uniform distribution, that is, that all numbers have the same chance of being generated. Some examples of the rand() function."
   ]
  },
  {
   "cell_type": "code",
   "execution_count": 1,
   "metadata": {},
   "outputs": [],
   "source": [
    "import numpy as np"
   ]
  },
  {
   "cell_type": "markdown",
   "metadata": {},
   "source": [
    "Without arguments returns a single random number."
   ]
  },
  {
   "cell_type": "code",
   "execution_count": 2,
   "metadata": {},
   "outputs": [
    {
     "data": {
      "text/plain": [
       "0.7683734972499737"
      ]
     },
     "execution_count": 2,
     "metadata": {},
     "output_type": "execute_result"
    }
   ],
   "source": [
    "np.random.rand()"
   ]
  },
  {
   "cell_type": "markdown",
   "metadata": {},
   "source": [
    "With one argument, returns one row of the specified amount of random numbers"
   ]
  },
  {
   "cell_type": "code",
   "execution_count": 3,
   "metadata": {},
   "outputs": [
    {
     "data": {
      "text/plain": [
       "array([0.50423662, 0.98326949, 0.08562196, 0.02562653])"
      ]
     },
     "execution_count": 3,
     "metadata": {},
     "output_type": "execute_result"
    }
   ],
   "source": [
    "np.random.rand(4)"
   ]
  },
  {
   "cell_type": "markdown",
   "metadata": {},
   "source": [
    "Two or more arguments specify the dimensions of a random number matrix of n dimensions.  \n",
    "The following example creates a 3rows x 2columns bi-dimensional matrix of random numbers."
   ]
  },
  {
   "cell_type": "code",
   "execution_count": 4,
   "metadata": {},
   "outputs": [
    {
     "data": {
      "text/plain": [
       "array([[0.95462448, 0.50180837],\n",
       "       [0.18601353, 0.43761307],\n",
       "       [0.06556113, 0.48236768]])"
      ]
     },
     "execution_count": 4,
     "metadata": {},
     "output_type": "execute_result"
    }
   ],
   "source": [
    "np.random.rand(3,2)"
   ]
  },
  {
   "cell_type": "markdown",
   "metadata": {},
   "source": [
    "This is for a 3 dimensinal matrix"
   ]
  },
  {
   "cell_type": "code",
   "execution_count": 5,
   "metadata": {},
   "outputs": [
    {
     "data": {
      "text/plain": [
       "array([[[0.03242017, 0.5133316 , 0.99297859, 0.81600524],\n",
       "        [0.03524367, 0.90107922, 0.35665812, 0.09083389],\n",
       "        [0.59437111, 0.14737711, 0.67615538, 0.65915269]],\n",
       "\n",
       "       [[0.42886877, 0.64103141, 0.12396517, 0.00912087],\n",
       "        [0.09517602, 0.04628613, 0.04033383, 0.65323487],\n",
       "        [0.59085887, 0.60158079, 0.97854201, 0.48995551]]])"
      ]
     },
     "execution_count": 5,
     "metadata": {},
     "output_type": "execute_result"
    }
   ],
   "source": [
    "np.random.rand(2,3,4)"
   ]
  },
  {
   "cell_type": "markdown",
   "metadata": {},
   "source": [
    "More dimensions can be added:"
   ]
  },
  {
   "cell_type": "code",
   "execution_count": 6,
   "metadata": {
    "scrolled": true
   },
   "outputs": [
    {
     "data": {
      "text/plain": [
       "array([[[[2.97902570e-02, 6.67213183e-01, 8.29844711e-01,\n",
       "          9.09091226e-01, 3.54492984e-02],\n",
       "         [8.42282464e-01, 4.91494538e-01, 5.08410477e-01,\n",
       "          8.69179256e-01, 8.66500229e-01],\n",
       "         [5.53789785e-01, 4.96303037e-01, 3.07627100e-01,\n",
       "          5.83398319e-01, 4.66028388e-01],\n",
       "         [4.61433516e-01, 5.00713968e-01, 4.03701965e-01,\n",
       "          4.12885289e-01, 7.12346172e-01]],\n",
       "\n",
       "        [[8.84853749e-01, 5.72776916e-01, 2.32320858e-02,\n",
       "          3.77444512e-01, 6.14182411e-01],\n",
       "         [3.66890813e-01, 4.41821808e-01, 3.76496474e-01,\n",
       "          2.14220353e-01, 1.14674572e-01],\n",
       "         [4.08159581e-01, 4.47141818e-01, 5.20514419e-01,\n",
       "          5.06844395e-01, 9.47268423e-01],\n",
       "         [7.42420619e-01, 8.06312770e-01, 4.97718867e-01,\n",
       "          3.99593605e-01, 5.47946633e-02]],\n",
       "\n",
       "        [[3.49738854e-03, 2.10164822e-02, 8.32115840e-01,\n",
       "          1.73878172e-07, 5.84374283e-01],\n",
       "         [3.36053396e-01, 8.58264386e-01, 7.35446926e-01,\n",
       "          3.88302099e-01, 8.52113926e-01],\n",
       "         [9.92344790e-01, 9.80244672e-02, 1.54550203e-01,\n",
       "          7.94992182e-01, 1.61254053e-01],\n",
       "         [8.49158248e-01, 9.09522027e-01, 3.77693582e-01,\n",
       "          7.58241393e-01, 5.61010015e-01]]],\n",
       "\n",
       "\n",
       "       [[[8.92384890e-01, 5.07521451e-02, 6.96986650e-01,\n",
       "          3.60994643e-01, 3.46494278e-01],\n",
       "         [2.66874657e-02, 2.18844797e-01, 4.20688311e-01,\n",
       "          5.88177768e-01, 1.81742598e-01],\n",
       "         [2.45584276e-01, 2.96420035e-01, 1.33163261e-03,\n",
       "          2.40062826e-02, 4.94976128e-01],\n",
       "         [5.05766685e-01, 7.54479779e-01, 4.84034828e-01,\n",
       "          8.47488621e-01, 7.02631889e-01]],\n",
       "\n",
       "        [[1.64792172e-01, 5.06699567e-01, 6.86893238e-01,\n",
       "          1.89015018e-01, 5.70362499e-01],\n",
       "         [1.80620814e-01, 6.56845683e-01, 8.95196377e-01,\n",
       "          8.55433350e-01, 7.95737795e-02],\n",
       "         [5.51439507e-01, 9.41978242e-01, 2.32664602e-01,\n",
       "          9.89797131e-01, 1.21526082e-01],\n",
       "         [1.70019645e-01, 6.69876724e-01, 4.24392136e-01,\n",
       "          3.96672113e-01, 6.07441989e-01]],\n",
       "\n",
       "        [[6.57288024e-01, 5.01009126e-01, 8.45067734e-01,\n",
       "          7.13796175e-01, 1.17465489e-01],\n",
       "         [2.68177136e-01, 7.61869354e-01, 1.10681530e-01,\n",
       "          5.02935870e-01, 8.33152899e-01],\n",
       "         [3.41400644e-01, 1.92499687e-01, 9.57883517e-02,\n",
       "          1.95383255e-01, 4.95942435e-01],\n",
       "         [3.00673797e-01, 9.72204139e-01, 9.21682681e-01,\n",
       "          4.50425505e-01, 1.84353598e-02]]]])"
      ]
     },
     "execution_count": 6,
     "metadata": {},
     "output_type": "execute_result"
    }
   ],
   "source": [
    "np.random.rand(2,3,4,5)"
   ]
  },
  {
   "cell_type": "markdown",
   "metadata": {},
   "source": [
    "## Random Distributions"
   ]
  },
  {
   "cell_type": "markdown",
   "metadata": {},
   "source": [
    "### Uniform distribution\n",
    "Is very similar to the function numpy.random.rand, but it allows to specify different sampling intervals, not only between 0 and 1."
   ]
  },
  {
   "cell_type": "markdown",
   "metadata": {},
   "source": [
    "Without arguments it behaves like numpy.random.rand"
   ]
  },
  {
   "cell_type": "code",
   "execution_count": 7,
   "metadata": {},
   "outputs": [
    {
     "data": {
      "text/plain": [
       "0.6392467195776839"
      ]
     },
     "execution_count": 7,
     "metadata": {},
     "output_type": "execute_result"
    }
   ],
   "source": [
    "np.random.uniform()"
   ]
  },
  {
   "cell_type": "markdown",
   "metadata": {},
   "source": [
    "With one argument, it generates a random number between 0 and the passed argument"
   ]
  },
  {
   "cell_type": "code",
   "execution_count": 8,
   "metadata": {},
   "outputs": [
    {
     "data": {
      "text/plain": [
       "4.690350618400425"
      ]
     },
     "execution_count": 8,
     "metadata": {},
     "output_type": "execute_result"
    }
   ],
   "source": [
    "np.random.uniform(5)"
   ]
  },
  {
   "cell_type": "markdown",
   "metadata": {},
   "source": [
    "With two arguments, it generates a random number between the first and second argument"
   ]
  },
  {
   "cell_type": "code",
   "execution_count": 9,
   "metadata": {},
   "outputs": [
    {
     "data": {
      "text/plain": [
       "2.3850642172095537"
      ]
     },
     "execution_count": 9,
     "metadata": {},
     "output_type": "execute_result"
    }
   ],
   "source": [
    "np.random.uniform(0.0, 100.0)"
   ]
  },
  {
   "cell_type": "markdown",
   "metadata": {},
   "source": [
    "With three arguments, it generates an amount of random numbers specified by the third argument; between the first and second argument"
   ]
  },
  {
   "cell_type": "code",
   "execution_count": 10,
   "metadata": {},
   "outputs": [
    {
     "data": {
      "text/plain": [
       "array([-0.16448024, -0.94124627, -0.82353425, -0.04763635, -0.90587762,\n",
       "       -0.11221325, -0.80189174, -0.77688237, -0.64011372, -0.46265769])"
      ]
     },
     "execution_count": 10,
     "metadata": {},
     "output_type": "execute_result"
    }
   ],
   "source": [
    "np.random.uniform(-1,0,10)"
   ]
  },
  {
   "cell_type": "markdown",
   "metadata": {},
   "source": [
    "A histogram plot of the uniform distribution:"
   ]
  },
  {
   "cell_type": "code",
   "execution_count": 11,
   "metadata": {},
   "outputs": [
    {
     "data": {
      "text/plain": [
       "(array([1024., 1020., 1012.,  993.,  985., 1006.,  969.,  988.,  995.,\n",
       "        1008.]),\n",
       " array([3.85680203e-02, 1.00034061e+02, 2.00029554e+02, 3.00025047e+02,\n",
       "        4.00020539e+02, 5.00016032e+02, 6.00011525e+02, 7.00007018e+02,\n",
       "        8.00002511e+02, 8.99998004e+02, 9.99993497e+02]),\n",
       " <a list of 10 Patch objects>)"
      ]
     },
     "execution_count": 11,
     "metadata": {},
     "output_type": "execute_result"
    }
   ],
   "source": [
    "import matplotlib.pyplot as plt\n",
    "x = np.random.uniform(0,1000,10000)\n",
    "plt.hist(x)"
   ]
  },
  {
   "cell_type": "markdown",
   "metadata": {},
   "source": [
    "### Normal Distribution\n",
    "It draws samples from a normal distribution. It has three arguments. The first one is the center of the distribution, oftenly called 'mu' and is the mean, median and mode of it. The second parameter is the standard deviation and specifies the width of the distribution. It is three times the value of the std dev to the right and three times its value to the left too. The last argument is optional and specifies how many samples to draw."
   ]
  },
  {
   "cell_type": "markdown",
   "metadata": {},
   "source": [
    "With no arguments draws a sample from the space space between 0 and three units distance, it could be to the right or to the left. So it's drawing samples using 0 as the mean and 1 as standard deviation:"
   ]
  },
  {
   "cell_type": "code",
   "execution_count": 12,
   "metadata": {},
   "outputs": [
    {
     "data": {
      "text/plain": [
       "-0.5024492943332197"
      ]
     },
     "execution_count": 12,
     "metadata": {},
     "output_type": "execute_result"
    }
   ],
   "source": [
    "np.random.normal()"
   ]
  },
  {
   "cell_type": "markdown",
   "metadata": {},
   "source": [
    "With one argument draws a sample using the argument as the mean and 1 as standard deviation:"
   ]
  },
  {
   "cell_type": "code",
   "execution_count": 13,
   "metadata": {},
   "outputs": [
    {
     "data": {
      "text/plain": [
       "6.475062911090036"
      ]
     },
     "execution_count": 13,
     "metadata": {},
     "output_type": "execute_result"
    }
   ],
   "source": [
    "np.random.normal(5)"
   ]
  },
  {
   "cell_type": "markdown",
   "metadata": {},
   "source": [
    "With two arguments draws a sample using the first argument as the mean and the second as the standard deviation:"
   ]
  },
  {
   "cell_type": "code",
   "execution_count": 14,
   "metadata": {},
   "outputs": [
    {
     "data": {
      "text/plain": [
       "10.272735123010639"
      ]
     },
     "execution_count": 14,
     "metadata": {},
     "output_type": "execute_result"
    }
   ],
   "source": [
    "np.random.normal(7,2)"
   ]
  },
  {
   "cell_type": "markdown",
   "metadata": {},
   "source": [
    "With three arguments, the first two arguments behave like before and the third argument specifies the amount of samples to draw:"
   ]
  },
  {
   "cell_type": "code",
   "execution_count": 15,
   "metadata": {},
   "outputs": [
    {
     "data": {
      "text/plain": [
       "array([7.96353982, 5.72440106, 7.61355928, 6.46895532, 6.47199339,\n",
       "       5.747701  , 7.61848371, 8.34051681, 6.19137916, 6.76861139])"
      ]
     },
     "execution_count": 15,
     "metadata": {},
     "output_type": "execute_result"
    }
   ],
   "source": [
    "np.random.normal(7,1,10)"
   ]
  },
  {
   "cell_type": "markdown",
   "metadata": {},
   "source": [
    "Below are some histogram plots of the normal distribution changing the function arguments.  \n",
    "Base example:"
   ]
  },
  {
   "cell_type": "code",
   "execution_count": 16,
   "metadata": {},
   "outputs": [
    {
     "data": {
      "text/plain": [
       "(array([   4.,   71.,  455., 1479., 2793., 2831., 1700.,  554.,   99.,\n",
       "          14.]),\n",
       " array([-0.39080237, -0.31388954, -0.23697671, -0.16006388, -0.08315105,\n",
       "        -0.00623822,  0.07067461,  0.14758744,  0.22450027,  0.30141309,\n",
       "         0.37832592]),\n",
       " <a list of 10 Patch objects>)"
      ]
     },
     "execution_count": 16,
     "metadata": {},
     "output_type": "execute_result"
    },
    {
     "data": {
      "image/png": "[encoded data removed]",
      "text/plain": [
       "<Figure size 432x288 with 1 Axes>"
      ]
     },
     "metadata": {},
     "output_type": "display_data"
    }
   ],
   "source": [
    "x = np.random.normal(0,0.1,10000)\n",
    "plt.hist(x)"
   ]
  },
  {
   "cell_type": "markdown",
   "metadata": {},
   "source": [
    "Changing the first argument ('center' or 'loc'):"
   ]
  },
  {
   "cell_type": "code",
   "execution_count": 17,
   "metadata": {},
   "outputs": [
    {
     "data": {
      "text/plain": [
       "(array([  16.,  120.,  635., 2004., 2972., 2644., 1280.,  289.,   37.,\n",
       "           3.]),\n",
       " array([7.61520121, 7.69639095, 7.7775807 , 7.85877044, 7.93996018,\n",
       "        8.02114992, 8.10233966, 8.18352941, 8.26471915, 8.34590889,\n",
       "        8.42709863]),\n",
       " <a list of 10 Patch objects>)"
      ]
     },
     "execution_count": 17,
     "metadata": {},
     "output_type": "execute_result"
    },
    {
     "data": {
      "image/png": "[encoded data removed]",
      "text/plain": [
       "<Figure size 432x288 with 1 Axes>"
      ]
     },
     "metadata": {},
     "output_type": "display_data"
    }
   ],
   "source": [
    "x = np.random.normal(8,0.1,10000)\n",
    "plt.hist(x)"
   ]
  },
  {
   "cell_type": "markdown",
   "metadata": {},
   "source": [
    "Changing the second argument ('standard devtiation' or 'spread'):"
   ]
  },
  {
   "cell_type": "code",
   "execution_count": 18,
   "metadata": {},
   "outputs": [
    {
     "data": {
      "text/plain": [
       "(array([3.000e+00, 4.000e+01, 2.860e+02, 1.257e+03, 2.673e+03, 3.093e+03,\n",
       "        1.862e+03, 6.620e+02, 1.130e+02, 1.100e+01]),\n",
       " array([-2.57426262e+01, -1.93004191e+01, -1.28582121e+01, -6.41600502e+00,\n",
       "         2.62020250e-02,  6.46840907e+00,  1.29106161e+01,  1.93528232e+01,\n",
       "         2.57950302e+01,  3.22372373e+01,  3.86794443e+01]),\n",
       " <a list of 10 Patch objects>)"
      ]
     },
     "execution_count": 18,
     "metadata": {},
     "output_type": "execute_result"
    },
    {
     "data": {
      "image/png": "[encoded data removed]",
      "text/plain": [
       "<Figure size 432x288 with 1 Axes>"
      ]
     },
     "metadata": {},
     "output_type": "display_data"
    }
   ],
   "source": [
    "x = np.random.normal(8,8,10000)\n",
    "plt.hist(x)"
   ]
  },
  {
   "cell_type": "markdown",
   "metadata": {},
   "source": [
    "Changing the third argument, the amount of samples:"
   ]
  },
  {
   "cell_type": "code",
   "execution_count": 19,
   "metadata": {},
   "outputs": [
    {
     "data": {
      "text/plain": [
       "(array([ 2.,  4.,  9., 20., 16., 20., 17.,  8.,  1.,  3.]),\n",
       " array([-11.36910909,  -7.41158573,  -3.45406236,   0.503461  ,\n",
       "          4.46098437,   8.41850773,  12.3760311 ,  16.33355446,\n",
       "         20.29107782,  24.24860119,  28.20612455]),\n",
       " <a list of 10 Patch objects>)"
      ]
     },
     "execution_count": 19,
     "metadata": {},
     "output_type": "execute_result"
    },
    {
     "data": {
      "image/png": "[encoded data removed]",
      "text/plain": [
       "<Figure size 432x288 with 1 Axes>"
      ]
     },
     "metadata": {},
     "output_type": "display_data"
    }
   ],
   "source": [
    "x = np.random.normal(8,8,100)\n",
    "plt.hist(x)"
   ]
  },
  {
   "cell_type": "markdown",
   "metadata": {},
   "source": [
    "## Student's $t$ Distribution\n",
    "The derivation of the t-distribution was first published in 1908 by William Gosset while working for the Guinness Brewery in Dublin. Due to proprietary issues, he had to publish under a pseudonym, and so he used the name Student. Gosset was interested in the problems of small samples – for example, the chemical properties of barley where sample sizes might be as few as 3. "
   ]
  },
  {
   "cell_type": "markdown",
   "metadata": {},
   "source": [
    "The probability density function for the $t$ distribution is\n",
    "![title](images/StudentPDF.png)\n",
    "The $t$ test is based on an assumption that the data come from a normal distribution. The $t$ test provides a way to test whether the sample mean (that is the mean calculated from the data) is a good estimate of the true mean."
   ]
  },
  {
   "cell_type": "markdown",
   "metadata": {},
   "source": [
    "The random.standard_t function takes at least 1 argument, the degrees of freedom $df$. In return, draws one number from the Student's $t$ distribution."
   ]
  },
  {
   "cell_type": "code",
   "execution_count": 33,
   "metadata": {},
   "outputs": [
    {
     "data": {
      "text/plain": [
       "0.4078886734911111"
      ]
     },
     "execution_count": 33,
     "metadata": {},
     "output_type": "execute_result"
    }
   ],
   "source": [
    "np.random.standard_t(1)"
   ]
  },
  {
   "cell_type": "markdown",
   "metadata": {},
   "source": [
    "## Chi Square Distribution\n",
    "When df independent random variables, each with standard normal distributions (mean 0, variance 1), are squared and summed, the resulting distribution is chi-square (see Notes). This distribution is often used in hypothesis testing."
   ]
  },
  {
   "cell_type": "markdown",
   "metadata": {},
   "source": [
    "## Pareto Distribution\n",
    "The Pareto distribution is a probability distribution that seeks to describe quantities which have a particular property: namely, that a few items account for a lot of it and a lot of items account for a little of it."
   ]
  },
  {
   "cell_type": "markdown",
   "metadata": {},
   "source": [
    "The distribution can be defined by the following survival function (also called tail function):  \n",
    "$${\\displaystyle {\\overline {F}}(x)=\\Pr(X>x)={\\begin{cases}\\left({\\frac {x_{\\mathrm {m} }}{x}}\\right)^{\\alpha }&x\\geq x_{\\mathrm {m} },\\\\0&x<x_{\\mathrm {m} },\\end{cases}}}$$\n",
    "\n",
    "* X is a random variable with a Pareto distribution. The probability that X is greater than some number x. \n",
    "* $x_m$ is the (necessarily positive) minimum possible value of X. The Pareto distribution is characterized by $x_m$.\n",
    "* α is shape parameter, which is known as the tail index."
   ]
  },
  {
   "cell_type": "markdown",
   "metadata": {},
   "source": [
    "A well known example of the Pareto distribution is that 20 percent of the people control 80 percent of the wealth (which itself is sometimes called the Pareto principle), is another statement of the fact that the allocation of income could be Pareto distributed.  \n",
    "Some other examples:\n",
    "* business: the top few customers account for a bulk of the profits\n",
    "* insurance: a small number of big claims account for a bulk of payments\n",
    "* settlement: a small number of cities include a bulk of the population\n",
    "* languages: the most frequent words account for most words in books\n",
    "* gardening: a select few pods account for most of the peas\n",
    "* software: a small number of bugs account for most of the crashes"
   ]
  },
  {
   "cell_type": "markdown",
   "metadata": {},
   "source": [
    "The random.pareto function takes at least 1 argument, α the shape parameter, which is known as the tail index. In return, draws one number from the pareto distribution."
   ]
  },
  {
   "cell_type": "code",
   "execution_count": 21,
   "metadata": {},
   "outputs": [
    {
     "data": {
      "text/plain": [
       "0.8690689792032613"
      ]
     },
     "execution_count": 21,
     "metadata": {},
     "output_type": "execute_result"
    }
   ],
   "source": [
    "np.random.pareto(3)"
   ]
  },
  {
   "cell_type": "markdown",
   "metadata": {},
   "source": [
    "With two arguments, the function draws an amount of samples specified by the second argument where shape (α) is provided by the first argument."
   ]
  },
  {
   "cell_type": "code",
   "execution_count": 22,
   "metadata": {},
   "outputs": [
    {
     "data": {
      "text/plain": [
       "array([0.33009039, 0.00190856, 0.28572559, 0.1116127 , 1.62051171])"
      ]
     },
     "execution_count": 22,
     "metadata": {},
     "output_type": "execute_result"
    }
   ],
   "source": [
    "np.random.pareto(3,5)"
   ]
  },
  {
   "cell_type": "markdown",
   "metadata": {},
   "source": [
    "Below is histogram plot with 1000 samples α and is 3"
   ]
  },
  {
   "cell_type": "code",
   "execution_count": 23,
   "metadata": {},
   "outputs": [
    {
     "data": {
      "text/plain": [
       "(array([954.,  39.,   3.,   2.,   1.,   0.,   0.,   0.,   0.,   1.]),\n",
       " array([4.19381286e-04, 1.77118608e+00, 3.54195279e+00, 5.31271949e+00,\n",
       "        7.08348619e+00, 8.85425290e+00, 1.06250196e+01, 1.23957863e+01,\n",
       "        1.41665530e+01, 1.59373197e+01, 1.77080864e+01]),\n",
       " <a list of 10 Patch objects>)"
      ]
     },
     "execution_count": 23,
     "metadata": {},
     "output_type": "execute_result"
    },
    {
     "data": {
      "image/png": "[encoded data removed]",
      "text/plain": [
       "<Figure size 432x288 with 1 Axes>"
      ]
     },
     "metadata": {},
     "output_type": "display_data"
    }
   ],
   "source": [
    "x = np.random.pareto(3, 1000)\n",
    "plt.hist(x)"
   ]
  },
  {
   "cell_type": "markdown",
   "metadata": {},
   "source": [
    "## Poisson Distribution\n",
    "\n",
    "The Poisson distribution is popular for modelling the number of times an event occurs in an interval of time or space."
   ]
  },
  {
   "cell_type": "markdown",
   "metadata": {},
   "source": [
    "An event can occur 0, 1, 2, … times in an interval. The average number of events in an interval is designated \n",
    "λ (lambda). Lambda is the event rate, also called the rate parameter. The probability of observing k events in an interval is given by the equation  \n",
    "$${\\displaystyle P(k{\\text{ events in interval}})=e^{-\\lambda }{\\frac {\\lambda ^{k}}{k!}}}$$\n",
    "\n",
    "where \n",
    "* λ is the average number of events per interval\n",
    "* $e$ is the number 2.71828... (Euler's number) the base of the natural logarithms\n",
    "* $k$ takes values 0, 1, 2, …\n",
    "* $k! = k × (k − 1) × (k − 2) × … × 2 × 1$ is the factorial of $k$."
   ]
  },
  {
   "cell_type": "markdown",
   "metadata": {},
   "source": [
    "For example, the average number of goals in a World Cup soccer match is approximately 2.5 and the Poisson model is appropriate.\n",
    "Because the average event rate is 2.5 goals per match, λ = 2.5. \n",
    "\n",
    "\\begin{align}\n",
    "& {\\displaystyle P(k{\\text{ goals in a match}})={\\frac {2.5^{k}e^{-2.5}}{k!}}}  \\\\\n",
    "& {\\displaystyle P(k=0{\\text{ goals in a match}})={\\frac {2.5^{0}e^{-2.5}}{0!}}={\\frac {e^{-2.5}}{1}}\\approx 0.082} \\\\\n",
    "& {\\displaystyle P(k=1{\\text{ goal in a match}})={\\frac {2.5^{1}e^{-2.5}}{1!}}={\\frac {2.5e^{-2.5}}{1}}\\approx 0.205} \\\\\n",
    "& {\\displaystyle P(k=2{\\text{ goals in a match}})={\\frac {2.5^{2}e^{-2.5}}{2!}}={\\frac {6.25e^{-2.5}}{2}}\\approx 0.257}\n",
    "\\end{align}\n",
    "\n",
    "The table below gives the probability for 0 to 7 goals in a match.  \n",
    "\n",
    "k | P(k goals in a World Cup soccer match)\n",
    "--- | ---\n",
    "0 | 0.082 \n",
    "1 | 0.205 \n",
    "2 | 0.257 \n",
    "3 | 0.213 \n",
    "4 | 0.133 \n",
    "5 | 0.067 \n",
    "6 | 0.028 \n",
    "7 | 0.010"
   ]
  },
  {
   "cell_type": "markdown",
   "metadata": {},
   "source": [
    "The random.poisson function without arguments draws a sample where the average lambda $(\\lambda)$ is 1 "
   ]
  },
  {
   "cell_type": "code",
   "execution_count": 24,
   "metadata": {},
   "outputs": [
    {
     "data": {
      "text/plain": [
       "2"
      ]
     },
     "execution_count": 24,
     "metadata": {},
     "output_type": "execute_result"
    }
   ],
   "source": [
    "np.random.poisson()"
   ]
  },
  {
   "cell_type": "markdown",
   "metadata": {},
   "source": [
    "With one argument, the function draws a number where the argument is the average lambda $(\\lambda)$"
   ]
  },
  {
   "cell_type": "code",
   "execution_count": 25,
   "metadata": {},
   "outputs": [
    {
     "data": {
      "text/plain": [
       "2"
      ]
     },
     "execution_count": 25,
     "metadata": {},
     "output_type": "execute_result"
    }
   ],
   "source": [
    "np.random.poisson(2.5)"
   ]
  },
  {
   "cell_type": "markdown",
   "metadata": {},
   "source": [
    "With two arguments, the function draws an amount of samples specified by the second argument where  average lambda \n",
    "($\\lambda$) is provided by the first argument"
   ]
  },
  {
   "cell_type": "code",
   "execution_count": 26,
   "metadata": {},
   "outputs": [
    {
     "data": {
      "text/plain": [
       "array([2, 2, 2, 3, 2, 1, 0, 2, 5, 4])"
      ]
     },
     "execution_count": 26,
     "metadata": {},
     "output_type": "execute_result"
    }
   ],
   "source": [
    "np.random.poisson(2.5,10)"
   ]
  },
  {
   "cell_type": "markdown",
   "metadata": {},
   "source": [
    "Below is histogram plot with 1000 samples and $\\lambda$ is 2.5"
   ]
  },
  {
   "cell_type": "code",
   "execution_count": 27,
   "metadata": {},
   "outputs": [
    {
     "data": {
      "text/plain": [
       "(array([286., 251., 203., 153.,  60.,  45.,   1.,   0.,   0.,   1.]),\n",
       " array([ 0. ,  1.2,  2.4,  3.6,  4.8,  6. ,  7.2,  8.4,  9.6, 10.8, 12. ]),\n",
       " <a list of 10 Patch objects>)"
      ]
     },
     "execution_count": 27,
     "metadata": {},
     "output_type": "execute_result"
    },
    {
     "data": {
      "image/png": "[encoded data removed]",
      "text/plain": [
       "<Figure size 432x288 with 1 Axes>"
      ]
     },
     "metadata": {},
     "output_type": "display_data"
    }
   ],
   "source": [
    "x = np.random.poisson(2.5,1000)\n",
    "plt.hist(x)"
   ]
  },
  {
   "cell_type": "markdown",
   "metadata": {},
   "source": [
    "## Random Seeds\n",
    "A random seed (or seed state, or just seed) is a number used to initialize a pseudorandom number generator. Random seeds are often generated from the state of the computer system, such as the time.  \n",
    "A pseudorandom number generator is an algorithm for generating a sequence of numbers whose properties approximate the properties of sequences of random numbers. The pseudorandom-generated sequence is not truly random, because it is completely determined by an initial value, the seed.  \n",
    "If the seed is fixed, the same series of pseudorandom numbers are going to be generated. This is useful for debugging and testing programs that use random numbers"
   ]
  },
  {
   "cell_type": "markdown",
   "metadata": {},
   "source": [
    "By default Python uses a fraction of time to set the seed, usually microseconds at runtime. Let's compare calls to the 'rand()' function without and with a fixed seed."
   ]
  },
  {
   "cell_type": "code",
   "execution_count": 28,
   "metadata": {},
   "outputs": [
    {
     "data": {
      "text/plain": [
       "0.3186622137417042"
      ]
     },
     "execution_count": 28,
     "metadata": {},
     "output_type": "execute_result"
    }
   ],
   "source": [
    "np.random.rand()"
   ]
  },
  {
   "cell_type": "markdown",
   "metadata": {},
   "source": [
    "Let's fixed the seed to a fixed value and call 'rand()' again"
   ]
  },
  {
   "cell_type": "code",
   "execution_count": 29,
   "metadata": {},
   "outputs": [
    {
     "data": {
      "text/plain": [
       "0.9670298390136767"
      ]
     },
     "execution_count": 29,
     "metadata": {},
     "output_type": "execute_result"
    }
   ],
   "source": [
    "np.random.seed(4)\n",
    "np.random.rand()"
   ]
  },
  {
   "cell_type": "markdown",
   "metadata": {},
   "source": [
    "Let's use time as seed again an"
   ]
  },
  {
   "cell_type": "code",
   "execution_count": 30,
   "metadata": {},
   "outputs": [
    {
     "data": {
      "text/plain": [
       "0.265871837570691"
      ]
     },
     "execution_count": 30,
     "metadata": {},
     "output_type": "execute_result"
    }
   ],
   "source": [
    "np.random.seed()\n",
    "np.random.rand()"
   ]
  },
  {
   "cell_type": "markdown",
   "metadata": {},
   "source": [
    "Now, let's set the seed value to 4 again and we'll see it generate the same value as before:"
   ]
  },
  {
   "cell_type": "code",
   "execution_count": 31,
   "metadata": {},
   "outputs": [
    {
     "data": {
      "text/plain": [
       "0.9670298390136767"
      ]
     },
     "execution_count": 31,
     "metadata": {},
     "output_type": "execute_result"
    }
   ],
   "source": [
    "np.random.seed(4)\n",
    "np.random.rand()"
   ]
  }
 ],
 "metadata": {
  "kernelspec": {
   "display_name": "Python 3",
   "language": "python",
   "name": "python3"
  },
  "language_info": {
   "codemirror_mode": {
    "name": "ipython",
    "version": 3
   },
   "file_extension": ".py",
   "mimetype": "text/x-python",
   "name": "python",
   "nbconvert_exporter": "python",
   "pygments_lexer": "ipython3",
   "version": "3.6.5"
  }
 },
 "nbformat": 4,
 "nbformat_minor": 2
}
