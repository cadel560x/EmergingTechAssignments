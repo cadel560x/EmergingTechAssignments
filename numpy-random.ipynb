{
 "cells": [
  {
   "cell_type": "markdown",
   "metadata": {},
   "source": [
    "# The numpy.random package"
   ]
  },
  {
   "cell_type": "markdown",
   "metadata": {},
   "source": [
    "## The numpy.random.rand function"
   ]
  },
  {
   "cell_type": "markdown",
   "metadata": {},
   "source": [
    "It returns random numbers between 0 (inclusive) and 1 (excluded) from a uniform distribution, that is, that all numbers have the same chance of being generated. Some examples of the rand() function."
   ]
  },
  {
   "cell_type": "code",
   "execution_count": 1,
   "metadata": {},
   "outputs": [],
   "source": [
    "import numpy as np"
   ]
  },
  {
   "cell_type": "markdown",
   "metadata": {},
   "source": [
    "Without arguments returns a single random number."
   ]
  },
  {
   "cell_type": "code",
   "execution_count": 2,
   "metadata": {},
   "outputs": [
    {
     "data": {
      "text/plain": [
       "0.800865075604794"
      ]
     },
     "execution_count": 2,
     "metadata": {},
     "output_type": "execute_result"
    }
   ],
   "source": [
    "np.random.rand()"
   ]
  },
  {
   "cell_type": "markdown",
   "metadata": {},
   "source": [
    "With one argument, returns one row of the specified amount of random numbers"
   ]
  },
  {
   "cell_type": "code",
   "execution_count": 3,
   "metadata": {},
   "outputs": [
    {
     "data": {
      "text/plain": [
       "array([0.13439356, 0.75785851, 0.50049079, 0.99722006])"
      ]
     },
     "execution_count": 3,
     "metadata": {},
     "output_type": "execute_result"
    }
   ],
   "source": [
    "np.random.rand(4)"
   ]
  },
  {
   "cell_type": "markdown",
   "metadata": {},
   "source": [
    "Two or more arguments specify the dimensions of a random number matrix of n dimensions.  \n",
    "The following example creates a 3rows x 2columns bi-dimensional matrix of random numbers."
   ]
  },
  {
   "cell_type": "code",
   "execution_count": 4,
   "metadata": {},
   "outputs": [
    {
     "data": {
      "text/plain": [
       "array([[0.73181898, 0.52438897],\n",
       "       [0.21151783, 0.71235878],\n",
       "       [0.0743608 , 0.97593864]])"
      ]
     },
     "execution_count": 4,
     "metadata": {},
     "output_type": "execute_result"
    }
   ],
   "source": [
    "np.random.rand(3,2)"
   ]
  },
  {
   "cell_type": "markdown",
   "metadata": {},
   "source": [
    "This is for a 3 dimensinal matrix"
   ]
  },
  {
   "cell_type": "code",
   "execution_count": 5,
   "metadata": {},
   "outputs": [
    {
     "data": {
      "text/plain": [
       "array([[[0.68076428, 0.04307247, 0.96065773, 0.91790743],\n",
       "        [0.75352686, 0.79257238, 0.650192  , 0.8893822 ],\n",
       "        [0.27154463, 0.95338646, 0.90183982, 0.42716813]],\n",
       "\n",
       "       [[0.1875219 , 0.11595275, 0.90183252, 0.93295209],\n",
       "        [0.27204087, 0.04781347, 0.38058014, 0.2148716 ],\n",
       "        [0.96344999, 0.07667448, 0.28451233, 0.46297338]]])"
      ]
     },
     "execution_count": 5,
     "metadata": {},
     "output_type": "execute_result"
    }
   ],
   "source": [
    "np.random.rand(2,3,4)"
   ]
  },
  {
   "cell_type": "markdown",
   "metadata": {},
   "source": [
    "More dimensions can be added:"
   ]
  },
  {
   "cell_type": "code",
   "execution_count": 6,
   "metadata": {
    "scrolled": true
   },
   "outputs": [
    {
     "data": {
      "text/plain": [
       "array([[[[0.4233416 , 0.50168654, 0.07244936, 0.05738475, 0.75637962],\n",
       "         [0.15292934, 0.92170923, 0.30782553, 0.32271991, 0.24931351],\n",
       "         [0.52802539, 0.60891559, 0.71046864, 0.7555546 , 0.26586795],\n",
       "         [0.62658353, 0.34484704, 0.91718655, 0.22164337, 0.4848348 ]],\n",
       "\n",
       "        [[0.8296028 , 0.0655267 , 0.25529594, 0.0691616 , 0.80718719],\n",
       "         [0.51911327, 0.34927535, 0.82857655, 0.51516107, 0.25818184],\n",
       "         [0.72330131, 0.41452628, 0.51311783, 0.86434596, 0.10547634],\n",
       "         [0.02432313, 0.37045702, 0.44690041, 0.35377799, 0.41437048]],\n",
       "\n",
       "        [[0.53547079, 0.48866113, 0.76973922, 0.33053342, 0.42206701],\n",
       "         [0.60302016, 0.64577908, 0.10632257, 0.81964419, 0.2791171 ],\n",
       "         [0.56291633, 0.53279958, 0.09767727, 0.93540217, 0.1715382 ],\n",
       "         [0.7907403 , 0.86765873, 0.27918867, 0.08893432, 0.57675188]]],\n",
       "\n",
       "\n",
       "       [[[0.60430944, 0.85215752, 0.5092542 , 0.39536344, 0.70124684],\n",
       "         [0.84553513, 0.1221256 , 0.92604265, 0.89609996, 0.1722283 ],\n",
       "         [0.77029035, 0.47417575, 0.87235347, 0.50524784, 0.83587647],\n",
       "         [0.01381054, 0.76698829, 0.15538741, 0.24664607, 0.39152268]],\n",
       "\n",
       "        [[0.98073796, 0.39480595, 0.03720673, 0.53497945, 0.31969137],\n",
       "         [0.39097523, 0.79722303, 0.75814701, 0.01850131, 0.91823645],\n",
       "         [0.51145046, 0.06208721, 0.8434493 , 0.236286  , 0.39244403],\n",
       "         [0.81023704, 0.50926078, 0.45979848, 0.13826615, 0.38330398]],\n",
       "\n",
       "        [[0.1543173 , 0.23428566, 0.99700062, 0.95690973, 0.02584477],\n",
       "         [0.08641974, 0.37071888, 0.01525314, 0.88602155, 0.81089205],\n",
       "         [0.50314872, 0.37614557, 0.60009918, 0.44897477, 0.76642719],\n",
       "         [0.26034765, 0.88801045, 0.45875173, 0.11519955, 0.8803176 ]]]])"
      ]
     },
     "execution_count": 6,
     "metadata": {},
     "output_type": "execute_result"
    }
   ],
   "source": [
    "np.random.rand(2,3,4,5)"
   ]
  },
  {
   "cell_type": "markdown",
   "metadata": {},
   "source": [
    "## Random Distributions"
   ]
  },
  {
   "cell_type": "markdown",
   "metadata": {},
   "source": [
    "### Uniform distribution\n",
    "Is very similar to the function numpy.random.rand, but it allows to specify different sampling intervals, not only between 0 and 1."
   ]
  },
  {
   "cell_type": "markdown",
   "metadata": {},
   "source": [
    "Without arguments it behaves like numpy.random.rand"
   ]
  },
  {
   "cell_type": "code",
   "execution_count": 7,
   "metadata": {},
   "outputs": [
    {
     "data": {
      "text/plain": [
       "0.049740414250568965"
      ]
     },
     "execution_count": 7,
     "metadata": {},
     "output_type": "execute_result"
    }
   ],
   "source": [
    "np.random.uniform()"
   ]
  },
  {
   "cell_type": "markdown",
   "metadata": {},
   "source": [
    "With one argument, it generates a random number between 0 and the passed argument"
   ]
  },
  {
   "cell_type": "code",
   "execution_count": 8,
   "metadata": {},
   "outputs": [
    {
     "data": {
      "text/plain": [
       "1.523113900886187"
      ]
     },
     "execution_count": 8,
     "metadata": {},
     "output_type": "execute_result"
    }
   ],
   "source": [
    "np.random.uniform(5)"
   ]
  },
  {
   "cell_type": "markdown",
   "metadata": {},
   "source": [
    "With two arguments, it generates a random number between the first and second argument"
   ]
  },
  {
   "cell_type": "code",
   "execution_count": 9,
   "metadata": {},
   "outputs": [
    {
     "data": {
      "text/plain": [
       "70.63264258664637"
      ]
     },
     "execution_count": 9,
     "metadata": {},
     "output_type": "execute_result"
    }
   ],
   "source": [
    "np.random.uniform(0.0, 100.0)"
   ]
  },
  {
   "cell_type": "markdown",
   "metadata": {},
   "source": [
    "With three arguments, it generates an amount of random numbers specified by the third argument; between the first and second argument"
   ]
  },
  {
   "cell_type": "code",
   "execution_count": 10,
   "metadata": {},
   "outputs": [
    {
     "data": {
      "text/plain": [
       "array([-0.20026599, -0.11033337, -0.59215948, -0.97496152, -0.77351644,\n",
       "       -0.04002822, -0.38946797, -0.6685027 , -0.28792849, -0.03589784])"
      ]
     },
     "execution_count": 10,
     "metadata": {},
     "output_type": "execute_result"
    }
   ],
   "source": [
    "np.random.uniform(-1,0,10)"
   ]
  },
  {
   "cell_type": "markdown",
   "metadata": {},
   "source": [
    "A histogram plot of the uniform distribution:"
   ]
  },
  {
   "cell_type": "code",
   "execution_count": 11,
   "metadata": {},
   "outputs": [
    {
     "data": {
      "text/plain": [
       "(array([ 993., 1003.,  922.,  987.,  991.,  998., 1025., 1013., 1074.,\n",
       "         994.]),\n",
       " array([2.74525444e-01, 1.00241759e+02, 2.00208992e+02, 3.00176225e+02,\n",
       "        4.00143458e+02, 5.00110691e+02, 6.00077925e+02, 7.00045158e+02,\n",
       "        8.00012391e+02, 8.99979624e+02, 9.99946857e+02]),\n",
       " <a list of 10 Patch objects>)"
      ]
     },
     "execution_count": 11,
     "metadata": {},
     "output_type": "execute_result"
    }
   ],
   "source": [
    "import matplotlib.pyplot as plt\n",
    "x = np.random.uniform(0,1000,10000)\n",
    "plt.hist(x)"
   ]
  },
  {
   "cell_type": "markdown",
   "metadata": {},
   "source": [
    "### Normal Distribution\n",
    "It draws samples from a normal distribution. It has three arguments. The first one is the center of the distribution, oftenly called 'mu' and is the mean, median and mode of it. The second parameter is the standard deviation and specifies the width of the distribution. It is three times the value of the std dev to the right and three times its value to the left too. The last argument is optional and specifies how many samples to draw."
   ]
  },
  {
   "cell_type": "markdown",
   "metadata": {},
   "source": [
    "With no arguments draws a sample from the space space between 0 and three units distance, it could be to the right or to the left. So it's drawing samples using 0 as the mean and 1 as standard deviation:"
   ]
  },
  {
   "cell_type": "code",
   "execution_count": 12,
   "metadata": {},
   "outputs": [
    {
     "data": {
      "text/plain": [
       "1.2740415776916127"
      ]
     },
     "execution_count": 12,
     "metadata": {},
     "output_type": "execute_result"
    }
   ],
   "source": [
    "np.random.normal()"
   ]
  },
  {
   "cell_type": "markdown",
   "metadata": {},
   "source": [
    "With one argument draws a sample using the argument as the mean and 1 as standard deviation:"
   ]
  },
  {
   "cell_type": "code",
   "execution_count": 13,
   "metadata": {},
   "outputs": [
    {
     "data": {
      "text/plain": [
       "4.669298403051808"
      ]
     },
     "execution_count": 13,
     "metadata": {},
     "output_type": "execute_result"
    }
   ],
   "source": [
    "np.random.normal(5)"
   ]
  },
  {
   "cell_type": "markdown",
   "metadata": {},
   "source": [
    "With two arguments draws a sample using the first argument as the mean and the second as the standard deviation:"
   ]
  },
  {
   "cell_type": "code",
   "execution_count": 14,
   "metadata": {},
   "outputs": [
    {
     "data": {
      "text/plain": [
       "7.60669321983257"
      ]
     },
     "execution_count": 14,
     "metadata": {},
     "output_type": "execute_result"
    }
   ],
   "source": [
    "np.random.normal(7,2)"
   ]
  },
  {
   "cell_type": "markdown",
   "metadata": {},
   "source": [
    "With three arguments, the first two arguments behave like before and the third argument specifies the amount of samples to draw:"
   ]
  },
  {
   "cell_type": "code",
   "execution_count": 15,
   "metadata": {},
   "outputs": [
    {
     "data": {
      "text/plain": [
       "array([6.11700316, 5.06029432, 4.65704558, 6.24847933, 7.39335703,\n",
       "       6.85281878, 8.00768438, 6.62510012, 7.85951101, 5.92662956])"
      ]
     },
     "execution_count": 15,
     "metadata": {},
     "output_type": "execute_result"
    }
   ],
   "source": [
    "np.random.normal(7,1,10)"
   ]
  },
  {
   "cell_type": "markdown",
   "metadata": {},
   "source": [
    "Below are some histogram plots of the normal distribution changing the function arguments.  \n",
    "Base example:"
   ]
  },
  {
   "cell_type": "code",
   "execution_count": 16,
   "metadata": {},
   "outputs": [
    {
     "data": {
      "text/plain": [
       "(array([  14.,   76.,  449., 1359., 2612., 2859., 1812.,  677.,  121.,\n",
       "          21.]),\n",
       " array([-0.38999089, -0.31461078, -0.23923067, -0.16385056, -0.08847046,\n",
       "        -0.01309035,  0.06228976,  0.13766987,  0.21304998,  0.28843009,\n",
       "         0.3638102 ]),\n",
       " <a list of 10 Patch objects>)"
      ]
     },
     "execution_count": 16,
     "metadata": {},
     "output_type": "execute_result"
    },
    {
     "data": {
      "image/png": "[encoded data removed]",
      "text/plain": [
       "<Figure size 432x288 with 1 Axes>"
      ]
     },
     "metadata": {},
     "output_type": "display_data"
    }
   ],
   "source": [
    "x = np.random.normal(0,0.1,10000)\n",
    "plt.hist(x)"
   ]
  },
  {
   "cell_type": "markdown",
   "metadata": {},
   "source": [
    "Changing the first argument ('center' or 'loc'):"
   ]
  },
  {
   "cell_type": "code",
   "execution_count": 17,
   "metadata": {},
   "outputs": [
    {
     "data": {
      "text/plain": [
       "(array([   4.,   50.,  357., 1188., 2403., 2879., 2057.,  816.,  199.,\n",
       "          47.]),\n",
       " array([7.60727203, 7.68106441, 7.75485679, 7.82864916, 7.90244154,\n",
       "        7.97623392, 8.0500263 , 8.12381867, 8.19761105, 8.27140343,\n",
       "        8.3451958 ]),\n",
       " <a list of 10 Patch objects>)"
      ]
     },
     "execution_count": 17,
     "metadata": {},
     "output_type": "execute_result"
    },
    {
     "data": {
      "image/png": "[encoded data removed]",
      "text/plain": [
       "<Figure size 432x288 with 1 Axes>"
      ]
     },
     "metadata": {},
     "output_type": "display_data"
    }
   ],
   "source": [
    "x = np.random.normal(8,0.1,10000)\n",
    "plt.hist(x)"
   ]
  },
  {
   "cell_type": "markdown",
   "metadata": {},
   "source": [
    "Changing the second argument ('standard devtiation' or 'spread'):"
   ]
  },
  {
   "cell_type": "code",
   "execution_count": 18,
   "metadata": {},
   "outputs": [
    {
     "data": {
      "text/plain": [
       "(array([  23.,  177.,  732., 1870., 2776., 2521., 1373.,  426.,   87.,\n",
       "          15.]), array([-20.19508222, -14.32310137,  -8.45112051,  -2.57913966,\n",
       "          3.2928412 ,   9.16482205,  15.03680291,  20.90878376,\n",
       "         26.78076462,  32.65274547,  38.52472633]), <a list of 10 Patch objects>)"
      ]
     },
     "execution_count": 18,
     "metadata": {},
     "output_type": "execute_result"
    },
    {
     "data": {
      "image/png": "[encoded data removed]",
      "text/plain": [
       "<Figure size 432x288 with 1 Axes>"
      ]
     },
     "metadata": {},
     "output_type": "display_data"
    }
   ],
   "source": [
    "x = np.random.normal(8,8,10000)\n",
    "plt.hist(x)"
   ]
  },
  {
   "cell_type": "markdown",
   "metadata": {},
   "source": [
    "Changing the third argument, the amount of samples:"
   ]
  },
  {
   "cell_type": "code",
   "execution_count": 19,
   "metadata": {},
   "outputs": [
    {
     "data": {
      "text/plain": [
       "(array([ 1.,  7., 10., 22., 12., 20., 15.,  7.,  3.,  3.]),\n",
       " array([-10.45043185,  -6.40185113,  -2.35327042,   1.6953103 ,\n",
       "          5.74389102,   9.79247174,  13.84105245,  17.88963317,\n",
       "         21.93821389,  25.98679461,  30.03537532]),\n",
       " <a list of 10 Patch objects>)"
      ]
     },
     "execution_count": 19,
     "metadata": {},
     "output_type": "execute_result"
    },
    {
     "data": {
      "image/png": "[encoded data removed]",
      "text/plain": [
       "<Figure size 432x288 with 1 Axes>"
      ]
     },
     "metadata": {},
     "output_type": "display_data"
    }
   ],
   "source": [
    "x = np.random.normal(8,8,100)\n",
    "plt.hist(x)"
   ]
  },
  {
   "cell_type": "markdown",
   "metadata": {},
   "source": [
    "## Degrees of Freedom\n",
    "For the next two probability distributions we need to explain first what are the degrees of freedom.\n",
    "\n",
    "Let's start with a simple example.  Let's say we have seven hats and we want to wear one different hat every day of the week.\n",
    "On the first day, we can wear any of the 7 hats. On the second day, we can choose from the 6 remaining hats, on day 3 we can choose from 5 hats, and so on.  \n",
    "\n",
    "When day 6 rolls around, we still have a choice between 2 hats that we haven’t worn yet that week. But after we choose our hat for day 6, we have no choice for the hat that we wear on Day 7. We must wear the one remaining hat. We had 7-1 = 6 days of “hat” freedom—in which the hat we wore could vary!  \n",
    "\n",
    "That’s kind of the idea behind degrees of freedom in statistics. Degrees of freedom are often broadly defined as the number of \"observations\" (pieces of information) in the data that are free to vary when estimating statistical parameters.  \n",
    "\n",
    "Let's suppose we want to test the population mean with a sample of 10 values, using a 1-sample t test. We now have a constraint—the estimation of the mean. What is that constraint? By definition of the mean, the following relationship must hold: The sum of all values in the data must equal the amount of values multiplied by the mean.  \n",
    "\n",
    "So if a data set has 10 values, the sum of the 10 values must equal the mean times 10. If the mean of the 10 values is 3.5, this constraint requires that the sum of the 10 values must equal 10 x 3.5 = 35.\n",
    "With that constraint, the first value in the data set is free to vary. Whatever value it is, it’s still possible for the sum of all 10 numbers to have a value of 35. The second value is also free to vary, because whatever value you choose, it still allows for the possibility that the sum of all the values is 35.\n",
    "In fact, the first 9 values could be anything, including these two examples:  \n",
    "34, -8.3, -37, -92, -1, 0, 1, -22, 99   \n",
    "0.1, 0.2, 0.3, 0.4, 0.5, 0.6, 0.7, 0.8, 0.9  \n",
    "\n",
    "But to have all 10 values sum to 35, and have a mean of 3.5, the 10th value cannot vary. It must be a specific number:  \n",
    "34, -8.3, -37, -92, -1, 0, 1, -22, 99  -----> 10TH value must be 61.3  \n",
    "0.1, 0.2, 0.3, 0.4, 0.5, 0.6, 0.7, 0.8, 0.9 ----> 10TH value must be 30.5  \n",
    "\n",
    "Therefore, we have 10 - 1 = 9 degrees of freedom. It doesn’t matter what sample size we use, or what mean value we use—the last value in the sample is not free to vary. You end up with $n - 1$ degrees of freedom, where $n$ is the sample size.  \n",
    "\n",
    "Another way to say this is that the number of degrees of freedom equals the number of \"observations\" minus the number of required relations among the observations (e.g., the number of parameter estimates). For a 1-sample t-test, one degree of freedom is spent estimating the mean, and the remaining $n - 1$ degrees of freedom estimate variability."
   ]
  },
  {
   "cell_type": "markdown",
   "metadata": {},
   "source": [
    "## Student's $t$ Distribution\n",
    "The derivation of the t-distribution was first published in 1908 by William Gosset while working for the Guinness Brewery in Dublin. Due to proprietary issues, he had to publish under a pseudonym, and so he used the name Student. Gosset was interested in the problems of small samples – for example, the chemical properties of barley where sample sizes might be as few as 3. "
   ]
  },
  {
   "cell_type": "markdown",
   "metadata": {},
   "source": [
    "The probability density function for the $t$ distribution is\n",
    "![title](images/StudentPDF.png)\n",
    "The $t$ test is based on an assumption that the data come from a normal distribution. The $t$ test provides a way to test whether the sample mean (that is the mean calculated from the data) is a good estimate of the true mean."
   ]
  },
  {
   "cell_type": "markdown",
   "metadata": {},
   "source": [
    "The random.standard_t function takes at least 1 argument, the degrees of freedom $df$. In return, draws one number from the Student's $t$ distribution."
   ]
  },
  {
   "cell_type": "code",
   "execution_count": 20,
   "metadata": {},
   "outputs": [
    {
     "data": {
      "text/plain": [
       "2.014060249323972"
      ]
     },
     "execution_count": 20,
     "metadata": {},
     "output_type": "execute_result"
    }
   ],
   "source": [
    "np.random.standard_t(1)"
   ]
  },
  {
   "cell_type": "markdown",
   "metadata": {},
   "source": [
    "With two arguments, the function draws an amount of samples specified by the second argument where the degrees of freedom ($df$) are provided by the first argument."
   ]
  },
  {
   "cell_type": "code",
   "execution_count": 21,
   "metadata": {},
   "outputs": [
    {
     "data": {
      "text/plain": [
       "array([-1.88496541,  3.44384947, -0.37079476,  0.81659553])"
      ]
     },
     "execution_count": 21,
     "metadata": {},
     "output_type": "execute_result"
    }
   ],
   "source": [
    "np.random.standard_t(1,4)"
   ]
  },
  {
   "cell_type": "markdown",
   "metadata": {},
   "source": [
    "Below is histogram plot with 100000 samples and $df$ and is 10"
   ]
  },
  {
   "cell_type": "code",
   "execution_count": 22,
   "metadata": {},
   "outputs": [
    {
     "data": {
      "text/plain": [
       "(array([6.0000e+00, 6.0000e+01, 8.2700e+02, 1.1523e+04, 5.3200e+04,\n",
       "        3.1022e+04, 3.1510e+03, 1.9800e+02, 9.0000e+00, 4.0000e+00]),\n",
       " array([-7.79805503, -6.1544202 , -4.51078537, -2.86715054, -1.22351571,\n",
       "         0.42011913,  2.06375396,  3.70738879,  5.35102362,  6.99465845,\n",
       "         8.63829329]),\n",
       " <a list of 10 Patch objects>)"
      ]
     },
     "execution_count": 22,
     "metadata": {},
     "output_type": "execute_result"
    },
    {
     "data": {
      "image/png": "[encoded data removed]",
      "text/plain": [
       "<Figure size 432x288 with 1 Axes>"
      ]
     },
     "metadata": {},
     "output_type": "display_data"
    }
   ],
   "source": [
    "x = np.random.standard_t(10,100000)\n",
    "plt.hist(x)"
   ]
  },
  {
   "cell_type": "markdown",
   "metadata": {},
   "source": [
    "## Chi Square Distribution\n",
    "The chi-squared distribution is used in the common chi-squared tests for goodness of fit of an observed distribution to a theoretical one, the independence of two criteria of classification of qualitative data, and in confidence interval estimation for a population standard deviation of a normal distribution from a sample standard deviation.\n",
    "\n",
    "When an amount of independent random variables that is equal to the degrees of freedom, each variable from standard normal distributions (mean 0, variance 1), are squared and summed, the resulting distribution is chi-square. This distribution is often used in hypothesis testing.\n",
    "\n",
    "The chi-square distribution is defined by the following probability density function:  \n",
    "$$Y = Y_0({\\chi}^2)^{( \\frac{v}{2} - 1 )} e^{-\\frac{\\chi^2}{2}}$$\n",
    "\n",
    "where $Y_0$ is a constant that depends on the number of degrees of freedom, $\\chi^2$ is the chi-square statistic, $v$ = n - 1 is the number of degrees of freedom. $Y_0$ is defined, so that the area under the chi-square curve is equal to one.\n",
    "\n",
    "The chi-square distribution has the following properties: \n",
    "* The mean of the distribution is equal to the number of degrees of freedom: μ = $v$.\n",
    "* The variance is equal to two times the number of degrees of freedom: σ2 = $2v$\n",
    "* When the degrees of freedom are greater than or equal to 2, the maximum value for $Y$ occurs when $\\chi^2 = v - 2$.\n",
    "* As the degrees of freedom increase, the chi-square curve approaches a normal distribution."
   ]
  },
  {
   "cell_type": "markdown",
   "metadata": {},
   "source": [
    "The random.chisquare function takes at least 1 argument, the degrees of freedom $df$. In return, draws one number from the Chi Squared distribution."
   ]
  },
  {
   "cell_type": "code",
   "execution_count": 23,
   "metadata": {},
   "outputs": [
    {
     "data": {
      "text/plain": [
       "2.642786592444652"
      ]
     },
     "execution_count": 23,
     "metadata": {},
     "output_type": "execute_result"
    }
   ],
   "source": [
    "np.random.chisquare(2)"
   ]
  },
  {
   "cell_type": "markdown",
   "metadata": {},
   "source": [
    "With two arguments, the function draws an amount of samples specified by the second argument where the degrees of freedom ($df$) are provided by the first argument."
   ]
  },
  {
   "cell_type": "code",
   "execution_count": 24,
   "metadata": {},
   "outputs": [
    {
     "data": {
      "text/plain": [
       "array([0.86169229, 1.0737277 , 1.66946312, 1.47716598])"
      ]
     },
     "execution_count": 24,
     "metadata": {},
     "output_type": "execute_result"
    }
   ],
   "source": [
    "np.random.chisquare(6,4)"
   ]
  },
  {
   "cell_type": "markdown",
   "metadata": {},
   "source": [
    "Below is histogram plot with 1000 samples and $df$ and is 6"
   ]
  },
  {
   "cell_type": "code",
   "execution_count": 25,
   "metadata": {},
   "outputs": [
    {
     "data": {
      "text/plain": [
       "(array([156., 272., 252., 156.,  80.,  41.,  23.,   9.,   7.,   4.]),\n",
       " array([ 0.05194169,  2.0184123 ,  3.98488291,  5.95135352,  7.91782413,\n",
       "         9.88429473, 11.85076534, 13.81723595, 15.78370656, 17.75017717,\n",
       "        19.71664778]),\n",
       " <a list of 10 Patch objects>)"
      ]
     },
     "execution_count": 25,
     "metadata": {},
     "output_type": "execute_result"
    },
    {
     "data": {
      "image/png": "[encoded data removed]",
      "text/plain": [
       "<Figure size 432x288 with 1 Axes>"
      ]
     },
     "metadata": {},
     "output_type": "display_data"
    }
   ],
   "source": [
    "x = np.random.chisquare(6,1000)\n",
    "plt.hist(x)"
   ]
  },
  {
   "cell_type": "markdown",
   "metadata": {},
   "source": [
    "## Pareto Distribution\n",
    "The Pareto distribution is a probability distribution that seeks to describe quantities which have a particular property: namely, that a few items account for a lot of it and a lot of items account for a little of it."
   ]
  },
  {
   "cell_type": "markdown",
   "metadata": {},
   "source": [
    "The distribution can be defined by the following survival function (also called tail function):  \n",
    "$${\\displaystyle {\\overline {F}}(x)=\\Pr(X>x)={\\begin{cases}\\left({\\frac {x_{\\mathrm {m} }}{x}}\\right)^{\\alpha }&x\\geq x_{\\mathrm {m} },\\\\0&x<x_{\\mathrm {m} },\\end{cases}}}$$\n",
    "\n",
    "* X is a random variable with a Pareto distribution. The probability that X is greater than some number x. \n",
    "* $x_m$ is the (necessarily positive) minimum possible value of X. The Pareto distribution is characterized by $x_m$.\n",
    "* α is shape parameter, which is known as the tail index."
   ]
  },
  {
   "cell_type": "markdown",
   "metadata": {},
   "source": [
    "A well known example of the Pareto distribution is that 20 percent of the people control 80 percent of the wealth (which itself is sometimes called the Pareto principle), is another statement of the fact that the allocation of income could be Pareto distributed.  \n",
    "Some other examples:\n",
    "* business: the top few customers account for a bulk of the profits\n",
    "* insurance: a small number of big claims account for a bulk of payments\n",
    "* settlement: a small number of cities include a bulk of the population\n",
    "* languages: the most frequent words account for most words in books\n",
    "* gardening: a select few pods account for most of the peas\n",
    "* software: a small number of bugs account for most of the crashes"
   ]
  },
  {
   "cell_type": "markdown",
   "metadata": {},
   "source": [
    "The random.pareto function takes at least 1 argument, α the shape parameter, which is known as the tail index. In return, draws one number from the pareto distribution."
   ]
  },
  {
   "cell_type": "code",
   "execution_count": 26,
   "metadata": {},
   "outputs": [
    {
     "data": {
      "text/plain": [
       "0.09230615253605046"
      ]
     },
     "execution_count": 26,
     "metadata": {},
     "output_type": "execute_result"
    }
   ],
   "source": [
    "np.random.pareto(3)"
   ]
  },
  {
   "cell_type": "markdown",
   "metadata": {},
   "source": [
    "With two arguments, the function draws an amount of samples specified by the second argument where shape (α) is provided by the first argument."
   ]
  },
  {
   "cell_type": "code",
   "execution_count": 27,
   "metadata": {},
   "outputs": [
    {
     "data": {
      "text/plain": [
       "array([1.02587042, 0.03136082, 0.14836598, 7.29019923, 0.74425969])"
      ]
     },
     "execution_count": 27,
     "metadata": {},
     "output_type": "execute_result"
    }
   ],
   "source": [
    "np.random.pareto(3,5)"
   ]
  },
  {
   "cell_type": "markdown",
   "metadata": {},
   "source": [
    "Below is histogram plot with 1000 samples and α and is 3"
   ]
  },
  {
   "cell_type": "code",
   "execution_count": 28,
   "metadata": {},
   "outputs": [
    {
     "data": {
      "text/plain": [
       "(array([778., 150.,  34.,  18.,   7.,   5.,   4.,   1.,   1.,   2.]),\n",
       " array([9.88386537e-06, 6.38510333e-01, 1.27701078e+00, 1.91551123e+00,\n",
       "        2.55401168e+00, 3.19251213e+00, 3.83101258e+00, 4.46951303e+00,\n",
       "        5.10801348e+00, 5.74651393e+00, 6.38501438e+00]),\n",
       " <a list of 10 Patch objects>)"
      ]
     },
     "execution_count": 28,
     "metadata": {},
     "output_type": "execute_result"
    },
    {
     "data": {
      "image/png": "[encoded data removed]",
      "text/plain": [
       "<Figure size 432x288 with 1 Axes>"
      ]
     },
     "metadata": {},
     "output_type": "display_data"
    }
   ],
   "source": [
    "x = np.random.pareto(3, 1000)\n",
    "plt.hist(x)"
   ]
  },
  {
   "cell_type": "markdown",
   "metadata": {},
   "source": [
    "## Poisson Distribution\n",
    "\n",
    "The Poisson distribution is popular for modelling the number of times an event occurs in an interval of time or space."
   ]
  },
  {
   "cell_type": "markdown",
   "metadata": {},
   "source": [
    "An event can occur 0, 1, 2, … times in an interval. The average number of events in an interval is designated \n",
    "λ (lambda). Lambda is the event rate, also called the rate parameter. The probability of observing k events in an interval is given by the equation  \n",
    "$${\\displaystyle P(k{\\text{ events in interval}})=e^{-\\lambda }{\\frac {\\lambda ^{k}}{k!}}}$$\n",
    "\n",
    "where \n",
    "* λ is the average number of events per interval\n",
    "* $e$ is the number 2.71828... (Euler's number) the base of the natural logarithms\n",
    "* $k$ takes values 0, 1, 2, …\n",
    "* $k! = k × (k − 1) × (k − 2) × … × 2 × 1$ is the factorial of $k$."
   ]
  },
  {
   "cell_type": "markdown",
   "metadata": {},
   "source": [
    "For example, the average number of goals in a World Cup soccer match is approximately 2.5 and the Poisson model is appropriate.\n",
    "Because the average event rate is 2.5 goals per match, λ = 2.5. \n",
    "\n",
    "\\begin{align}\n",
    "& {\\displaystyle P(k{\\text{ goals in a match}})={\\frac {2.5^{k}e^{-2.5}}{k!}}}  \\\\\n",
    "& {\\displaystyle P(k=0{\\text{ goals in a match}})={\\frac {2.5^{0}e^{-2.5}}{0!}}={\\frac {e^{-2.5}}{1}}\\approx 0.082} \\\\\n",
    "& {\\displaystyle P(k=1{\\text{ goal in a match}})={\\frac {2.5^{1}e^{-2.5}}{1!}}={\\frac {2.5e^{-2.5}}{1}}\\approx 0.205} \\\\\n",
    "& {\\displaystyle P(k=2{\\text{ goals in a match}})={\\frac {2.5^{2}e^{-2.5}}{2!}}={\\frac {6.25e^{-2.5}}{2}}\\approx 0.257}\n",
    "\\end{align}\n",
    "\n",
    "The table below gives the probability for 0 to 7 goals in a match.  \n",
    "\n",
    "k | P(k goals in a World Cup soccer match)\n",
    "--- | ---\n",
    "0 | 0.082 \n",
    "1 | 0.205 \n",
    "2 | 0.257 \n",
    "3 | 0.213 \n",
    "4 | 0.133 \n",
    "5 | 0.067 \n",
    "6 | 0.028 \n",
    "7 | 0.010"
   ]
  },
  {
   "cell_type": "markdown",
   "metadata": {},
   "source": [
    "The random.poisson function without arguments draws a sample where the average lambda $(\\lambda)$ is 1 "
   ]
  },
  {
   "cell_type": "code",
   "execution_count": 29,
   "metadata": {},
   "outputs": [
    {
     "data": {
      "text/plain": [
       "2"
      ]
     },
     "execution_count": 29,
     "metadata": {},
     "output_type": "execute_result"
    }
   ],
   "source": [
    "np.random.poisson()"
   ]
  },
  {
   "cell_type": "markdown",
   "metadata": {},
   "source": [
    "With one argument, the function draws a number where the argument is the average lambda $(\\lambda)$"
   ]
  },
  {
   "cell_type": "code",
   "execution_count": 30,
   "metadata": {},
   "outputs": [
    {
     "data": {
      "text/plain": [
       "1"
      ]
     },
     "execution_count": 30,
     "metadata": {},
     "output_type": "execute_result"
    }
   ],
   "source": [
    "np.random.poisson(2.5)"
   ]
  },
  {
   "cell_type": "markdown",
   "metadata": {},
   "source": [
    "With two arguments, the function draws an amount of samples specified by the second argument where  average lambda \n",
    "($\\lambda$) is provided by the first argument"
   ]
  },
  {
   "cell_type": "code",
   "execution_count": 31,
   "metadata": {},
   "outputs": [
    {
     "data": {
      "text/plain": [
       "array([2, 2, 3, 6, 1, 2, 3, 6, 1, 3])"
      ]
     },
     "execution_count": 31,
     "metadata": {},
     "output_type": "execute_result"
    }
   ],
   "source": [
    "np.random.poisson(2.5,10)"
   ]
  },
  {
   "cell_type": "markdown",
   "metadata": {},
   "source": [
    "Below is histogram plot with 1000 samples and $\\lambda$ is 2.5"
   ]
  },
  {
   "cell_type": "code",
   "execution_count": 32,
   "metadata": {},
   "outputs": [
    {
     "data": {
      "text/plain": [
       "(array([ 89., 175., 261., 204., 161.,  72.,  28.,   8.,   1.,   1.]),\n",
       " array([0. , 0.9, 1.8, 2.7, 3.6, 4.5, 5.4, 6.3, 7.2, 8.1, 9. ]),\n",
       " <a list of 10 Patch objects>)"
      ]
     },
     "execution_count": 32,
     "metadata": {},
     "output_type": "execute_result"
    },
    {
     "data": {
      "image/png": "[encoded data removed]",
      "text/plain": [
       "<Figure size 432x288 with 1 Axes>"
      ]
     },
     "metadata": {},
     "output_type": "display_data"
    }
   ],
   "source": [
    "x = np.random.poisson(2.5,1000)\n",
    "plt.hist(x)"
   ]
  },
  {
   "cell_type": "markdown",
   "metadata": {},
   "source": [
    "## Random Seeds\n",
    "A random seed (or seed state, or just seed) is a number used to initialize a pseudorandom number generator. Random seeds are often generated from the state of the computer system, such as the time.  \n",
    "A pseudorandom number generator is an algorithm for generating a sequence of numbers whose properties approximate the properties of sequences of random numbers. The pseudorandom-generated sequence is not truly random, because it is completely determined by an initial value, the seed.  \n",
    "If the seed is fixed, the same series of pseudorandom numbers are going to be generated. This is useful for debugging and testing programs that use random numbers"
   ]
  },
  {
   "cell_type": "markdown",
   "metadata": {},
   "source": [
    "By default Python uses a fraction of time to set the seed, usually microseconds at runtime. Let's compare calls to the 'rand()' function without and with a fixed seed."
   ]
  },
  {
   "cell_type": "code",
   "execution_count": 33,
   "metadata": {},
   "outputs": [
    {
     "data": {
      "text/plain": [
       "0.9082309078759123"
      ]
     },
     "execution_count": 33,
     "metadata": {},
     "output_type": "execute_result"
    }
   ],
   "source": [
    "np.random.rand()"
   ]
  },
  {
   "cell_type": "markdown",
   "metadata": {},
   "source": [
    "Let's fixed the seed to a fixed value and call 'rand()' again"
   ]
  },
  {
   "cell_type": "code",
   "execution_count": 34,
   "metadata": {},
   "outputs": [
    {
     "data": {
      "text/plain": [
       "0.9670298390136767"
      ]
     },
     "execution_count": 34,
     "metadata": {},
     "output_type": "execute_result"
    }
   ],
   "source": [
    "np.random.seed(4)\n",
    "np.random.rand()"
   ]
  },
  {
   "cell_type": "markdown",
   "metadata": {},
   "source": [
    "Let's use time as seed again an"
   ]
  },
  {
   "cell_type": "code",
   "execution_count": 35,
   "metadata": {},
   "outputs": [
    {
     "data": {
      "text/plain": [
       "0.07136078508524879"
      ]
     },
     "execution_count": 35,
     "metadata": {},
     "output_type": "execute_result"
    }
   ],
   "source": [
    "np.random.seed()\n",
    "np.random.rand()"
   ]
  },
  {
   "cell_type": "markdown",
   "metadata": {},
   "source": [
    "Now, let's set the seed value to 4 again and we'll see it generate the same value as before:"
   ]
  },
  {
   "cell_type": "code",
   "execution_count": 36,
   "metadata": {},
   "outputs": [
    {
     "data": {
      "text/plain": [
       "0.9670298390136767"
      ]
     },
     "execution_count": 36,
     "metadata": {},
     "output_type": "execute_result"
    }
   ],
   "source": [
    "np.random.seed(4)\n",
    "np.random.rand()"
   ]
  }
 ],
 "metadata": {
  "kernelspec": {
   "display_name": "Python 3",
   "language": "python",
   "name": "python3"
  },
  "language_info": {
   "codemirror_mode": {
    "name": "ipython",
    "version": 3
   },
   "file_extension": ".py",
   "mimetype": "text/x-python",
   "name": "python",
   "nbconvert_exporter": "python",
   "pygments_lexer": "ipython3",
   "version": "3.6.5"
  }
 },
 "nbformat": 4,
 "nbformat_minor": 2
}
