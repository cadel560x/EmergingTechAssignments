{
 "cells": [
  {
   "cell_type": "markdown",
   "metadata": {},
   "source": [
    "# The numpy.random package"
   ]
  },
  {
   "cell_type": "markdown",
   "metadata": {},
   "source": [
    "## The numpy.random.rand function"
   ]
  },
  {
   "cell_type": "markdown",
   "metadata": {},
   "source": [
    "It returns random numbers between 0 (inclusive) and 1 (excluded) from a uniform distribution, that is, that all numbers have the same chance of being generated. Some examples of the rand() function."
   ]
  },
  {
   "cell_type": "code",
   "execution_count": 1,
   "metadata": {},
   "outputs": [],
   "source": [
    "import numpy as np"
   ]
  },
  {
   "cell_type": "markdown",
   "metadata": {},
   "source": [
    "Without arguments returns a single random number."
   ]
  },
  {
   "cell_type": "code",
   "execution_count": 2,
   "metadata": {},
   "outputs": [
    {
     "data": {
      "text/plain": [
       "0.05365378341791405"
      ]
     },
     "execution_count": 2,
     "metadata": {},
     "output_type": "execute_result"
    }
   ],
   "source": [
    "np.random.rand()"
   ]
  },
  {
   "cell_type": "markdown",
   "metadata": {},
   "source": [
    "With one argument, returns one row of the specified amount of random numbers"
   ]
  },
  {
   "cell_type": "code",
   "execution_count": 3,
   "metadata": {},
   "outputs": [
    {
     "data": {
      "text/plain": [
       "array([0.11611908, 0.07711924, 0.75198209, 0.48676476])"
      ]
     },
     "execution_count": 3,
     "metadata": {},
     "output_type": "execute_result"
    }
   ],
   "source": [
    "np.random.rand(4)"
   ]
  },
  {
   "cell_type": "markdown",
   "metadata": {},
   "source": [
    "Two or more arguments specify the dimensions of a random number matrix of n dimensions.  \n",
    "The following example creates a 3rows x 2columns bi-dimensional matrix of random numbers."
   ]
  },
  {
   "cell_type": "code",
   "execution_count": 4,
   "metadata": {},
   "outputs": [
    {
     "data": {
      "text/plain": [
       "array([[0.12523351, 0.08515411],\n",
       "       [0.6761377 , 0.90811181],\n",
       "       [0.04402708, 0.19925289]])"
      ]
     },
     "execution_count": 4,
     "metadata": {},
     "output_type": "execute_result"
    }
   ],
   "source": [
    "np.random.rand(3,2)"
   ]
  },
  {
   "cell_type": "markdown",
   "metadata": {},
   "source": [
    "This is for a 3 dimensinal matrix"
   ]
  },
  {
   "cell_type": "code",
   "execution_count": 5,
   "metadata": {},
   "outputs": [
    {
     "data": {
      "text/plain": [
       "array([[[0.9734812 , 0.82229309, 0.00606017, 0.34596039],\n",
       "        [0.86484611, 0.11116029, 0.35070214, 0.02553419],\n",
       "        [0.13755202, 0.03771281, 0.0570595 , 0.7303547 ]],\n",
       "\n",
       "       [[0.57969762, 0.45755892, 0.50656647, 0.7579635 ],\n",
       "        [0.98236205, 0.49570629, 0.64014255, 0.47686059],\n",
       "        [0.76293793, 0.84891731, 0.76900839, 0.6493399 ]]])"
      ]
     },
     "execution_count": 5,
     "metadata": {},
     "output_type": "execute_result"
    }
   ],
   "source": [
    "np.random.rand(2,3,4)"
   ]
  },
  {
   "cell_type": "markdown",
   "metadata": {},
   "source": [
    "More dimensions can be added:"
   ]
  },
  {
   "cell_type": "code",
   "execution_count": 6,
   "metadata": {
    "scrolled": true
   },
   "outputs": [
    {
     "data": {
      "text/plain": [
       "array([[[[0.76281877, 0.51801955, 0.46673716, 0.08832194, 0.30274832],\n",
       "         [0.63903007, 0.19240747, 0.10735977, 0.98922775, 0.98481385],\n",
       "         [0.68007153, 0.50353819, 0.82469313, 0.51288498, 0.32328676],\n",
       "         [0.62253988, 0.91292007, 0.12030053, 0.56844186, 0.17002201]],\n",
       "\n",
       "        [[0.23637095, 0.11686269, 0.27392284, 0.76544726, 0.95591765],\n",
       "         [0.80606608, 0.05585746, 0.05609191, 0.49912095, 0.43090565],\n",
       "         [0.03346293, 0.89921792, 0.78091661, 0.9900301 , 0.31715131],\n",
       "         [0.79695277, 0.75721134, 0.10133494, 0.580101  , 0.60093609]],\n",
       "\n",
       "        [[0.05578646, 0.99411695, 0.20600344, 0.33400979, 0.71631223],\n",
       "         [0.33485493, 0.61712589, 0.13311179, 0.69812659, 0.61131485],\n",
       "         [0.5947456 , 0.57471923, 0.73214512, 0.20807757, 0.62621897],\n",
       "         [0.965581  , 0.79958609, 0.20081276, 0.25216726, 0.82240054]]],\n",
       "\n",
       "\n",
       "       [[[0.05614221, 0.75946365, 0.3649484 , 0.27733287, 0.95288543],\n",
       "         [0.84872966, 0.40472878, 0.67905516, 0.57613737, 0.88589862],\n",
       "         [0.35851577, 0.92594058, 0.63341929, 0.12155174, 0.13134074],\n",
       "         [0.13223809, 0.0733264 , 0.60747404, 0.38151447, 0.23015629]],\n",
       "\n",
       "        [[0.09558   , 0.44590141, 0.94120034, 0.01744181, 0.70120258],\n",
       "         [0.05720483, 0.81202145, 0.56674434, 0.60002946, 0.62664097],\n",
       "         [0.08837851, 0.33062026, 0.79455172, 0.39954275, 0.0717206 ],\n",
       "         [0.93617264, 0.15294568, 0.68851627, 0.32579641, 0.49625165]],\n",
       "\n",
       "        [[0.37848699, 0.73829196, 0.79502226, 0.46308577, 0.24370037],\n",
       "         [0.12629725, 0.45386471, 0.32899353, 0.67178846, 0.22083343],\n",
       "         [0.79890122, 0.79303581, 0.52829813, 0.33265571, 0.22656891],\n",
       "         [0.01713345, 0.0938522 , 0.3841246 , 0.56747091, 0.63595027]]]])"
      ]
     },
     "execution_count": 6,
     "metadata": {},
     "output_type": "execute_result"
    }
   ],
   "source": [
    "np.random.rand(2,3,4,5)"
   ]
  },
  {
   "cell_type": "markdown",
   "metadata": {},
   "source": [
    "## Some plots"
   ]
  },
  {
   "cell_type": "code",
   "execution_count": 7,
   "metadata": {},
   "outputs": [],
   "source": [
    "import matplotlib.pyplot as plt"
   ]
  },
  {
   "cell_type": "markdown",
   "metadata": {},
   "source": [
    "### Histograms"
   ]
  },
  {
   "cell_type": "code",
   "execution_count": 8,
   "metadata": {},
   "outputs": [],
   "source": [
    "x = np.random.rand(10000)"
   ]
  },
  {
   "cell_type": "code",
   "execution_count": 9,
   "metadata": {},
   "outputs": [
    {
     "data": {
      "text/plain": [
       "(array([ 952., 1002.,  970., 1040., 1036.,  989., 1000.,  975., 1037.,\n",
       "         999.]),\n",
       " array([5.34067690e-06, 9.99766413e-02, 1.99947942e-01, 2.99919243e-01,\n",
       "        3.99890543e-01, 4.99861844e-01, 5.99833144e-01, 6.99804445e-01,\n",
       "        7.99775746e-01, 8.99747046e-01, 9.99718347e-01]),\n",
       " <a list of 10 Patch objects>)"
      ]
     },
     "execution_count": 9,
     "metadata": {},
     "output_type": "execute_result"
    },
    {
     "data": {
      "image/png": "[encoded data removed]",
      "text/plain": [
       "<Figure size 432x288 with 1 Axes>"
      ]
     },
     "metadata": {},
     "output_type": "display_data"
    }
   ],
   "source": [
    "plt.hist(x)"
   ]
  },
  {
   "cell_type": "markdown",
   "metadata": {},
   "source": [
    "## Random Distributions"
   ]
  },
  {
   "cell_type": "markdown",
   "metadata": {},
   "source": [
    "### Uniform distribution\n",
    "Is very similar to the function numpy.random.rand, but it allows to specify different sampling intervals, not only between 0 and 1.  \n",
    "Without arguments it behaves like numpy.random.rand"
   ]
  },
  {
   "cell_type": "code",
   "execution_count": 10,
   "metadata": {},
   "outputs": [
    {
     "data": {
      "text/plain": [
       "0.2338128507993107"
      ]
     },
     "execution_count": 10,
     "metadata": {},
     "output_type": "execute_result"
    }
   ],
   "source": [
    "np.random.uniform()"
   ]
  },
  {
   "cell_type": "markdown",
   "metadata": {},
   "source": [
    "With one argument, it generates a random number between 0 and the passed argument"
   ]
  },
  {
   "cell_type": "code",
   "execution_count": 11,
   "metadata": {},
   "outputs": [
    {
     "data": {
      "text/plain": [
       "4.358134767628918"
      ]
     },
     "execution_count": 11,
     "metadata": {},
     "output_type": "execute_result"
    }
   ],
   "source": [
    "np.random.uniform(5)"
   ]
  },
  {
   "cell_type": "markdown",
   "metadata": {},
   "source": [
    "With two arguments, it generates a random number between the first and second argument"
   ]
  },
  {
   "cell_type": "code",
   "execution_count": 12,
   "metadata": {},
   "outputs": [
    {
     "data": {
      "text/plain": [
       "63.514174653217225"
      ]
     },
     "execution_count": 12,
     "metadata": {},
     "output_type": "execute_result"
    }
   ],
   "source": [
    "np.random.uniform(0.0, 100.0)"
   ]
  },
  {
   "cell_type": "markdown",
   "metadata": {},
   "source": [
    "With three arguments, it generates an amount of random numbers specified by the third argument; between the first and second argument"
   ]
  },
  {
   "cell_type": "code",
   "execution_count": 13,
   "metadata": {},
   "outputs": [
    {
     "data": {
      "text/plain": [
       "array([-0.29004868, -0.3365112 , -0.75130356, -0.18755636, -0.03725248,\n",
       "       -0.53223408, -0.35469845, -0.67296026, -0.28343307, -0.06843236])"
      ]
     },
     "execution_count": 13,
     "metadata": {},
     "output_type": "execute_result"
    }
   ],
   "source": [
    "np.random.uniform(-1,0,10)"
   ]
  },
  {
   "cell_type": "markdown",
   "metadata": {},
   "source": [
    "A histogram plot of the uniform distribution:"
   ]
  },
  {
   "cell_type": "code",
   "execution_count": 14,
   "metadata": {},
   "outputs": [
    {
     "data": {
      "text/plain": [
       "(array([ 984.,  957., 1014., 1038.,  966.,  958., 1017., 1019., 1027.,\n",
       "        1020.]),\n",
       " array([1.56908884e-02, 1.00013697e+02, 2.00011703e+02, 3.00009708e+02,\n",
       "        4.00007714e+02, 5.00005720e+02, 6.00003726e+02, 7.00001732e+02,\n",
       "        7.99999738e+02, 8.99997743e+02, 9.99995749e+02]),\n",
       " <a list of 10 Patch objects>)"
      ]
     },
     "execution_count": 14,
     "metadata": {},
     "output_type": "execute_result"
    },
    {
     "data": {
      "image/png": "[encoded data removed]",
      "text/plain": [
       "<Figure size 432x288 with 1 Axes>"
      ]
     },
     "metadata": {},
     "output_type": "display_data"
    }
   ],
   "source": [
    "x = np.random.uniform(0,1000,10000)\n",
    "plt.hist(x)"
   ]
  },
  {
   "cell_type": "markdown",
   "metadata": {},
   "source": [
    "### Normal Distribution\n",
    "It draws samples from a normal distribution. It has three arguments. The first one is the center of the distribution, oftenly called 'mu' and is the mean, median and mode of it. The second parameter is the standard deviation and specifies the width of the distribution. It is three times the value of the std dev to the right and three times its value to the left too. The last argument is optional and specifies how many samples to draw.  \n",
    "With two arguments draws a sample from the space between the center (or loc) and three times the standard deviation, it could be to the right or to the left:"
   ]
  },
  {
   "cell_type": "code",
   "execution_count": 15,
   "metadata": {},
   "outputs": [
    {
     "data": {
      "text/plain": [
       "8.964314203021381"
      ]
     },
     "execution_count": 15,
     "metadata": {},
     "output_type": "execute_result"
    }
   ],
   "source": [
    "np.random.normal(7,1)"
   ]
  },
  {
   "cell_type": "markdown",
   "metadata": {},
   "source": [
    "With three arguments, the first two arguments behave like before and the third argument specifies the amount of samples to draw:"
   ]
  },
  {
   "cell_type": "code",
   "execution_count": 16,
   "metadata": {},
   "outputs": [
    {
     "data": {
      "text/plain": [
       "array([8.54346249, 5.90626706, 6.27856072, 7.63145759, 7.41338366,\n",
       "       6.28867199, 8.13586882, 7.02557581, 5.89192358, 7.49595461])"
      ]
     },
     "execution_count": 16,
     "metadata": {},
     "output_type": "execute_result"
    }
   ],
   "source": [
    "np.random.normal(7,1,10)"
   ]
  },
  {
   "cell_type": "markdown",
   "metadata": {},
   "source": [
    "Below are some histogram plots of the normal distribution changing the function arguments.  \n",
    "Base example:"
   ]
  },
  {
   "cell_type": "code",
   "execution_count": 17,
   "metadata": {},
   "outputs": [
    {
     "data": {
      "text/plain": [
       "(array([1.000e+00, 2.100e+01, 2.160e+02, 1.041e+03, 2.580e+03, 3.295e+03,\n",
       "        2.111e+03, 6.320e+02, 9.600e+01, 7.000e+00]),\n",
       " array([-0.45790214, -0.37195386, -0.28600558, -0.2000573 , -0.11410902,\n",
       "        -0.02816075,  0.05778753,  0.14373581,  0.22968409,  0.31563237,\n",
       "         0.40158065]),\n",
       " <a list of 10 Patch objects>)"
      ]
     },
     "execution_count": 17,
     "metadata": {},
     "output_type": "execute_result"
    },
    {
     "data": {
      "image/png": "[encoded data removed]",
      "text/plain": [
       "<Figure size 432x288 with 1 Axes>"
      ]
     },
     "metadata": {},
     "output_type": "display_data"
    }
   ],
   "source": [
    "x = np.random.normal(0,0.1,10000)\n",
    "plt.hist(x)"
   ]
  },
  {
   "cell_type": "markdown",
   "metadata": {},
   "source": [
    "Changing the first argument ('center' or 'loc'):"
   ]
  },
  {
   "cell_type": "code",
   "execution_count": 18,
   "metadata": {},
   "outputs": [
    {
     "data": {
      "text/plain": [
       "(array([3.500e+01, 3.140e+02, 1.494e+03, 3.084e+03, 3.123e+03, 1.543e+03,\n",
       "        3.610e+02, 4.400e+01, 1.000e+00, 1.000e+00]),\n",
       " array([7.64675945, 7.73472362, 7.8226878 , 7.91065198, 7.99861615,\n",
       "        8.08658033, 8.17454451, 8.26250868, 8.35047286, 8.43843704,\n",
       "        8.52640122]),\n",
       " <a list of 10 Patch objects>)"
      ]
     },
     "execution_count": 18,
     "metadata": {},
     "output_type": "execute_result"
    },
    {
     "data": {
      "image/png": "[encoded data removed]",
      "text/plain": [
       "<Figure size 432x288 with 1 Axes>"
      ]
     },
     "metadata": {},
     "output_type": "display_data"
    }
   ],
   "source": [
    "x = np.random.normal(8,0.1,10000)\n",
    "plt.hist(x)"
   ]
  },
  {
   "cell_type": "markdown",
   "metadata": {},
   "source": [
    "Changing the second argument ('standard devtiation' or 'spread'):"
   ]
  },
  {
   "cell_type": "code",
   "execution_count": 19,
   "metadata": {},
   "outputs": [
    {
     "data": {
      "text/plain": [
       "(array([   5.,   70.,  381., 1259., 2609., 2845., 1948.,  721.,  147.,\n",
       "          15.]), array([-24.07502322, -17.95690166, -11.83878011,  -5.72065855,\n",
       "          0.39746301,   6.51558456,  12.63370612,  18.75182767,\n",
       "         24.86994923,  30.98807078,  37.10619234]), <a list of 10 Patch objects>)"
      ]
     },
     "execution_count": 19,
     "metadata": {},
     "output_type": "execute_result"
    },
    {
     "data": {
      "image/png": "[encoded data removed]",
      "text/plain": [
       "<Figure size 432x288 with 1 Axes>"
      ]
     },
     "metadata": {},
     "output_type": "display_data"
    }
   ],
   "source": [
    "x = np.random.normal(8,8,10000)\n",
    "plt.hist(x)"
   ]
  },
  {
   "cell_type": "markdown",
   "metadata": {},
   "source": [
    "Changing the third argument, the amount of samples:"
   ]
  },
  {
   "cell_type": "code",
   "execution_count": 21,
   "metadata": {},
   "outputs": [
    {
     "data": {
      "text/plain": [
       "(array([ 1.,  0.,  5.,  7., 20., 20., 20., 17.,  8.,  2.]),\n",
       " array([-18.01987825, -13.29045929,  -8.56104033,  -3.83162137,\n",
       "          0.89779759,   5.62721656,  10.35663552,  15.08605448,\n",
       "         19.81547344,  24.5448924 ,  29.27431136]),\n",
       " <a list of 10 Patch objects>)"
      ]
     },
     "execution_count": 21,
     "metadata": {},
     "output_type": "execute_result"
    },
    {
     "data": {
      "image/png": "[encoded data removed]",
      "text/plain": [
       "<Figure size 432x288 with 1 Axes>"
      ]
     },
     "metadata": {},
     "output_type": "display_data"
    }
   ],
   "source": [
    "x = np.random.normal(8,8,100)\n",
    "plt.hist(x)"
   ]
  },
  {
   "cell_type": "code",
   "execution_count": null,
   "metadata": {},
   "outputs": [],
   "source": []
  }
 ],
 "metadata": {
  "kernelspec": {
   "display_name": "Python 3",
   "language": "python",
   "name": "python3"
  },
  "language_info": {
   "codemirror_mode": {
    "name": "ipython",
    "version": 3
   },
   "file_extension": ".py",
   "mimetype": "text/x-python",
   "name": "python",
   "nbconvert_exporter": "python",
   "pygments_lexer": "ipython3",
   "version": "3.6.5"
  }
 },
 "nbformat": 4,
 "nbformat_minor": 2
}
