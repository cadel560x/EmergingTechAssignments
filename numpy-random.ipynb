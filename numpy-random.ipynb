{
 "cells": [
  {
   "cell_type": "markdown",
   "metadata": {},
   "source": [
    "# The numpy.random package"
   ]
  },
  {
   "cell_type": "markdown",
   "metadata": {},
   "source": [
    "## The numpy.random.rand function"
   ]
  },
  {
   "cell_type": "markdown",
   "metadata": {},
   "source": [
    "It returns random numbers between 0 (inclusive) and 1 (excluded) from a uniform distribution, that is, that all numbers have the same chance of being generated. Some examples of the rand() function."
   ]
  },
  {
   "cell_type": "code",
   "execution_count": 1,
   "metadata": {},
   "outputs": [],
   "source": [
    "import numpy as np"
   ]
  },
  {
   "cell_type": "markdown",
   "metadata": {},
   "source": [
    "Without arguments returns a single random number."
   ]
  },
  {
   "cell_type": "code",
   "execution_count": 2,
   "metadata": {},
   "outputs": [
    {
     "data": {
      "text/plain": [
       "0.005328584057601171"
      ]
     },
     "execution_count": 2,
     "metadata": {},
     "output_type": "execute_result"
    }
   ],
   "source": [
    "np.random.rand()"
   ]
  },
  {
   "cell_type": "markdown",
   "metadata": {},
   "source": [
    "With one argument, returns one row of the specified amount of random numbers"
   ]
  },
  {
   "cell_type": "code",
   "execution_count": 3,
   "metadata": {},
   "outputs": [
    {
     "data": {
      "text/plain": [
       "array([0.63442374, 0.51618727, 0.45223267, 0.96478251])"
      ]
     },
     "execution_count": 3,
     "metadata": {},
     "output_type": "execute_result"
    }
   ],
   "source": [
    "np.random.rand(4)"
   ]
  },
  {
   "cell_type": "markdown",
   "metadata": {},
   "source": [
    "Two or more arguments specify the dimensions of a random number matrix of n dimensions.  \n",
    "The following example creates a 3rows x 2columns bi-dimensional matrix of random numbers."
   ]
  },
  {
   "cell_type": "code",
   "execution_count": 4,
   "metadata": {},
   "outputs": [
    {
     "data": {
      "text/plain": [
       "array([[0.29166854, 0.16371918],\n",
       "       [0.56298169, 0.40997407],\n",
       "       [0.80029308, 0.31065212]])"
      ]
     },
     "execution_count": 4,
     "metadata": {},
     "output_type": "execute_result"
    }
   ],
   "source": [
    "np.random.rand(3,2)"
   ]
  },
  {
   "cell_type": "markdown",
   "metadata": {},
   "source": [
    "This is for a 3 dimensinal matrix"
   ]
  },
  {
   "cell_type": "code",
   "execution_count": 5,
   "metadata": {},
   "outputs": [
    {
     "data": {
      "text/plain": [
       "array([[[0.47732449, 0.13735935, 0.67301647, 0.57646857],\n",
       "        [0.60550981, 0.29901855, 0.87209255, 0.08249109],\n",
       "        [0.86129209, 0.76636348, 0.31181819, 0.51645135]],\n",
       "\n",
       "       [[0.88541329, 0.29661669, 0.11538607, 0.61932106],\n",
       "        [0.73696073, 0.41779915, 0.8997377 , 0.5833815 ],\n",
       "        [0.27702261, 0.13465014, 0.22725234, 0.36747811]]])"
      ]
     },
     "execution_count": 5,
     "metadata": {},
     "output_type": "execute_result"
    }
   ],
   "source": [
    "np.random.rand(2,3,4)"
   ]
  },
  {
   "cell_type": "markdown",
   "metadata": {},
   "source": [
    "More dimensions can be added:"
   ]
  },
  {
   "cell_type": "code",
   "execution_count": 6,
   "metadata": {
    "scrolled": true
   },
   "outputs": [
    {
     "data": {
      "text/plain": [
       "array([[[[0.76230042, 0.17519778, 0.9366902 , 0.23380841, 0.10664666],\n",
       "         [0.84422572, 0.00470862, 0.72963228, 0.44416669, 0.43741486],\n",
       "         [0.51645493, 0.15668479, 0.81901725, 0.41500637, 0.9251447 ],\n",
       "         [0.32836843, 0.40838356, 0.37670253, 0.01750969, 0.39195106]],\n",
       "\n",
       "        [[0.94513701, 0.18826423, 0.37446961, 0.13638454, 0.44692382],\n",
       "         [0.86110566, 0.6856726 , 0.22611597, 0.74215299, 0.22205085],\n",
       "         [0.66285558, 0.47159252, 0.44339001, 0.28963026, 0.63400014],\n",
       "         [0.37517849, 0.46453812, 0.40772458, 0.95736187, 0.52228235]],\n",
       "\n",
       "        [[0.94550818, 0.0370717 , 0.33621704, 0.98917744, 0.69339964],\n",
       "         [0.44160176, 0.72810306, 0.27446521, 0.35913235, 0.27926869],\n",
       "         [0.61770052, 0.65361959, 0.80759351, 0.92082412, 0.30187033],\n",
       "         [0.01201624, 0.31118275, 0.64048165, 0.42308012, 0.23115113]]],\n",
       "\n",
       "\n",
       "       [[[0.5020419 , 0.8276478 , 0.00925762, 0.15594448, 0.49015851],\n",
       "         [0.81402997, 0.27858119, 0.01403387, 0.07939588, 0.51922028],\n",
       "         [0.96578011, 0.58435714, 0.48644929, 0.49849287, 0.51509088],\n",
       "         [0.86069698, 0.50881407, 0.96762586, 0.68324819, 0.88707594]],\n",
       "\n",
       "        [[0.67046303, 0.66330601, 0.46445038, 0.60705811, 0.73979867],\n",
       "         [0.11299898, 0.08974564, 0.71933509, 0.78879163, 0.53432311],\n",
       "         [0.7565146 , 0.20969681, 0.91163324, 0.00140655, 0.0786936 ],\n",
       "         [0.13898786, 0.00119258, 0.78234189, 0.58801447, 0.26412115]],\n",
       "\n",
       "        [[0.91907971, 0.94809546, 0.72752633, 0.11733511, 0.79318899],\n",
       "         [0.16305456, 0.96902185, 0.14196946, 0.04079944, 0.40987814],\n",
       "         [0.03579874, 0.394515  , 0.92324335, 0.51214914, 0.64107887],\n",
       "         [0.07715862, 0.86741532, 0.04511066, 0.95118974, 0.26704827]]]])"
      ]
     },
     "execution_count": 6,
     "metadata": {},
     "output_type": "execute_result"
    }
   ],
   "source": [
    "np.random.rand(2,3,4,5)"
   ]
  },
  {
   "cell_type": "markdown",
   "metadata": {},
   "source": [
    "## Random Distributions"
   ]
  },
  {
   "cell_type": "markdown",
   "metadata": {},
   "source": [
    "### Uniform distribution\n",
    "Is very similar to the function numpy.random.rand, but it allows to specify different sampling intervals, not only between 0 and 1."
   ]
  },
  {
   "cell_type": "markdown",
   "metadata": {},
   "source": [
    "Without arguments it behaves like numpy.random.rand"
   ]
  },
  {
   "cell_type": "code",
   "execution_count": 7,
   "metadata": {},
   "outputs": [
    {
     "data": {
      "text/plain": [
       "0.7183949191134389"
      ]
     },
     "execution_count": 7,
     "metadata": {},
     "output_type": "execute_result"
    }
   ],
   "source": [
    "np.random.uniform()"
   ]
  },
  {
   "cell_type": "markdown",
   "metadata": {},
   "source": [
    "With one argument, it generates a random number between 0 and the passed argument"
   ]
  },
  {
   "cell_type": "code",
   "execution_count": 8,
   "metadata": {},
   "outputs": [
    {
     "data": {
      "text/plain": [
       "2.018713203866142"
      ]
     },
     "execution_count": 8,
     "metadata": {},
     "output_type": "execute_result"
    }
   ],
   "source": [
    "np.random.uniform(5)"
   ]
  },
  {
   "cell_type": "markdown",
   "metadata": {},
   "source": [
    "With two arguments, it generates a random number between the first and second argument"
   ]
  },
  {
   "cell_type": "code",
   "execution_count": 9,
   "metadata": {},
   "outputs": [
    {
     "data": {
      "text/plain": [
       "54.94111050957914"
      ]
     },
     "execution_count": 9,
     "metadata": {},
     "output_type": "execute_result"
    }
   ],
   "source": [
    "np.random.uniform(0.0, 100.0)"
   ]
  },
  {
   "cell_type": "markdown",
   "metadata": {},
   "source": [
    "With three arguments, it generates an amount of random numbers specified by the third argument; between the first and second argument"
   ]
  },
  {
   "cell_type": "code",
   "execution_count": 10,
   "metadata": {},
   "outputs": [
    {
     "data": {
      "text/plain": [
       "array([-0.94119489, -0.31375667, -0.17163003, -0.94154783, -0.56829664,\n",
       "       -0.35836534, -0.44397066, -0.10902486, -0.3816791 , -0.41500953])"
      ]
     },
     "execution_count": 10,
     "metadata": {},
     "output_type": "execute_result"
    }
   ],
   "source": [
    "np.random.uniform(-1,0,10)"
   ]
  },
  {
   "cell_type": "markdown",
   "metadata": {},
   "source": [
    "A histogram plot of the uniform distribution:"
   ]
  },
  {
   "cell_type": "code",
   "execution_count": 11,
   "metadata": {},
   "outputs": [
    {
     "data": {
      "text/plain": [
       "(array([ 964., 1011.,  981.,  966., 1077., 1030.,  975., 1034.,  997.,\n",
       "         965.]),\n",
       " array([2.86194745e-01, 1.00247978e+02, 2.00209762e+02, 3.00171545e+02,\n",
       "        4.00133329e+02, 5.00095112e+02, 6.00056895e+02, 7.00018679e+02,\n",
       "        7.99980462e+02, 8.99942246e+02, 9.99904029e+02]),\n",
       " <a list of 10 Patch objects>)"
      ]
     },
     "execution_count": 11,
     "metadata": {},
     "output_type": "execute_result"
    }
   ],
   "source": [
    "import matplotlib.pyplot as plt\n",
    "x = np.random.uniform(0,1000,10000)\n",
    "plt.hist(x)"
   ]
  },
  {
   "cell_type": "markdown",
   "metadata": {},
   "source": [
    "### Normal Distribution\n",
    "It draws samples from a normal distribution. It has three arguments. The first one is the center of the distribution, oftenly called 'mu' and is the mean, median and mode of it. The second parameter is the standard deviation and specifies the width of the distribution. It is three times the value of the std dev to the right and three times its value to the left too. The last argument is optional and specifies how many samples to draw."
   ]
  },
  {
   "cell_type": "markdown",
   "metadata": {},
   "source": [
    "With no arguments draws a sample from the space space between 0 and three units distance, it could be to the right or to the left. So it's drawing samples using 0 as the mean and 1 as standard deviation:"
   ]
  },
  {
   "cell_type": "code",
   "execution_count": 12,
   "metadata": {},
   "outputs": [
    {
     "data": {
      "text/plain": [
       "-2.0321667258837404"
      ]
     },
     "execution_count": 12,
     "metadata": {},
     "output_type": "execute_result"
    }
   ],
   "source": [
    "np.random.normal()"
   ]
  },
  {
   "cell_type": "markdown",
   "metadata": {},
   "source": [
    "With one argument draws a sample using the argument as the mean and 1 as standard deviation:"
   ]
  },
  {
   "cell_type": "code",
   "execution_count": 13,
   "metadata": {},
   "outputs": [
    {
     "data": {
      "text/plain": [
       "5.303293257594133"
      ]
     },
     "execution_count": 13,
     "metadata": {},
     "output_type": "execute_result"
    }
   ],
   "source": [
    "np.random.normal(5)"
   ]
  },
  {
   "cell_type": "markdown",
   "metadata": {},
   "source": [
    "With two arguments draws a sample using the first argument as the mean and the second as the standard deviation:"
   ]
  },
  {
   "cell_type": "code",
   "execution_count": 14,
   "metadata": {},
   "outputs": [
    {
     "data": {
      "text/plain": [
       "5.032685554591378"
      ]
     },
     "execution_count": 14,
     "metadata": {},
     "output_type": "execute_result"
    }
   ],
   "source": [
    "np.random.normal(7,2)"
   ]
  },
  {
   "cell_type": "markdown",
   "metadata": {},
   "source": [
    "With three arguments, the first two arguments behave like before and the third argument specifies the amount of samples to draw:"
   ]
  },
  {
   "cell_type": "code",
   "execution_count": 15,
   "metadata": {},
   "outputs": [
    {
     "data": {
      "text/plain": [
       "array([6.01622852, 6.81176945, 6.62794683, 8.81311188, 7.3030006 ,\n",
       "       7.20890718, 9.31322079, 7.51584379, 5.95551843, 6.44118926])"
      ]
     },
     "execution_count": 15,
     "metadata": {},
     "output_type": "execute_result"
    }
   ],
   "source": [
    "np.random.normal(7,1,10)"
   ]
  },
  {
   "cell_type": "markdown",
   "metadata": {},
   "source": [
    "Below are some histogram plots of the normal distribution changing the function arguments.  \n",
    "Base example:"
   ]
  },
  {
   "cell_type": "code",
   "execution_count": 16,
   "metadata": {},
   "outputs": [
    {
     "data": {
      "text/plain": [
       "(array([  12.,  116.,  517., 1485., 2611., 2626., 1732.,  720.,  156.,\n",
       "          25.]),\n",
       " array([-0.36306798, -0.29176856, -0.22046914, -0.14916972, -0.0778703 ,\n",
       "        -0.00657088,  0.06472854,  0.13602796,  0.20732738,  0.2786268 ,\n",
       "         0.34992622]),\n",
       " <a list of 10 Patch objects>)"
      ]
     },
     "execution_count": 16,
     "metadata": {},
     "output_type": "execute_result"
    },
    {
     "data": {
      "image/png": "[encoded data removed]",
      "text/plain": [
       "<Figure size 432x288 with 1 Axes>"
      ]
     },
     "metadata": {},
     "output_type": "display_data"
    }
   ],
   "source": [
    "x = np.random.normal(0,0.1,10000)\n",
    "plt.hist(x)"
   ]
  },
  {
   "cell_type": "markdown",
   "metadata": {},
   "source": [
    "Changing the first argument ('center' or 'loc'):"
   ]
  },
  {
   "cell_type": "code",
   "execution_count": 17,
   "metadata": {},
   "outputs": [
    {
     "data": {
      "text/plain": [
       "(array([   6.,   41.,  281., 1067., 2355., 2977., 2104.,  913.,  218.,\n",
       "          38.]),\n",
       " array([7.58945306, 7.66526219, 7.74107132, 7.81688045, 7.89268958,\n",
       "        7.96849871, 8.04430784, 8.12011697, 8.1959261 , 8.27173523,\n",
       "        8.34754436]),\n",
       " <a list of 10 Patch objects>)"
      ]
     },
     "execution_count": 17,
     "metadata": {},
     "output_type": "execute_result"
    },
    {
     "data": {
      "image/png": "[encoded data removed]",
      "text/plain": [
       "<Figure size 432x288 with 1 Axes>"
      ]
     },
     "metadata": {},
     "output_type": "display_data"
    }
   ],
   "source": [
    "x = np.random.normal(8,0.1,10000)\n",
    "plt.hist(x)"
   ]
  },
  {
   "cell_type": "markdown",
   "metadata": {},
   "source": [
    "Changing the second argument ('standard devtiation' or 'spread'):"
   ]
  },
  {
   "cell_type": "code",
   "execution_count": 18,
   "metadata": {},
   "outputs": [
    {
     "data": {
      "text/plain": [
       "(array([3.000e+00, 2.000e+01, 2.080e+02, 9.840e+02, 2.330e+03, 3.175e+03,\n",
       "        2.248e+03, 8.330e+02, 1.800e+02, 1.900e+01]),\n",
       " array([-27.43125585, -20.92795548, -14.42465511,  -7.92135474,\n",
       "         -1.41805438,   5.08524599,  11.58854636,  18.09184673,\n",
       "         24.5951471 ,  31.09844747,  37.60174783]),\n",
       " <a list of 10 Patch objects>)"
      ]
     },
     "execution_count": 18,
     "metadata": {},
     "output_type": "execute_result"
    },
    {
     "data": {
      "image/png": "[encoded data removed]",
      "text/plain": [
       "<Figure size 432x288 with 1 Axes>"
      ]
     },
     "metadata": {},
     "output_type": "display_data"
    }
   ],
   "source": [
    "x = np.random.normal(8,8,10000)\n",
    "plt.hist(x)"
   ]
  },
  {
   "cell_type": "markdown",
   "metadata": {},
   "source": [
    "Changing the third argument, the amount of samples:"
   ]
  },
  {
   "cell_type": "code",
   "execution_count": 19,
   "metadata": {},
   "outputs": [
    {
     "data": {
      "text/plain": [
       "(array([ 4.,  6., 14., 14., 25., 14., 12.,  5.,  4.,  2.]),\n",
       " array([-8.95018746, -5.38940772, -1.82862797,  1.73215178,  5.29293153,\n",
       "         8.85371127, 12.41449102, 15.97527077, 19.53605052, 23.09683026,\n",
       "        26.65761001]),\n",
       " <a list of 10 Patch objects>)"
      ]
     },
     "execution_count": 19,
     "metadata": {},
     "output_type": "execute_result"
    },
    {
     "data": {
      "image/png": "[encoded data removed]",
      "text/plain": [
       "<Figure size 432x288 with 1 Axes>"
      ]
     },
     "metadata": {},
     "output_type": "display_data"
    }
   ],
   "source": [
    "x = np.random.normal(8,8,100)\n",
    "plt.hist(x)"
   ]
  },
  {
   "cell_type": "markdown",
   "metadata": {},
   "source": [
    "## Pareto Distribution\n",
    "The Pareto distribution is a probability distribution that seeks to describe quantities which have a particular property: namely, that a few items account for a lot of it and a lot of items account for a little of it."
   ]
  },
  {
   "cell_type": "markdown",
   "metadata": {},
   "source": [
    "The distribution can be defined by the following survival function (also called tail function):  \n",
    "$${\\displaystyle {\\overline {F}}(x)=\\Pr(X>x)={\\begin{cases}\\left({\\frac {x_{\\mathrm {m} }}{x}}\\right)^{\\alpha }&x\\geq x_{\\mathrm {m} },\\\\0&x<x_{\\mathrm {m} },\\end{cases}}}$$\n",
    "\n",
    "* X is a random variable with a Pareto distribution. The probability that X is greater than some number x. \n",
    "* $x_m$ is the (necessarily positive) minimum possible value of X. The Pareto distribution is characterized by $x_m$.\n",
    "* α is shape parameter, which is known as the tail index."
   ]
  },
  {
   "cell_type": "markdown",
   "metadata": {},
   "source": [
    "A well known example of the Pareto distribution is that 20 percent of the people control 80 percent of the wealth (which itself is sometimes called the Pareto principle), is another statement of the fact that the allocation of income could be Pareto distributed.  \n",
    "Some other examples:\n",
    "* business: the top few customers account for a bulk of the profits\n",
    "* insurance: a small number of big claims account for a bulk of payments\n",
    "* settlement: a small number of cities include a bulk of the population\n",
    "* languages: the most frequent words account for most words in books\n",
    "* gardening: a select few pods account for most of the peas\n",
    "* software: a small number of bugs account for most of the crashes"
   ]
  },
  {
   "cell_type": "markdown",
   "metadata": {},
   "source": [
    "The random.pareto function takes at least 1 argument, α the shape parameter, which is known as the tail index. In return, draws one number from the pareto distribution."
   ]
  },
  {
   "cell_type": "code",
   "execution_count": 21,
   "metadata": {},
   "outputs": [
    {
     "data": {
      "text/plain": [
       "0.6530115908548402"
      ]
     },
     "execution_count": 21,
     "metadata": {},
     "output_type": "execute_result"
    }
   ],
   "source": [
    "np.random.pareto(3)"
   ]
  },
  {
   "cell_type": "markdown",
   "metadata": {},
   "source": [
    "With two arguments, the function draws an amount of samples specified by the second argument where shape (α) is provided by the first argument."
   ]
  },
  {
   "cell_type": "code",
   "execution_count": 22,
   "metadata": {},
   "outputs": [
    {
     "data": {
      "text/plain": [
       "array([0.1545796 , 0.67573366, 2.24681132, 0.212306  , 0.67790841])"
      ]
     },
     "execution_count": 22,
     "metadata": {},
     "output_type": "execute_result"
    }
   ],
   "source": [
    "np.random.pareto(3,5)"
   ]
  },
  {
   "cell_type": "markdown",
   "metadata": {},
   "source": [
    "Below is histogram plot with 1000 samples α and is 3"
   ]
  },
  {
   "cell_type": "code",
   "execution_count": 26,
   "metadata": {},
   "outputs": [
    {
     "data": {
      "text/plain": [
       "(array([928.,  59.,  10.,   1.,   0.,   0.,   1.,   0.,   0.,   1.]),\n",
       " array([3.71510035e-04, 1.40542781e+00, 2.81048412e+00, 4.21554042e+00,\n",
       "        5.62059672e+00, 7.02565303e+00, 8.43070933e+00, 9.83576563e+00,\n",
       "        1.12408219e+01, 1.26458782e+01, 1.40509345e+01]),\n",
       " <a list of 10 Patch objects>)"
      ]
     },
     "execution_count": 26,
     "metadata": {},
     "output_type": "execute_result"
    },
    {
     "data": {
      "image/png": "[encoded data removed]",
      "text/plain": [
       "<Figure size 432x288 with 1 Axes>"
      ]
     },
     "metadata": {},
     "output_type": "display_data"
    }
   ],
   "source": [
    "x = np.random.pareto(3, 1000)\n",
    "plt.hist(x)"
   ]
  },
  {
   "cell_type": "markdown",
   "metadata": {},
   "source": [
    "## Poisson Distribution\n",
    "\n",
    "The Poisson distribution is popular for modelling the number of times an event occurs in an interval of time or space."
   ]
  },
  {
   "cell_type": "markdown",
   "metadata": {},
   "source": [
    "An event can occur 0, 1, 2, … times in an interval. The average number of events in an interval is designated \n",
    "λ (lambda). Lambda is the event rate, also called the rate parameter. The probability of observing k events in an interval is given by the equation  \n",
    "$${\\displaystyle P(k{\\text{ events in interval}})=e^{-\\lambda }{\\frac {\\lambda ^{k}}{k!}}}$$\n",
    "\n",
    "where \n",
    "* λ is the average number of events per interval\n",
    "* $e$ is the number 2.71828... (Euler's number) the base of the natural logarithms\n",
    "* $k$ takes values 0, 1, 2, …\n",
    "* $k! = k × (k − 1) × (k − 2) × … × 2 × 1$ is the factorial of $k$."
   ]
  },
  {
   "cell_type": "markdown",
   "metadata": {},
   "source": [
    "For example, the average number of goals in a World Cup soccer match is approximately 2.5 and the Poisson model is appropriate.\n",
    "Because the average event rate is 2.5 goals per match, λ = 2.5. \n",
    "\n",
    "\\begin{align}\n",
    "& {\\displaystyle P(k{\\text{ goals in a match}})={\\frac {2.5^{k}e^{-2.5}}{k!}}}  \\\\\n",
    "& {\\displaystyle P(k=0{\\text{ goals in a match}})={\\frac {2.5^{0}e^{-2.5}}{0!}}={\\frac {e^{-2.5}}{1}}\\approx 0.082} \\\\\n",
    "& {\\displaystyle P(k=1{\\text{ goal in a match}})={\\frac {2.5^{1}e^{-2.5}}{1!}}={\\frac {2.5e^{-2.5}}{1}}\\approx 0.205} \\\\\n",
    "& {\\displaystyle P(k=2{\\text{ goals in a match}})={\\frac {2.5^{2}e^{-2.5}}{2!}}={\\frac {6.25e^{-2.5}}{2}}\\approx 0.257}\n",
    "\\end{align}\n",
    "\n",
    "The table below gives the probability for 0 to 7 goals in a match.  \n",
    "\n",
    "k | P(k goals in a World Cup soccer match)\n",
    "--- | ---\n",
    "0 | 0.082 \n",
    "1 | 0.205 \n",
    "2 | 0.257 \n",
    "3 | 0.213 \n",
    "4 | 0.133 \n",
    "5 | 0.067 \n",
    "6 | 0.028 \n",
    "7 | 0.010"
   ]
  },
  {
   "cell_type": "markdown",
   "metadata": {},
   "source": [
    "The random.poisson function without arguments draws a sample where the average lambda $(\\lambda)$ is 1 "
   ]
  },
  {
   "cell_type": "code",
   "execution_count": null,
   "metadata": {},
   "outputs": [],
   "source": [
    "np.random.poisson()"
   ]
  },
  {
   "cell_type": "markdown",
   "metadata": {},
   "source": [
    "With one argument, the function draws a number where the argument is the average lambda $(\\lambda)$"
   ]
  },
  {
   "cell_type": "code",
   "execution_count": null,
   "metadata": {},
   "outputs": [],
   "source": [
    "np.random.poisson(2.5)"
   ]
  },
  {
   "cell_type": "markdown",
   "metadata": {},
   "source": [
    "With two arguments, the function draws an amount of samples specified by the second argument where  average lambda \n",
    "($\\lambda$) is provided by the first argument"
   ]
  },
  {
   "cell_type": "code",
   "execution_count": null,
   "metadata": {},
   "outputs": [],
   "source": [
    "np.random.poisson(2.5,10)"
   ]
  },
  {
   "cell_type": "markdown",
   "metadata": {},
   "source": [
    "Below is histogram plot with 1000 samples and $\\lambda$ is 2.5"
   ]
  },
  {
   "cell_type": "code",
   "execution_count": null,
   "metadata": {},
   "outputs": [],
   "source": [
    "x = np.random.poisson(2.5,1000)\n",
    "plt.hist(x)"
   ]
  },
  {
   "cell_type": "markdown",
   "metadata": {},
   "source": [
    "## Random Seeds\n",
    "A random seed (or seed state, or just seed) is a number used to initialize a pseudorandom number generator. Random seeds are often generated from the state of the computer system, such as the time.  \n",
    "A pseudorandom number generator is an algorithm for generating a sequence of numbers whose properties approximate the properties of sequences of random numbers. The pseudorandom-generated sequence is not truly random, because it is completely determined by an initial value, the seed.  \n",
    "If the seed is fixed, the same series of pseudorandom numbers are going to be generated. This is useful for debugging and testing programs that use random numbers"
   ]
  },
  {
   "cell_type": "markdown",
   "metadata": {},
   "source": [
    "By default Python uses a fraction of time to set the seed, usually microseconds at runtime. Let's compare calls to the 'rand()' function without and with a fixed seed."
   ]
  },
  {
   "cell_type": "code",
   "execution_count": null,
   "metadata": {},
   "outputs": [],
   "source": [
    "np.random.rand()"
   ]
  },
  {
   "cell_type": "markdown",
   "metadata": {},
   "source": [
    "Let's fixed the seed to a fixed value and call 'rand()' again"
   ]
  },
  {
   "cell_type": "code",
   "execution_count": null,
   "metadata": {},
   "outputs": [],
   "source": [
    "np.random.seed(4)\n",
    "np.random.rand()"
   ]
  },
  {
   "cell_type": "markdown",
   "metadata": {},
   "source": [
    "Let's use time as seed again an"
   ]
  },
  {
   "cell_type": "code",
   "execution_count": null,
   "metadata": {},
   "outputs": [],
   "source": [
    "np.random.seed()\n",
    "np.random.rand()"
   ]
  },
  {
   "cell_type": "markdown",
   "metadata": {},
   "source": [
    "Now, let's set the seed value to 4 again and we'll see it generate the same value as before:"
   ]
  },
  {
   "cell_type": "code",
   "execution_count": null,
   "metadata": {},
   "outputs": [],
   "source": [
    "np.random.seed(4)\n",
    "np.random.rand()"
   ]
  }
 ],
 "metadata": {
  "kernelspec": {
   "display_name": "Python 3",
   "language": "python",
   "name": "python3"
  },
  "language_info": {
   "codemirror_mode": {
    "name": "ipython",
    "version": 3
   },
   "file_extension": ".py",
   "mimetype": "text/x-python",
   "name": "python",
   "nbconvert_exporter": "python",
   "pygments_lexer": "ipython3",
   "version": "3.6.5"
  }
 },
 "nbformat": 4,
 "nbformat_minor": 2
}
