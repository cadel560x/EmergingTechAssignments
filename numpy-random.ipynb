{
 "cells": [
  {
   "cell_type": "markdown",
   "metadata": {},
   "source": [
    "# The numpy.random package"
   ]
  },
  {
   "cell_type": "markdown",
   "metadata": {},
   "source": [
    "## The numpy.random.rand function"
   ]
  },
  {
   "cell_type": "markdown",
   "metadata": {},
   "source": [
    "It returns random numbers between 0 (inclusive) and 1 (excluded). Some examples of the rand() function."
   ]
  },
  {
   "cell_type": "code",
   "execution_count": 1,
   "metadata": {},
   "outputs": [],
   "source": [
    "import numpy as np"
   ]
  },
  {
   "cell_type": "markdown",
   "metadata": {},
   "source": [
    "Without arguments returns a single random number."
   ]
  },
  {
   "cell_type": "code",
   "execution_count": 2,
   "metadata": {},
   "outputs": [
    {
     "data": {
      "text/plain": [
       "0.045301131026586505"
      ]
     },
     "execution_count": 2,
     "metadata": {},
     "output_type": "execute_result"
    }
   ],
   "source": [
    "np.random.rand()"
   ]
  },
  {
   "cell_type": "markdown",
   "metadata": {},
   "source": [
    "With one argument, returns one row of the specified amount of random numbers"
   ]
  },
  {
   "cell_type": "code",
   "execution_count": 3,
   "metadata": {},
   "outputs": [
    {
     "data": {
      "text/plain": [
       "array([0.9520362 , 0.2043061 , 0.04416889, 0.17911648])"
      ]
     },
     "execution_count": 3,
     "metadata": {},
     "output_type": "execute_result"
    }
   ],
   "source": [
    "np.random.rand(4)"
   ]
  },
  {
   "cell_type": "markdown",
   "metadata": {},
   "source": [
    "Two or more arguments specify the dimensions of a random number matrix of n dimensions.  \n",
    "The following example creates a 3rows x 2columns bi-dimensional matrix of random numbers."
   ]
  },
  {
   "cell_type": "code",
   "execution_count": 4,
   "metadata": {},
   "outputs": [
    {
     "data": {
      "text/plain": [
       "array([[0.75995167, 0.63786262],\n",
       "       [0.5316999 , 0.52841524],\n",
       "       [0.70363906, 0.01031892]])"
      ]
     },
     "execution_count": 4,
     "metadata": {},
     "output_type": "execute_result"
    }
   ],
   "source": [
    "np.random.rand(3,2)"
   ]
  },
  {
   "cell_type": "markdown",
   "metadata": {},
   "source": [
    "This is for a 3 dimensinal matrix"
   ]
  },
  {
   "cell_type": "code",
   "execution_count": 5,
   "metadata": {},
   "outputs": [
    {
     "data": {
      "text/plain": [
       "array([[[0.4420054 , 0.95959859, 0.9305211 , 0.03056315],\n",
       "        [0.20203749, 0.41611098, 0.45246415, 0.38598541],\n",
       "        [0.70334526, 0.02760542, 0.01680774, 0.29688074]],\n",
       "\n",
       "       [[0.32518392, 0.49423577, 0.47505371, 0.23397147],\n",
       "        [0.49730614, 0.1829072 , 0.56788786, 0.72597707],\n",
       "        [0.10941164, 0.06509053, 0.4978831 , 0.79520578]]])"
      ]
     },
     "execution_count": 5,
     "metadata": {},
     "output_type": "execute_result"
    }
   ],
   "source": [
    "np.random.rand(2,3,4)"
   ]
  },
  {
   "cell_type": "markdown",
   "metadata": {},
   "source": [
    "More dimensions can be added:"
   ]
  },
  {
   "cell_type": "code",
   "execution_count": 6,
   "metadata": {
    "scrolled": true
   },
   "outputs": [
    {
     "data": {
      "text/plain": [
       "array([[[[0.86129684, 0.04959904, 0.67149764, 0.94450265, 0.89725705],\n",
       "         [0.91181613, 0.29511905, 0.17515269, 0.07189025, 0.59546288],\n",
       "         [0.9616912 , 0.32305006, 0.63655764, 0.22041445, 0.1898001 ],\n",
       "         [0.81768146, 0.49792475, 0.80860318, 0.20223206, 0.78472587]],\n",
       "\n",
       "        [[0.59746042, 0.03430078, 0.12433023, 0.11016439, 0.45775305],\n",
       "         [0.71183013, 0.06318518, 0.91326693, 0.71459161, 0.12792839],\n",
       "         [0.17757435, 0.7724322 , 0.27264013, 0.57949113, 0.00903967],\n",
       "         [0.31248469, 0.05382107, 0.46320188, 0.76631226, 0.69590732]],\n",
       "\n",
       "        [[0.78178108, 0.42855086, 0.36880405, 0.04840798, 0.31113678],\n",
       "         [0.6191558 , 0.54754591, 0.1546677 , 0.52841301, 0.47272261],\n",
       "         [0.78284874, 0.82577504, 0.59052453, 0.32191788, 0.49259   ],\n",
       "         [0.82785191, 0.40782892, 0.69873767, 0.11936078, 0.2254556 ]]],\n",
       "\n",
       "\n",
       "       [[[0.70199868, 0.40585133, 0.66897455, 0.75238227, 0.67022821],\n",
       "         [0.50470993, 0.58908176, 0.96820189, 0.88614873, 0.15452649],\n",
       "         [0.89338529, 0.41042149, 0.4131718 , 0.84678428, 0.90654103],\n",
       "         [0.17623057, 0.19612801, 0.55253188, 0.24657944, 0.27028675]],\n",
       "\n",
       "        [[0.15928725, 0.50257365, 0.78248717, 0.38047681, 0.8754655 ],\n",
       "         [0.61096092, 0.13038393, 0.51310566, 0.75748486, 0.95753489],\n",
       "         [0.6674496 , 0.08868902, 0.93358454, 0.29034759, 0.40561573],\n",
       "         [0.22859079, 0.88813508, 0.75389407, 0.04854472, 0.22436247]],\n",
       "\n",
       "        [[0.0331675 , 0.85794318, 0.17944441, 0.23693822, 0.42115039],\n",
       "         [0.64527655, 0.16340367, 0.8472891 , 0.60028751, 0.94430555],\n",
       "         [0.57764089, 0.418859  , 0.73389062, 0.81937218, 0.69168895],\n",
       "         [0.62560271, 0.25112408, 0.75698406, 0.41448156, 0.22838363]]]])"
      ]
     },
     "execution_count": 6,
     "metadata": {},
     "output_type": "execute_result"
    }
   ],
   "source": [
    "np.random.rand(2,3,4,5)"
   ]
  },
  {
   "cell_type": "markdown",
   "metadata": {},
   "source": [
    "## Some plots"
   ]
  },
  {
   "cell_type": "code",
   "execution_count": 7,
   "metadata": {},
   "outputs": [],
   "source": [
    "import matplotlib.pyplot as plt"
   ]
  },
  {
   "cell_type": "markdown",
   "metadata": {},
   "source": [
    "### Histograms"
   ]
  },
  {
   "cell_type": "code",
   "execution_count": 9,
   "metadata": {},
   "outputs": [],
   "source": [
    "x = np.random.rand(10000)"
   ]
  },
  {
   "cell_type": "code",
   "execution_count": 10,
   "metadata": {},
   "outputs": [
    {
     "data": {
      "text/plain": [
       "(array([ 995.,  939., 1010., 1000., 1027.,  987., 1002., 1008.,  997.,\n",
       "        1035.]),\n",
       " array([3.07648472e-05, 1.00020592e-01, 2.00010420e-01, 3.00000248e-01,\n",
       "        3.99990075e-01, 4.99979903e-01, 5.99969731e-01, 6.99959558e-01,\n",
       "        7.99949386e-01, 8.99939213e-01, 9.99929041e-01]),\n",
       " <a list of 10 Patch objects>)"
      ]
     },
     "execution_count": 10,
     "metadata": {},
     "output_type": "execute_result"
    },
    {
     "data": {
      "image/png": "[encoded data removed]",
      "text/plain": [
       "<Figure size 432x288 with 1 Axes>"
      ]
     },
     "metadata": {},
     "output_type": "display_data"
    }
   ],
   "source": [
    "plt.hist(x)"
   ]
  },
  {
   "cell_type": "code",
   "execution_count": null,
   "metadata": {},
   "outputs": [],
   "source": [
    "np.random.uniform(0.0, 100.0)"
   ]
  }
 ],
 "metadata": {
  "kernelspec": {
   "display_name": "Python 3",
   "language": "python",
   "name": "python3"
  },
  "language_info": {
   "codemirror_mode": {
    "name": "ipython",
    "version": 3
   },
   "file_extension": ".py",
   "mimetype": "text/x-python",
   "name": "python",
   "nbconvert_exporter": "python",
   "pygments_lexer": "ipython3",
   "version": "3.6.5"
  }
 },
 "nbformat": 4,
 "nbformat_minor": 2
}
