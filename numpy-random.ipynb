{
 "cells": [
  {
   "cell_type": "markdown",
   "metadata": {},
   "source": [
    "# The numpy.random package"
   ]
  },
  {
   "cell_type": "markdown",
   "metadata": {},
   "source": [
    "It returns random numbers between 0 (inclusive) and 1 (excluded). Some examples of the rand() function."
   ]
  },
  {
   "cell_type": "code",
   "execution_count": 1,
   "metadata": {},
   "outputs": [],
   "source": [
    "import numpy as np"
   ]
  },
  {
   "cell_type": "markdown",
   "metadata": {},
   "source": [
    "Without arguments returns a single random number."
   ]
  },
  {
   "cell_type": "code",
   "execution_count": 2,
   "metadata": {},
   "outputs": [
    {
     "data": {
      "text/plain": [
       "0.24896471753715022"
      ]
     },
     "execution_count": 2,
     "metadata": {},
     "output_type": "execute_result"
    }
   ],
   "source": [
    "np.random.rand()"
   ]
  },
  {
   "cell_type": "markdown",
   "metadata": {},
   "source": [
    "With one argument, returns one row of the specified amount of random numbers"
   ]
  },
  {
   "cell_type": "code",
   "execution_count": 3,
   "metadata": {},
   "outputs": [
    {
     "data": {
      "text/plain": [
       "array([0.49550694, 0.21749301, 0.73402437, 0.14174958])"
      ]
     },
     "execution_count": 3,
     "metadata": {},
     "output_type": "execute_result"
    }
   ],
   "source": [
    "np.random.rand(4)"
   ]
  },
  {
   "cell_type": "markdown",
   "metadata": {},
   "source": [
    "Two or more arguments specify the dimensions of a random number matrix of n dimensions.  \n",
    "The following example creates a 3rows x 2columns bi-dimensional matrix of random numbers."
   ]
  },
  {
   "cell_type": "code",
   "execution_count": 4,
   "metadata": {},
   "outputs": [
    {
     "data": {
      "text/plain": [
       "array([[0.08284295, 0.67350741],\n",
       "       [0.95183378, 0.7237853 ],\n",
       "       [0.15749176, 0.64783086]])"
      ]
     },
     "execution_count": 4,
     "metadata": {},
     "output_type": "execute_result"
    }
   ],
   "source": [
    "np.random.rand(3,2)"
   ]
  },
  {
   "cell_type": "markdown",
   "metadata": {},
   "source": [
    "This is for a 3 dimensinal matrix"
   ]
  },
  {
   "cell_type": "code",
   "execution_count": 5,
   "metadata": {},
   "outputs": [
    {
     "data": {
      "text/plain": [
       "array([[[0.16493296, 0.55177679, 0.93533363, 0.18514949],\n",
       "        [0.21498481, 0.43712128, 0.1723712 , 0.35612051],\n",
       "        [0.19987208, 0.6887394 , 0.68184549, 0.96221192]],\n",
       "\n",
       "       [[0.38314483, 0.46694113, 0.42666553, 0.8926507 ],\n",
       "        [0.60392027, 0.58396475, 0.17571619, 0.01192805],\n",
       "        [0.19084021, 0.82171933, 0.97729746, 0.07279342]]])"
      ]
     },
     "execution_count": 5,
     "metadata": {},
     "output_type": "execute_result"
    }
   ],
   "source": [
    "np.random.rand(2,3,4)"
   ]
  },
  {
   "cell_type": "markdown",
   "metadata": {},
   "source": [
    "More dimensions can be added:"
   ]
  },
  {
   "cell_type": "code",
   "execution_count": 6,
   "metadata": {},
   "outputs": [
    {
     "data": {
      "text/plain": [
       "array([[[[0.57421865, 0.31365385, 0.03236531, 0.48568966, 0.1774274 ],\n",
       "         [0.95378463, 0.23870675, 0.02065991, 0.26433774, 0.84795531],\n",
       "         [0.90991802, 0.37014324, 0.59836439, 0.69219678, 0.2967858 ],\n",
       "         [0.47921009, 0.57418427, 0.60608347, 0.29776858, 0.28173231]],\n",
       "\n",
       "        [[0.91341407, 0.06351589, 0.78722134, 0.76266257, 0.88497468],\n",
       "         [0.04514735, 0.36775966, 0.92099076, 0.5020583 , 0.18741058],\n",
       "         [0.06846699, 0.50460459, 0.63209956, 0.83278366, 0.53643922],\n",
       "         [0.82759128, 0.99408477, 0.74030839, 0.2124065 , 0.03257856]],\n",
       "\n",
       "        [[0.40195554, 0.70119619, 0.39766939, 0.29177925, 0.19775233],\n",
       "         [0.12930698, 0.74061103, 0.92498008, 0.57540403, 0.45408301],\n",
       "         [0.33041708, 0.57668063, 0.68770902, 0.52440697, 0.43432554],\n",
       "         [0.90816936, 0.26244822, 0.83652978, 0.49326176, 0.54965778]]],\n",
       "\n",
       "\n",
       "       [[[0.84111458, 0.79841752, 0.1797242 , 0.29248243, 0.15715123],\n",
       "         [0.62903023, 0.43763012, 0.60128   , 0.67970051, 0.30369123],\n",
       "         [0.42593625, 0.77711582, 0.71078508, 0.99508934, 0.58880209],\n",
       "         [0.23315527, 0.13045165, 0.21512807, 0.48835792, 0.47826131]],\n",
       "\n",
       "        [[0.09606673, 0.28971591, 0.7738936 , 0.91582977, 0.89800088],\n",
       "         [0.23499012, 0.38095253, 0.32914676, 0.96473284, 0.04237155],\n",
       "         [0.21587739, 0.37614856, 0.20304894, 0.08299787, 0.73155224],\n",
       "         [0.96528891, 0.88063326, 0.65762779, 0.60315137, 0.24565315]],\n",
       "\n",
       "        [[0.35985303, 0.96143972, 0.32145282, 0.61057647, 0.31660746],\n",
       "         [0.26462118, 0.68645342, 0.19462954, 0.9902881 , 0.22467034],\n",
       "         [0.16447404, 0.75009098, 0.21733003, 0.03730311, 0.83303106],\n",
       "         [0.0065692 , 0.65702228, 0.61196923, 0.34540151, 0.98220101]]]])"
      ]
     },
     "execution_count": 6,
     "metadata": {},
     "output_type": "execute_result"
    }
   ],
   "source": [
    "np.random.rand(2,3,4,5)"
   ]
  },
  {
   "cell_type": "code",
   "execution_count": 7,
   "metadata": {},
   "outputs": [
    {
     "data": {
      "text/plain": [
       "0.5750700287578292"
      ]
     },
     "execution_count": 7,
     "metadata": {},
     "output_type": "execute_result"
    }
   ],
   "source": [
    "np.random.uniform(0.0, 100.0)"
   ]
  },
  {
   "cell_type": "code",
   "execution_count": null,
   "metadata": {},
   "outputs": [],
   "source": []
  }
 ],
 "metadata": {
  "kernelspec": {
   "display_name": "Python 3",
   "language": "python",
   "name": "python3"
  },
  "language_info": {
   "codemirror_mode": {
    "name": "ipython",
    "version": 3
   },
   "file_extension": ".py",
   "mimetype": "text/x-python",
   "name": "python",
   "nbconvert_exporter": "python",
   "pygments_lexer": "ipython3",
   "version": "3.6.5"
  }
 },
 "nbformat": 4,
 "nbformat_minor": 2
}
