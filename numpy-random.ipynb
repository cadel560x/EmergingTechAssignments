{
 "cells": [
  {
   "cell_type": "markdown",
   "metadata": {},
   "source": [
    "# The numpy.random package"
   ]
  },
  {
   "cell_type": "markdown",
   "metadata": {},
   "source": [
    "## The numpy.random.rand function"
   ]
  },
  {
   "cell_type": "markdown",
   "metadata": {},
   "source": [
    "It returns random numbers between 0 (inclusive) and 1 (excluded) from a uniform distribution, that is, that all numbers have the same chance of being generated. Some examples of the rand() function."
   ]
  },
  {
   "cell_type": "code",
   "execution_count": 1,
   "metadata": {},
   "outputs": [],
   "source": [
    "import numpy as np"
   ]
  },
  {
   "cell_type": "markdown",
   "metadata": {},
   "source": [
    "Without arguments returns a single random number."
   ]
  },
  {
   "cell_type": "code",
   "execution_count": 2,
   "metadata": {},
   "outputs": [
    {
     "data": {
      "text/plain": [
       "0.28061961227074284"
      ]
     },
     "execution_count": 2,
     "metadata": {},
     "output_type": "execute_result"
    }
   ],
   "source": [
    "np.random.rand()"
   ]
  },
  {
   "cell_type": "markdown",
   "metadata": {},
   "source": [
    "With one argument, returns one row of the specified amount of random numbers"
   ]
  },
  {
   "cell_type": "code",
   "execution_count": 3,
   "metadata": {},
   "outputs": [
    {
     "data": {
      "text/plain": [
       "array([0.35817946, 0.84034226, 0.02688414, 0.50133803])"
      ]
     },
     "execution_count": 3,
     "metadata": {},
     "output_type": "execute_result"
    }
   ],
   "source": [
    "np.random.rand(4)"
   ]
  },
  {
   "cell_type": "markdown",
   "metadata": {},
   "source": [
    "Two or more arguments specify the dimensions of a random number matrix of n dimensions.  \n",
    "The following example creates a 3rows x 2columns bi-dimensional matrix of random numbers."
   ]
  },
  {
   "cell_type": "code",
   "execution_count": 4,
   "metadata": {},
   "outputs": [
    {
     "data": {
      "text/plain": [
       "array([[0.66366003, 0.3007999 ],\n",
       "       [0.34840649, 0.1904061 ],\n",
       "       [0.32599186, 0.94898891]])"
      ]
     },
     "execution_count": 4,
     "metadata": {},
     "output_type": "execute_result"
    }
   ],
   "source": [
    "np.random.rand(3,2)"
   ]
  },
  {
   "cell_type": "markdown",
   "metadata": {},
   "source": [
    "This is for a 3 dimensinal matrix"
   ]
  },
  {
   "cell_type": "code",
   "execution_count": 5,
   "metadata": {},
   "outputs": [
    {
     "data": {
      "text/plain": [
       "array([[[0.19208954, 0.80063935, 0.88809589, 0.56310176],\n",
       "        [0.32652607, 0.61006756, 0.25263998, 0.15094637],\n",
       "        [0.32180022, 0.16397375, 0.71445413, 0.59849896]],\n",
       "\n",
       "       [[0.90074755, 0.31768426, 0.41082212, 0.05687232],\n",
       "        [0.06357342, 0.6156837 , 0.77114568, 0.80592528],\n",
       "        [0.35169947, 0.24801475, 0.53891676, 0.09526424]]])"
      ]
     },
     "execution_count": 5,
     "metadata": {},
     "output_type": "execute_result"
    }
   ],
   "source": [
    "np.random.rand(2,3,4)"
   ]
  },
  {
   "cell_type": "markdown",
   "metadata": {},
   "source": [
    "More dimensions can be added:"
   ]
  },
  {
   "cell_type": "code",
   "execution_count": 6,
   "metadata": {
    "scrolled": true
   },
   "outputs": [
    {
     "data": {
      "text/plain": [
       "array([[[[0.80676679, 0.01068911, 0.93982454, 0.51992779, 0.78888463],\n",
       "         [0.25265546, 0.65549502, 0.80071469, 0.51173111, 0.37329811],\n",
       "         [0.31766609, 0.81755422, 0.34343984, 0.79655456, 0.19174999],\n",
       "         [0.23888071, 0.14586361, 0.23008828, 0.38975003, 0.60758891]],\n",
       "\n",
       "        [[0.52831648, 0.66258891, 0.22439021, 0.18804643, 0.40418633],\n",
       "         [0.14473707, 0.50658007, 0.7834336 , 0.17303146, 0.73727134],\n",
       "         [0.9373161 , 0.4188282 , 0.75419056, 0.70394753, 0.55315235],\n",
       "         [0.12217682, 0.44202335, 0.25651266, 0.08024226, 0.64882876]],\n",
       "\n",
       "        [[0.92775572, 0.95675661, 0.59189808, 0.46285166, 0.59955172],\n",
       "         [0.36359921, 0.00184886, 0.61954553, 0.57810325, 0.46849167],\n",
       "         [0.40912731, 0.14209809, 0.97164524, 0.14783662, 0.38226052],\n",
       "         [0.78707597, 0.84148355, 0.46098208, 0.01726633, 0.52485651]]],\n",
       "\n",
       "\n",
       "       [[[0.56665678, 0.65173775, 0.67598968, 0.53243571, 0.45200101],\n",
       "         [0.41488303, 0.00346234, 0.5534692 , 0.90885697, 0.68493716],\n",
       "         [0.08821969, 0.19144167, 0.15096055, 0.08727912, 0.19216867],\n",
       "         [0.69573168, 0.3793572 , 0.97030602, 0.68338559, 0.60088675]],\n",
       "\n",
       "        [[0.48543016, 0.46331869, 0.7755138 , 0.21752131, 0.51423769],\n",
       "         [0.22464089, 0.24794313, 0.86967434, 0.23902438, 0.06232965],\n",
       "         [0.87371486, 0.03163777, 0.78196396, 0.4431028 , 0.89628353],\n",
       "         [0.46713839, 0.10944525, 0.9750022 , 0.56187353, 0.21148757]],\n",
       "\n",
       "        [[0.96116589, 0.0842445 , 0.8767735 , 0.77263394, 0.72915117],\n",
       "         [0.29677953, 0.6916581 , 0.42776576, 0.16471457, 0.70148028],\n",
       "         [0.26414794, 0.64260708, 0.58235245, 0.35141102, 0.37324688],\n",
       "         [0.2166804 , 0.3081956 , 0.9336205 , 0.39455921, 0.39092331]]]])"
      ]
     },
     "execution_count": 6,
     "metadata": {},
     "output_type": "execute_result"
    }
   ],
   "source": [
    "np.random.rand(2,3,4,5)"
   ]
  },
  {
   "cell_type": "markdown",
   "metadata": {},
   "source": [
    "## Random Distributions"
   ]
  },
  {
   "cell_type": "markdown",
   "metadata": {},
   "source": [
    "### Uniform distribution\n",
    "Is very similar to the function numpy.random.rand, but it allows to specify different sampling intervals, not only between 0 and 1."
   ]
  },
  {
   "cell_type": "markdown",
   "metadata": {},
   "source": [
    "Without arguments it behaves like numpy.random.rand"
   ]
  },
  {
   "cell_type": "code",
   "execution_count": 7,
   "metadata": {},
   "outputs": [
    {
     "data": {
      "text/plain": [
       "0.09084302570751845"
      ]
     },
     "execution_count": 7,
     "metadata": {},
     "output_type": "execute_result"
    }
   ],
   "source": [
    "np.random.uniform()"
   ]
  },
  {
   "cell_type": "markdown",
   "metadata": {},
   "source": [
    "With one argument, it generates a random number between 0 and the passed argument"
   ]
  },
  {
   "cell_type": "code",
   "execution_count": 8,
   "metadata": {},
   "outputs": [
    {
     "data": {
      "text/plain": [
       "4.329669043110004"
      ]
     },
     "execution_count": 8,
     "metadata": {},
     "output_type": "execute_result"
    }
   ],
   "source": [
    "np.random.uniform(5)"
   ]
  },
  {
   "cell_type": "markdown",
   "metadata": {},
   "source": [
    "With two arguments, it generates a random number between the first and second argument"
   ]
  },
  {
   "cell_type": "code",
   "execution_count": 9,
   "metadata": {},
   "outputs": [
    {
     "data": {
      "text/plain": [
       "75.56192639960521"
      ]
     },
     "execution_count": 9,
     "metadata": {},
     "output_type": "execute_result"
    }
   ],
   "source": [
    "np.random.uniform(0.0, 100.0)"
   ]
  },
  {
   "cell_type": "markdown",
   "metadata": {},
   "source": [
    "With three arguments, it generates an amount of random numbers specified by the third argument; between the first and second argument"
   ]
  },
  {
   "cell_type": "code",
   "execution_count": 10,
   "metadata": {},
   "outputs": [
    {
     "data": {
      "text/plain": [
       "array([-0.23847256, -0.25886291, -0.50662181, -0.289252  , -0.52663828,\n",
       "       -0.1466737 , -0.54326174, -0.28572672, -0.06833848, -0.74191083])"
      ]
     },
     "execution_count": 10,
     "metadata": {},
     "output_type": "execute_result"
    }
   ],
   "source": [
    "np.random.uniform(-1,0,10)"
   ]
  },
  {
   "cell_type": "markdown",
   "metadata": {},
   "source": [
    "A histogram plot of the uniform distribution:"
   ]
  },
  {
   "cell_type": "code",
   "execution_count": 11,
   "metadata": {},
   "outputs": [
    {
     "data": {
      "text/plain": [
       "(array([ 996., 1032., 1006., 1003.,  993., 1014.,  983.,  996.,  987.,\n",
       "         990.]),\n",
       " array([1.66013622e-01, 1.00137263e+02, 2.00108513e+02, 3.00079762e+02,\n",
       "        4.00051012e+02, 5.00022262e+02, 5.99993511e+02, 6.99964761e+02,\n",
       "        7.99936010e+02, 8.99907260e+02, 9.99878510e+02]),\n",
       " <a list of 10 Patch objects>)"
      ]
     },
     "execution_count": 11,
     "metadata": {},
     "output_type": "execute_result"
    }
   ],
   "source": [
    "import matplotlib.pyplot as plt\n",
    "x = np.random.uniform(0,1000,10000)\n",
    "plt.hist(x)"
   ]
  },
  {
   "cell_type": "markdown",
   "metadata": {},
   "source": [
    "### Normal Distribution\n",
    "It draws samples from a normal distribution. It has three arguments. The first one is the center of the distribution, oftenly called 'mu' and is the mean, median and mode of it. The second parameter is the standard deviation and specifies the width of the distribution. It is three times the value of the std dev to the right and three times its value to the left too. The last argument is optional and specifies how many samples to draw."
   ]
  },
  {
   "cell_type": "markdown",
   "metadata": {},
   "source": [
    "With no arguments draws a sample from the space space between 0 and three units distance, it could be to the right or to the left. So it's drawing samples using 0 as the mean and 1 as standard deviation:"
   ]
  },
  {
   "cell_type": "code",
   "execution_count": 12,
   "metadata": {},
   "outputs": [
    {
     "data": {
      "text/plain": [
       "0.09572660687939855"
      ]
     },
     "execution_count": 12,
     "metadata": {},
     "output_type": "execute_result"
    }
   ],
   "source": [
    "np.random.normal()"
   ]
  },
  {
   "cell_type": "markdown",
   "metadata": {},
   "source": [
    "With one argument draws a sample using the argument as the mean and 1 as standard deviation:"
   ]
  },
  {
   "cell_type": "code",
   "execution_count": 13,
   "metadata": {},
   "outputs": [
    {
     "data": {
      "text/plain": [
       "5.396336391993726"
      ]
     },
     "execution_count": 13,
     "metadata": {},
     "output_type": "execute_result"
    }
   ],
   "source": [
    "np.random.normal(5)"
   ]
  },
  {
   "cell_type": "markdown",
   "metadata": {},
   "source": [
    "With two arguments draws a sample using the first argument as the mean and the second as the standard deviation:"
   ]
  },
  {
   "cell_type": "code",
   "execution_count": 14,
   "metadata": {},
   "outputs": [
    {
     "data": {
      "text/plain": [
       "3.839052521436584"
      ]
     },
     "execution_count": 14,
     "metadata": {},
     "output_type": "execute_result"
    }
   ],
   "source": [
    "np.random.normal(7,2)"
   ]
  },
  {
   "cell_type": "markdown",
   "metadata": {},
   "source": [
    "With three arguments, the first two arguments behave like before and the third argument specifies the amount of samples to draw:"
   ]
  },
  {
   "cell_type": "code",
   "execution_count": 15,
   "metadata": {},
   "outputs": [
    {
     "data": {
      "text/plain": [
       "array([6.36637089, 7.63888029, 6.23292145, 7.08299276, 6.96217777,\n",
       "       8.77044788, 6.1016764 , 7.75192374, 6.88126593, 6.32821142])"
      ]
     },
     "execution_count": 15,
     "metadata": {},
     "output_type": "execute_result"
    }
   ],
   "source": [
    "np.random.normal(7,1,10)"
   ]
  },
  {
   "cell_type": "markdown",
   "metadata": {},
   "source": [
    "Below are some histogram plots of the normal distribution changing the function arguments.  \n",
    "Base example:"
   ]
  },
  {
   "cell_type": "code",
   "execution_count": 16,
   "metadata": {},
   "outputs": [
    {
     "data": {
      "text/plain": [
       "(array([   8.,   86.,  485., 1613., 2842., 2863., 1517.,  498.,   83.,\n",
       "           5.]),\n",
       " array([-0.38561591, -0.3079694 , -0.23032289, -0.15267638, -0.07502986,\n",
       "         0.00261665,  0.08026316,  0.15790967,  0.23555618,  0.3132027 ,\n",
       "         0.39084921]),\n",
       " <a list of 10 Patch objects>)"
      ]
     },
     "execution_count": 16,
     "metadata": {},
     "output_type": "execute_result"
    },
    {
     "data": {
      "image/png": "[encoded data removed]",
      "text/plain": [
       "<Figure size 432x288 with 1 Axes>"
      ]
     },
     "metadata": {},
     "output_type": "display_data"
    }
   ],
   "source": [
    "x = np.random.normal(0,0.1,10000)\n",
    "plt.hist(x)"
   ]
  },
  {
   "cell_type": "markdown",
   "metadata": {},
   "source": [
    "Changing the first argument ('center' or 'loc'):"
   ]
  },
  {
   "cell_type": "code",
   "execution_count": 17,
   "metadata": {},
   "outputs": [
    {
     "data": {
      "text/plain": [
       "(array([1.600e+01, 1.500e+02, 7.750e+02, 2.143e+03, 3.155e+03, 2.434e+03,\n",
       "        1.063e+03, 2.330e+02, 2.900e+01, 2.000e+00]),\n",
       " array([7.62671131, 7.70738392, 7.78805653, 7.86872915, 7.94940176,\n",
       "        8.03007437, 8.11074698, 8.19141959, 8.27209221, 8.35276482,\n",
       "        8.43343743]),\n",
       " <a list of 10 Patch objects>)"
      ]
     },
     "execution_count": 17,
     "metadata": {},
     "output_type": "execute_result"
    },
    {
     "data": {
      "image/png": "[encoded data removed]",
      "text/plain": [
       "<Figure size 432x288 with 1 Axes>"
      ]
     },
     "metadata": {},
     "output_type": "display_data"
    }
   ],
   "source": [
    "x = np.random.normal(8,0.1,10000)\n",
    "plt.hist(x)"
   ]
  },
  {
   "cell_type": "markdown",
   "metadata": {},
   "source": [
    "Changing the second argument ('standard devtiation' or 'spread'):"
   ]
  },
  {
   "cell_type": "code",
   "execution_count": 18,
   "metadata": {},
   "outputs": [
    {
     "data": {
      "text/plain": [
       "(array([   9.,   90.,  486., 1425., 2600., 2721., 1794.,  702.,  147.,\n",
       "          26.]), array([-22.03986214, -16.20942228, -10.37898243,  -4.54854257,\n",
       "          1.28189728,   7.11233714,  12.94277699,  18.77321685,\n",
       "         24.6036567 ,  30.43409656,  36.26453641]), <a list of 10 Patch objects>)"
      ]
     },
     "execution_count": 18,
     "metadata": {},
     "output_type": "execute_result"
    },
    {
     "data": {
      "image/png": "[encoded data removed]",
      "text/plain": [
       "<Figure size 432x288 with 1 Axes>"
      ]
     },
     "metadata": {},
     "output_type": "display_data"
    }
   ],
   "source": [
    "x = np.random.normal(8,8,10000)\n",
    "plt.hist(x)"
   ]
  },
  {
   "cell_type": "markdown",
   "metadata": {},
   "source": [
    "Changing the third argument, the amount of samples:"
   ]
  },
  {
   "cell_type": "code",
   "execution_count": 19,
   "metadata": {},
   "outputs": [
    {
     "data": {
      "text/plain": [
       "(array([ 2.,  4.,  5., 26., 18., 23., 11.,  8.,  2.,  1.]),\n",
       " array([-12.42017531,  -8.08316437,  -3.74615342,   0.59085752,\n",
       "          4.92786847,   9.26487942,  13.60189036,  17.93890131,\n",
       "         22.27591226,  26.6129232 ,  30.94993415]),\n",
       " <a list of 10 Patch objects>)"
      ]
     },
     "execution_count": 19,
     "metadata": {},
     "output_type": "execute_result"
    },
    {
     "data": {
      "image/png": "[encoded data removed]",
      "text/plain": [
       "<Figure size 432x288 with 1 Axes>"
      ]
     },
     "metadata": {},
     "output_type": "display_data"
    }
   ],
   "source": [
    "x = np.random.normal(8,8,100)\n",
    "plt.hist(x)"
   ]
  },
  {
   "cell_type": "markdown",
   "metadata": {},
   "source": [
    "## Degrees of Freedom\n",
    "For the next two probability distributions we need to explain first what are the degrees of freedom.\n",
    "\n",
    "Let's start with a simple example.  Let's say we have seven hats and we want to wear one different hat every day of the week.\n",
    "On the first day, we can wear any of the 7 hats. On the second day, we can choose from the 6 remaining hats, on day 3 we can choose from 5 hats, and so on.  \n",
    "\n",
    "When day 6 rolls around, we still have a choice between 2 hats that we haven’t worn yet that week. But after we choose our hat for day 6, we have no choice for the hat that we wear on Day 7. We must wear the one remaining hat. We had 7-1 = 6 days of “hat” freedom—in which the hat we wore could vary!  \n",
    "\n",
    "That’s kind of the idea behind degrees of freedom in statistics. Degrees of freedom are often broadly defined as the number of \"observations\" (pieces of information) in the data that are free to vary when estimating statistical parameters.  \n",
    "\n",
    "Let's suppose we want to test the population mean with a sample of 10 values, using a 1-sample t test. We now have a constraint—the estimation of the mean. What is that constraint? By definition of the mean, the following relationship must hold: The sum of all values in the data must equal the amount of values multiplied by the mean.  \n",
    "\n",
    "So if a data set has 10 values, the sum of the 10 values must equal the mean times 10. If the mean of the 10 values is 3.5, this constraint requires that the sum of the 10 values must equal 10 x 3.5 = 35.\n",
    "With that constraint, the first value in the data set is free to vary. Whatever value it is, it’s still possible for the sum of all 10 numbers to have a value of 35. The second value is also free to vary, because whatever value you choose, it still allows for the possibility that the sum of all the values is 35.\n",
    "In fact, the first 9 values could be anything, including these two examples:  \n",
    "34, -8.3, -37, -92, -1, 0, 1, -22, 99   \n",
    "0.1, 0.2, 0.3, 0.4, 0.5, 0.6, 0.7, 0.8, 0.9  \n",
    "\n",
    "But to have all 10 values sum to 35, and have a mean of 3.5, the 10th value cannot vary. It must be a specific number:  \n",
    "34, -8.3, -37, -92, -1, 0, 1, -22, 99  -----> 10TH value must be 61.3  \n",
    "0.1, 0.2, 0.3, 0.4, 0.5, 0.6, 0.7, 0.8, 0.9 ----> 10TH value must be 30.5  \n",
    "\n",
    "Therefore, we have 10 - 1 = 9 degrees of freedom. It doesn’t matter what sample size we use, or what mean value we use—the last value in the sample is not free to vary. You end up with $n - 1$ degrees of freedom, where $n$ is the sample size.  \n",
    "\n",
    "Another way to say this is that the number of degrees of freedom equals the number of \"observations\" minus the number of required relations among the observations (e.g., the number of parameter estimates). For a 1-sample t-test, one degree of freedom is spent estimating the mean, and the remaining $n - 1$ degrees of freedom estimate variability."
   ]
  },
  {
   "cell_type": "markdown",
   "metadata": {},
   "source": [
    "## Student's $t$ Distribution\n",
    "The derivation of the t-distribution was first published in 1908 by William Gosset while working for the Guinness Brewery in Dublin. Due to proprietary issues, he had to publish under a pseudonym, and so he used the name Student. Gosset was interested in the problems of small samples – for example, the chemical properties of barley where sample sizes might be as few as 3. "
   ]
  },
  {
   "cell_type": "markdown",
   "metadata": {},
   "source": [
    "The probability density function for the $t$ distribution is\n",
    "![title](images/StudentPDF.png)\n",
    "The $t$ test is based on an assumption that the data come from a normal distribution. The $t$ test provides a way to test whether the sample mean (that is the mean calculated from the data) is a good estimate of the true mean."
   ]
  },
  {
   "cell_type": "markdown",
   "metadata": {},
   "source": [
    "The random.standard_t function takes at least 1 argument, the degrees of freedom $df$. In return, draws one number from the Student's $t$ distribution."
   ]
  },
  {
   "cell_type": "code",
   "execution_count": 20,
   "metadata": {},
   "outputs": [
    {
     "data": {
      "text/plain": [
       "-2.2823488541493444"
      ]
     },
     "execution_count": 20,
     "metadata": {},
     "output_type": "execute_result"
    }
   ],
   "source": [
    "np.random.standard_t(1)"
   ]
  },
  {
   "cell_type": "markdown",
   "metadata": {},
   "source": [
    "With two arguments, the function draws an amount of samples specified by the second argument where the degrees of freedom ($df$) are provided by the first argument."
   ]
  },
  {
   "cell_type": "code",
   "execution_count": 21,
   "metadata": {},
   "outputs": [
    {
     "data": {
      "text/plain": [
       "array([  0.11777434,   1.03042257,  -0.34182384, -12.44415496])"
      ]
     },
     "execution_count": 21,
     "metadata": {},
     "output_type": "execute_result"
    }
   ],
   "source": [
    "np.random.standard_t(1,4)"
   ]
  },
  {
   "cell_type": "markdown",
   "metadata": {},
   "source": [
    "Below is histogram plot with 100000 samples and $df$ and is 10"
   ]
  },
  {
   "cell_type": "code",
   "execution_count": 22,
   "metadata": {},
   "outputs": [
    {
     "data": {
      "text/plain": [
       "(array([2.0000e+00, 2.1000e+01, 2.0100e+02, 2.4740e+03, 2.2458e+04,\n",
       "        5.2348e+04, 2.0161e+04, 2.1550e+03, 1.6300e+02, 1.7000e+01]),\n",
       " array([-8.09595992, -6.61596507, -5.13597021, -3.65597536, -2.1759805 ,\n",
       "        -0.69598564,  0.78400921,  2.26400407,  3.74399893,  5.22399378,\n",
       "         6.70398864]),\n",
       " <a list of 10 Patch objects>)"
      ]
     },
     "execution_count": 22,
     "metadata": {},
     "output_type": "execute_result"
    },
    {
     "data": {
      "image/png": "[encoded data removed]",
      "text/plain": [
       "<Figure size 432x288 with 1 Axes>"
      ]
     },
     "metadata": {},
     "output_type": "display_data"
    }
   ],
   "source": [
    "x = np.random.standard_t(10,100000)\n",
    "plt.hist(x)"
   ]
  },
  {
   "cell_type": "markdown",
   "metadata": {},
   "source": [
    "## Chi Square Distribution\n",
    "The chi-squared distribution is used in the common chi-squared tests for goodness of fit of an observed distribution to a theoretical one, the independence of two criteria of classification of qualitative data, and in confidence interval estimation for a population standard deviation of a normal distribution from a sample standard deviation.\n",
    "\n",
    "When an amount of independent random variables that is equal to the degrees of freedom, each variable from standard normal distributions (mean 0, variance 1), are squared and summed, the resulting distribution is chi-square. This distribution is often used in hypothesis testing.\n",
    "\n",
    "The chi-square distribution is defined by the following probability density function:  \n",
    "$$Y = Y_0({\\chi}^2)^{( \\frac{v}{2} - 1 )} e^{-\\frac{\\chi^2}{2}}$$\n",
    "\n",
    "where $Y_0$ is a constant that depends on the number of degrees of freedom, $\\chi^2$ is the chi-square statistic, $v$ = n - 1 is the number of degrees of freedom. $Y_0$ is defined, so that the area under the chi-square curve is equal to one.\n",
    "\n",
    "The chi-square distribution has the following properties: \n",
    "* The mean of the distribution is equal to the number of degrees of freedom: μ = $v$.\n",
    "* The variance is equal to two times the number of degrees of freedom: σ2 = $2v$\n",
    "* When the degrees of freedom are greater than or equal to 2, the maximum value for $Y$ occurs when $\\chi^2 = v - 2$.\n",
    "* As the degrees of freedom increase, the chi-square curve approaches a normal distribution."
   ]
  },
  {
   "cell_type": "markdown",
   "metadata": {},
   "source": [
    "The random.chisquare function takes at least 1 argument, the degrees of freedom $df$. In return, draws one number from the Chi Squared distribution."
   ]
  },
  {
   "cell_type": "code",
   "execution_count": 23,
   "metadata": {},
   "outputs": [
    {
     "data": {
      "text/plain": [
       "1.8970601784315264"
      ]
     },
     "execution_count": 23,
     "metadata": {},
     "output_type": "execute_result"
    }
   ],
   "source": [
    "np.random.chisquare(2)"
   ]
  },
  {
   "cell_type": "markdown",
   "metadata": {},
   "source": [
    "With two arguments, the function draws an amount of samples specified by the second argument where the degrees of freedom ($df$) are provided by the first argument."
   ]
  },
  {
   "cell_type": "code",
   "execution_count": 24,
   "metadata": {},
   "outputs": [
    {
     "data": {
      "text/plain": [
       "array([ 8.0822014 , 10.32084312,  5.61580831, 15.89941313])"
      ]
     },
     "execution_count": 24,
     "metadata": {},
     "output_type": "execute_result"
    }
   ],
   "source": [
    "np.random.chisquare(6,4)"
   ]
  },
  {
   "cell_type": "markdown",
   "metadata": {},
   "source": [
    "Below is histogram plot with 1000 samples and $df$ and is 6"
   ]
  },
  {
   "cell_type": "code",
   "execution_count": 25,
   "metadata": {},
   "outputs": [
    {
     "data": {
      "text/plain": [
       "(array([134., 240., 249., 176.,  98.,  56.,  21.,  17.,   5.,   4.]),\n",
       " array([ 0.52917142,  2.51014718,  4.49112294,  6.4720987 ,  8.45307446,\n",
       "        10.43405022, 12.41502598, 14.39600173, 16.37697749, 18.35795325,\n",
       "        20.33892901]),\n",
       " <a list of 10 Patch objects>)"
      ]
     },
     "execution_count": 25,
     "metadata": {},
     "output_type": "execute_result"
    },
    {
     "data": {
      "image/png": "[encoded data removed]",
      "text/plain": [
       "<Figure size 432x288 with 1 Axes>"
      ]
     },
     "metadata": {},
     "output_type": "display_data"
    }
   ],
   "source": [
    "x = np.random.chisquare(6,1000)\n",
    "plt.hist(x)"
   ]
  },
  {
   "cell_type": "markdown",
   "metadata": {},
   "source": [
    "## Binomial Distribution\n",
    "In many cases, it is appropriate to summarize a group of independent observations by the number of observations in the group that represent one of two outcomes. For example, the proportion of individuals in a random sample who support one of two political candidates fits this description. In this case, the statistic  is the count X of voters who support the candidate divided by the total number of individuals in the group $n$. This provides an estimate of the parameter $p$, the proportion of individuals who support the candidate in the entire population. \n",
    "The binomial distribution describes the behavior of a count variable X if the following conditions apply: \n",
    "* The number of observations $n$ is fixed. \n",
    "* Each observation is independent. \n",
    "* Each observation represents one of two outcomes (\"success\" or \"failure\"). \n",
    "* The probability of \"success\" $p$ is the same for each outcome. \n",
    "\n",
    "If these conditions are met, then X has a binomial distribution with parameters $n$ and $p$, abbreviated $B(n,p)$. "
   ]
  },
  {
   "cell_type": "markdown",
   "metadata": {},
   "source": [
    "The probability density for the binomial distribution is\n",
    "$$P(N) = {{n}\\choose{N}} \\cdot p^N(1-kp)^{n-N}$$\n",
    "where $n$ is the number of trials, $p$ is the probability of success, and $N$ is the number of successes.  \n",
    "The binomial distribution is frequently used to model the number of successes in a sample of size $n$ drawn with replacement from a population of size $N$. If the sampling is carried out without replacement, the draws are not independent and so the resulting distribution is a hypergeometric distribution, not a binomial one. "
   ]
  },
  {
   "cell_type": "markdown",
   "metadata": {},
   "source": [
    "The random.binomial function takes at least 2 arguments, the first argument is the number $n$ of trials and the second is the probabability $p$ of success. In return, draws one number from the binomial distribution."
   ]
  },
  {
   "cell_type": "code",
   "execution_count": 26,
   "metadata": {
    "scrolled": true
   },
   "outputs": [
    {
     "data": {
      "text/plain": [
       "1"
      ]
     },
     "execution_count": 26,
     "metadata": {},
     "output_type": "execute_result"
    }
   ],
   "source": [
    "np.random.binomial(10, 1/6)"
   ]
  },
  {
   "cell_type": "markdown",
   "metadata": {},
   "source": [
    "With three arguments, the function draws an amount of samples specified by the third argument. The first two arguments are the still the same as explained in the previous cell. For example let's see the result of of getting a 1 on after rolling a die 10 times, tested 1000 times."
   ]
  },
  {
   "cell_type": "code",
   "execution_count": 27,
   "metadata": {
    "scrolled": true
   },
   "outputs": [
    {
     "data": {
      "text/plain": [
       "array([2, 0, 1, 2, 0, 3, 1, 2, 1, 2, 4, 3, 1, 0, 1, 2, 3, 2, 2, 4, 2, 3,\n",
       "       0, 3, 2, 1, 2, 2, 3, 1, 2, 1, 4, 0, 3, 1, 0, 3, 1, 1, 2, 3, 3, 2,\n",
       "       5, 1, 1, 0, 1, 1, 1, 3, 1, 2, 0, 0, 1, 1, 0, 1, 1, 1, 2, 1, 3, 2,\n",
       "       2, 1, 0, 2, 4, 0, 2, 2, 1, 2, 2, 1, 2, 1, 3, 2, 1, 2, 0, 1, 1, 2,\n",
       "       2, 1, 3, 1, 1, 2, 2, 1, 1, 1, 1, 1, 1, 1, 0, 2, 3, 3, 0, 1, 2, 2,\n",
       "       1, 2, 0, 1, 1, 2, 1, 1, 1, 3, 2, 1, 2, 2, 2, 2, 1, 2, 2, 0, 1, 2,\n",
       "       2, 2, 2, 4, 2, 2, 2, 3, 2, 1, 1, 2, 4, 1, 0, 2, 0, 1, 3, 3, 4, 3,\n",
       "       2, 0, 0, 0, 3, 3, 2, 0, 3, 1, 1, 1, 0, 1, 3, 1, 0, 2, 0, 1, 1, 1,\n",
       "       1, 1, 3, 1, 3, 1, 3, 1, 4, 2, 2, 1, 0, 0, 3, 3, 2, 0, 2, 1, 2, 3,\n",
       "       0, 3, 0, 1, 2, 2, 3, 5, 1, 1, 2, 1, 1, 2, 3, 2, 1, 0, 1, 1, 1, 4,\n",
       "       1, 4, 1, 0, 2, 2, 0, 3, 2, 4, 1, 4, 1, 2, 1, 1, 3, 0, 1, 1, 1, 1,\n",
       "       1, 1, 0, 1, 2, 2, 3, 3, 3, 2, 0, 0, 2, 2, 4, 1, 4, 1, 2, 2, 2, 1,\n",
       "       3, 1, 1, 3, 2, 1, 1, 2, 3, 0, 1, 1, 1, 2, 3, 1, 0, 1, 0, 3, 2, 1,\n",
       "       2, 0, 1, 3, 2, 4, 2, 1, 1, 3, 1, 2, 2, 2, 0, 1, 2, 1, 2, 0, 4, 1,\n",
       "       2, 3, 1, 1, 0, 2, 3, 1, 0, 1, 1, 3, 1, 2, 2, 2, 2, 3, 4, 0, 1, 1,\n",
       "       2, 0, 4, 3, 1, 1, 2, 3, 1, 0, 1, 3, 1, 2, 2, 2, 0, 2, 2, 3, 2, 1,\n",
       "       2, 3, 2, 4, 3, 2, 4, 2, 2, 1, 1, 4, 3, 1, 2, 1, 1, 0, 1, 2, 3, 0,\n",
       "       2, 2, 2, 2, 1, 1, 1, 0, 1, 1, 1, 2, 2, 2, 0, 0, 1, 0, 5, 1, 0, 0,\n",
       "       0, 3, 0, 2, 0, 3, 1, 2, 2, 0, 3, 2, 2, 1, 2, 2, 2, 1, 2, 6, 3, 1,\n",
       "       3, 1, 2, 0, 2, 1, 3, 1, 1, 1, 2, 0, 3, 2, 3, 1, 1, 2, 3, 2, 1, 4,\n",
       "       2, 2, 1, 4, 1, 2, 3, 1, 2, 2, 0, 2, 0, 0, 3, 0, 2, 0, 1, 1, 2, 1,\n",
       "       2, 1, 2, 2, 2, 1, 1, 2, 1, 2, 0, 1, 3, 1, 1, 1, 2, 1, 1, 1, 4, 1,\n",
       "       2, 1, 1, 4, 0, 1, 1, 2, 1, 2, 2, 4, 3, 1, 2, 2, 4, 0, 0, 3, 1, 1,\n",
       "       2, 3, 2, 3, 1, 3, 3, 4, 2, 1, 3, 2, 1, 1, 5, 2, 2, 3, 2, 1, 1, 0,\n",
       "       1, 0, 1, 3, 1, 3, 2, 2, 1, 1, 0, 2, 1, 2, 1, 1, 0, 3, 3, 2, 5, 2,\n",
       "       1, 1, 2, 0, 2, 3, 0, 2, 1, 1, 2, 2, 1, 1, 2, 2, 0, 2, 1, 2, 4, 2,\n",
       "       3, 2, 3, 1, 2, 2, 2, 0, 1, 2, 3, 0, 1, 1, 1, 2, 1, 3, 3, 2, 1, 5,\n",
       "       2, 1, 2, 2, 1, 1, 2, 2, 4, 4, 1, 1, 2, 0, 3, 0, 0, 3, 2, 4, 1, 1,\n",
       "       1, 2, 4, 2, 3, 2, 2, 1, 3, 0, 1, 3, 1, 2, 0, 2, 4, 2, 3, 0, 1, 1,\n",
       "       1, 2, 1, 0, 1, 2, 3, 1, 1, 3, 3, 2, 1, 5, 3, 0, 3, 0, 1, 0, 4, 1,\n",
       "       4, 2, 0, 1, 3, 3, 2, 2, 3, 0, 1, 1, 2, 1, 1, 1, 4, 2, 3, 1, 1, 1,\n",
       "       1, 2, 2, 2, 1, 2, 1, 3, 1, 1, 2, 3, 1, 3, 2, 1, 3, 1, 2, 2, 1, 2,\n",
       "       2, 1, 0, 1, 0, 1, 2, 1, 1, 1, 2, 3, 2, 1, 1, 3, 2, 1, 0, 1, 2, 0,\n",
       "       1, 4, 0, 3, 2, 0, 0, 2, 2, 1, 0, 3, 3, 1, 3, 1, 2, 0, 3, 1, 1, 1,\n",
       "       1, 0, 4, 2, 2, 3, 0, 4, 1, 2, 3, 2, 4, 2, 1, 3, 1, 1, 1, 3, 1, 2,\n",
       "       1, 4, 1, 1, 2, 1, 3, 0, 1, 2, 1, 1, 0, 2, 2, 1, 3, 1, 2, 2, 2, 2,\n",
       "       1, 4, 4, 1, 2, 1, 3, 0, 3, 0, 0, 2, 0, 3, 1, 3, 4, 1, 1, 1, 0, 2,\n",
       "       3, 2, 4, 3, 1, 0, 0, 2, 2, 3, 0, 3, 4, 1, 2, 2, 2, 1, 1, 2, 3, 3,\n",
       "       2, 2, 2, 1, 0, 2, 0, 1, 2, 1, 1, 2, 1, 4, 2, 1, 2, 3, 1, 2, 3, 1,\n",
       "       3, 0, 3, 2, 1, 2, 4, 0, 1, 1, 1, 2, 4, 0, 3, 1, 5, 1, 2, 2, 1, 2,\n",
       "       2, 0, 0, 2, 1, 4, 1, 2, 3, 0, 1, 1, 0, 0, 5, 3, 2, 3, 1, 5, 0, 2,\n",
       "       4, 0, 1, 1, 2, 3, 2, 1, 3, 1, 2, 2, 1, 3, 0, 2, 1, 0, 1, 1, 3, 1,\n",
       "       4, 1, 1, 0, 1, 1, 5, 3, 2, 2, 3, 2, 4, 2, 1, 1, 0, 2, 3, 3, 2, 1,\n",
       "       2, 1, 3, 1, 0, 0, 0, 3, 4, 1, 3, 0, 2, 0, 4, 3, 1, 1, 2, 2, 1, 4,\n",
       "       2, 2, 0, 0, 2, 3, 2, 5, 2, 0, 1, 4, 0, 4, 2, 3, 2, 1, 1, 2, 3, 4,\n",
       "       4, 3, 2, 0, 3, 3, 0, 6, 2, 5])"
      ]
     },
     "execution_count": 27,
     "metadata": {},
     "output_type": "execute_result"
    }
   ],
   "source": [
    "np.random.binomial(10, 1/6, 1000)"
   ]
  },
  {
   "cell_type": "markdown",
   "metadata": {},
   "source": [
    "Below is the histogram plot of the previos experiment"
   ]
  },
  {
   "cell_type": "code",
   "execution_count": 28,
   "metadata": {},
   "outputs": [
    {
     "data": {
      "text/plain": [
       "(array([181., 301.,   0., 292.,   0., 139.,  68.,   0.,  18.,   1.]),\n",
       " array([0. , 0.6, 1.2, 1.8, 2.4, 3. , 3.6, 4.2, 4.8, 5.4, 6. ]),\n",
       " <a list of 10 Patch objects>)"
      ]
     },
     "execution_count": 28,
     "metadata": {},
     "output_type": "execute_result"
    },
    {
     "data": {
      "image/png": "[encoded data removed]",
      "text/plain": [
       "<Figure size 432x288 with 1 Axes>"
      ]
     },
     "metadata": {},
     "output_type": "display_data"
    }
   ],
   "source": [
    "x = np.random.binomial(10, 1/6, 1000)\n",
    "plt.hist(x)"
   ]
  },
  {
   "cell_type": "markdown",
   "metadata": {},
   "source": [
    "## Hypergeometric Distribution\n"
   ]
  },
  {
   "cell_type": "markdown",
   "metadata": {},
   "source": [
    "This distribution is very similar to the binomial distribution, except that in this case, samples are drawn without replacement, whereas in the Binomial case samples are drawn with replacement (or the sample space is infinite). As the sample space becomes large, this distribution approaches the binomial."
   ]
  },
  {
   "cell_type": "markdown",
   "metadata": {},
   "source": [
    "The probability density for the Hypergeometric distribution is\n",
    "$$P(x)=\\frac{{{m}\\choose{n}}{{N-m}\\choose{n-x}}}{{N}\\choose{n}}$$\n",
    "where $0\\leq x \\leq m$ and $n+m-N \\leq x \\leq n$ for $P(x)$ the probability of $x$ successes, $n$ = ngood, $m$ = nbad, and $N$ = number of samples."
   ]
  },
  {
   "cell_type": "markdown",
   "metadata": {},
   "source": [
    "Let's do an example, say we have a deck of cards contains 20 cards: 6 red cards and 14 black cards. 5 cards are drawn randomly without replacement. What is the probability that exactly 4 red cards are drawn?\n",
    "The probability of choosing exactly 4 red cards is:\n",
    "P(4 red cards) = # samples with 4 red cards and 1 black card / # of possible 4 card samples\n",
    "$$P(4)=\\frac{{{6}\\choose{4}}{{14}\\choose{1}}}{{20}\\choose{5}}$$\n",
    "In shorthand, the above formula can be interpreted as:\n",
    "$6\\choose4$ means that out of 6 possible red cards, we are choosing 4.\n",
    "$14\\choose1$ means that out of a possible 14 black cards, we’re choosing 1.\n",
    "$20\\choose5$ means that out of a total of 20 cards, we draw 5.  \n",
    "The solution is 0.0135 or 1.35%  \n",
    "The binomial distribution doesn’t apply here, because the cards are not replaced once they are drawn. In other words, the trials are not independent events. "
   ]
  },
  {
   "cell_type": "markdown",
   "metadata": {},
   "source": [
    "The random.hypergeometric function takes at least 3 arguments, the first argument is ngood (ways to make a good selection), the second is nbad (ways to make a bad selection), and the third one is nsample = number of items sampled, which is less than or equal to the sum ngood + nbad. In return, draws one number from the hypergeometric distribution."
   ]
  },
  {
   "cell_type": "code",
   "execution_count": 45,
   "metadata": {
    "scrolled": true
   },
   "outputs": [
    {
     "data": {
      "text/plain": [
       "4"
      ]
     },
     "execution_count": 45,
     "metadata": {},
     "output_type": "execute_result"
    }
   ],
   "source": [
    "np.random.hypergeometric(6, 14, 15)"
   ]
  },
  {
   "cell_type": "markdown",
   "metadata": {},
   "source": [
    "With four arguments, the function draws an amount of samples specified by the third argument. The first three arguments are the still the same as explained in the previous cell."
   ]
  },
  {
   "cell_type": "code",
   "execution_count": 30,
   "metadata": {
    "scrolled": true
   },
   "outputs": [
    {
     "data": {
      "text/plain": [
       "array([6, 4, 6, 5, 5, 3, 4, 5, 6, 4, 4, 6, 3, 2, 4, 5, 4, 5, 6, 5, 6, 3,\n",
       "       6, 5, 5, 4, 5, 3, 4, 5, 4, 6, 4, 4, 4, 5, 4, 4, 4, 6, 3, 5, 5, 4,\n",
       "       5, 6, 5, 6, 2, 5, 4, 4, 4, 5, 4, 6, 6, 4, 4, 4, 5, 4, 5, 3, 6, 6,\n",
       "       4, 4, 4, 5, 4, 4, 5, 6, 5, 4, 5, 5, 5, 5, 5, 3, 5, 4, 4, 4, 3, 4,\n",
       "       4, 5, 5, 4, 4, 5, 3, 5, 4, 4, 5, 5, 4, 5, 6, 5, 5, 4, 5, 4, 5, 4,\n",
       "       4, 4, 5, 6, 3, 6, 2, 5, 6, 4, 5, 5, 4, 4, 6, 5, 4, 6, 5, 4, 3, 4,\n",
       "       6, 6, 5, 5, 3, 3, 6, 4, 6, 5, 4, 5, 6, 5, 4, 4, 5, 4, 4, 4, 4, 6,\n",
       "       6, 3, 6, 4, 5, 3, 5, 4, 6, 5, 6, 4, 6, 4, 5, 4, 4, 5, 5, 4, 5, 5,\n",
       "       5, 5, 3, 5, 5, 5, 4, 4, 5, 6, 3, 5, 6, 4, 4, 5, 6, 4, 3, 5, 5, 5,\n",
       "       3, 5, 3, 4, 5, 5, 4, 5, 5, 4, 4, 3, 5, 4, 4, 4, 4, 5, 5, 3, 5, 5,\n",
       "       5, 4, 4, 5, 4, 5, 5, 4, 5, 4, 5, 5, 4, 3, 5, 5, 6, 6, 5, 5, 4, 4,\n",
       "       4, 4, 5, 4, 6, 4, 5, 5, 3, 3, 5, 3, 5, 5, 4, 4, 4, 6, 5, 5, 5, 4,\n",
       "       4, 4, 5, 3, 5, 6, 5, 5, 5, 5, 3, 5, 4, 4, 4, 4, 5, 4, 5, 4, 5, 4,\n",
       "       4, 5, 5, 4, 5, 5, 4, 5, 5, 4, 3, 5, 4, 4, 3, 3, 5, 5, 4, 5, 5, 5,\n",
       "       4, 5, 4, 5, 2, 6, 6, 4, 6, 4, 4, 5, 5, 4, 4, 5, 4, 4, 4, 6, 4, 4,\n",
       "       5, 4, 6, 2, 3, 5, 5, 3, 4, 6, 6, 4, 6, 4, 3, 5, 4, 5, 4, 4, 5, 4,\n",
       "       4, 4, 5, 4, 3, 5, 5, 5, 3, 4, 4, 5, 3, 3, 5, 3, 4, 5, 2, 4, 5, 5,\n",
       "       4, 4, 4, 4, 5, 4, 5, 4, 6, 4, 4, 3, 4, 6, 5, 3, 5, 4, 3, 5, 6, 2,\n",
       "       5, 6, 6, 4, 5, 5, 4, 5, 5, 4, 6, 4, 6, 5, 5, 4, 5, 5, 6, 4, 4, 6,\n",
       "       5, 4, 4, 5, 5, 6, 4, 4, 4, 4, 5, 5, 5, 3, 5, 4, 3, 6, 5, 4, 5, 5,\n",
       "       4, 3, 6, 6, 4, 4, 3, 4, 5, 4, 3, 4, 6, 6, 5, 4, 4, 5, 5, 4, 3, 6,\n",
       "       5, 5, 6, 4, 4, 5, 5, 3, 4, 4, 6, 4, 6, 4, 4, 4, 6, 5, 2, 5, 6, 5,\n",
       "       4, 5, 6, 4, 6, 5, 3, 4, 5, 4, 3, 4, 3, 5, 5, 5, 5, 2, 3, 3, 3, 4,\n",
       "       4, 4, 4, 5, 3, 4, 4, 4, 5, 4, 5, 4, 4, 4, 3, 6, 3, 6, 3, 5, 5, 5,\n",
       "       5, 4, 6, 6, 6, 3, 5, 5, 4, 4, 5, 3, 6, 4, 3, 5, 4, 4, 3, 5, 4, 4,\n",
       "       4, 6, 5, 5, 6, 6, 6, 3, 4, 3, 3, 5, 3, 4, 4, 5, 5, 4, 5, 6, 4, 2,\n",
       "       6, 5, 5, 4, 6, 5, 5, 5, 5, 5, 4, 5, 4, 5, 4, 5, 4, 3, 4, 3, 2, 4,\n",
       "       6, 4, 5, 4, 4, 6, 5, 5, 4, 5, 5, 4, 4, 3, 4, 4, 6, 5, 6, 5, 4, 6,\n",
       "       3, 4, 4, 4, 3, 5, 6, 3, 3, 4, 6, 5, 6, 4, 5, 5, 4, 3, 4, 5, 6, 4,\n",
       "       4, 4, 5, 5, 5, 5, 5, 6, 5, 4, 5, 5, 6, 2, 5, 5, 4, 4, 6, 5, 4, 6,\n",
       "       4, 3, 4, 5, 4, 4, 4, 3, 4, 5, 5, 4, 4, 5, 5, 3, 5, 6, 6, 5, 5, 4,\n",
       "       5, 5, 6, 4, 4, 4, 5, 5, 5, 5, 4, 4, 5, 3, 4, 4, 5, 6, 6, 5, 5, 5,\n",
       "       5, 5, 4, 6, 5, 5, 4, 4, 4, 5, 4, 4, 5, 5, 6, 4, 5, 5, 6, 5, 5, 5,\n",
       "       6, 4, 5, 3, 5, 3, 5, 5, 5, 5, 4, 4, 4, 5, 4, 4, 6, 6, 5, 4, 5, 4,\n",
       "       6, 6, 5, 5, 3, 6, 5, 5, 6, 5, 3, 5, 6, 3, 5, 4, 4, 3, 5, 6, 4, 3,\n",
       "       4, 3, 3, 5, 3, 5, 5, 5, 5, 3, 5, 5, 4, 5, 4, 5, 3, 5, 4, 3, 4, 6,\n",
       "       4, 3, 4, 5, 5, 4, 4, 6, 4, 5, 5, 6, 3, 2, 4, 4, 4, 4, 4, 4, 4, 3,\n",
       "       5, 4, 3, 4, 3, 3, 5, 6, 4, 4, 5, 5, 4, 5, 6, 5, 4, 5, 3, 6, 4, 3,\n",
       "       4, 5, 5, 5, 4, 3, 5, 5, 5, 3, 6, 2, 4, 5, 5, 4, 4, 5, 5, 5, 3, 4,\n",
       "       4, 5, 5, 6, 4, 6, 4, 5, 4, 3, 3, 4, 4, 4, 3, 4, 5, 5, 4, 6, 4, 3,\n",
       "       4, 3, 5, 5, 5, 4, 5, 4, 5, 5, 4, 6, 5, 6, 5, 4, 4, 6, 5, 4, 4, 3,\n",
       "       6, 4, 5, 6, 5, 5, 6, 4, 6, 4, 5, 5, 5, 5, 5, 5, 4, 4, 3, 4, 4, 5,\n",
       "       5, 6, 4, 5, 3, 6, 6, 6, 4, 4, 3, 6, 5, 4, 4, 4, 5, 6, 4, 4, 6, 5,\n",
       "       5, 5, 5, 5, 5, 4, 3, 5, 5, 5, 4, 5, 6, 4, 4, 5, 6, 3, 4, 5, 5, 4,\n",
       "       4, 5, 4, 6, 6, 3, 5, 4, 5, 5, 4, 5, 5, 5, 4, 3, 3, 5, 4, 5, 4, 5,\n",
       "       5, 2, 3, 4, 4, 5, 4, 5, 5, 6])"
      ]
     },
     "execution_count": 30,
     "metadata": {},
     "output_type": "execute_result"
    }
   ],
   "source": [
    "np.random.hypergeometric(6, 14, 15, 1000)"
   ]
  },
  {
   "cell_type": "markdown",
   "metadata": {},
   "source": [
    "Below is the histogram plot of the previos experiment"
   ]
  },
  {
   "cell_type": "code",
   "execution_count": 44,
   "metadata": {},
   "outputs": [
    {
     "data": {
      "text/plain": [
       "(array([  1.,   0.,  16.,   0., 112.,   0., 348.,   0., 401., 122.]),\n",
       " array([1. , 1.5, 2. , 2.5, 3. , 3.5, 4. , 4.5, 5. , 5.5, 6. ]),\n",
       " <a list of 10 Patch objects>)"
      ]
     },
     "execution_count": 44,
     "metadata": {},
     "output_type": "execute_result"
    },
    {
     "data": {
      "image/png": "[encoded data removed]",
      "text/plain": [
       "<Figure size 432x288 with 1 Axes>"
      ]
     },
     "metadata": {},
     "output_type": "display_data"
    }
   ],
   "source": [
    "x = np.random.hypergeometric(6, 14, 15, 1000)\n",
    "plt.hist(x)"
   ]
  },
  {
   "cell_type": "markdown",
   "metadata": {},
   "source": [
    "## Pareto Distribution\n",
    "The Pareto distribution is a probability distribution that seeks to describe quantities which have a particular property: namely, that a few items account for a lot of it and a lot of items account for a little of it."
   ]
  },
  {
   "cell_type": "markdown",
   "metadata": {},
   "source": [
    "The distribution can be defined by the following survival function (also called tail function):  \n",
    "$${\\displaystyle {\\overline {F}}(x)=\\Pr(X>x)={\\begin{cases}\\left({\\frac {x_{\\mathrm {m} }}{x}}\\right)^{\\alpha }&x\\geq x_{\\mathrm {m} },\\\\0&x<x_{\\mathrm {m} },\\end{cases}}}$$\n",
    "\n",
    "* X is a random variable with a Pareto distribution. The probability that X is greater than some number x. \n",
    "* $x_m$ is the (necessarily positive) minimum possible value of X. The Pareto distribution is characterized by $x_m$.\n",
    "* α is shape parameter, which is known as the tail index."
   ]
  },
  {
   "cell_type": "markdown",
   "metadata": {},
   "source": [
    "A well known example of the Pareto distribution is that 20 percent of the people control 80 percent of the wealth (which itself is sometimes called the Pareto principle), is another statement of the fact that the allocation of income could be Pareto distributed.  \n",
    "Some other examples:\n",
    "* business: the top few customers account for a bulk of the profits\n",
    "* insurance: a small number of big claims account for a bulk of payments\n",
    "* settlement: a small number of cities include a bulk of the population\n",
    "* languages: the most frequent words account for most words in books\n",
    "* gardening: a select few pods account for most of the peas\n",
    "* software: a small number of bugs account for most of the crashes"
   ]
  },
  {
   "cell_type": "markdown",
   "metadata": {},
   "source": [
    "The random.pareto function takes at least 1 argument, α the shape parameter, which is known as the tail index. In return, draws one number from the pareto distribution."
   ]
  },
  {
   "cell_type": "code",
   "execution_count": 32,
   "metadata": {},
   "outputs": [
    {
     "data": {
      "text/plain": [
       "0.30035269690629285"
      ]
     },
     "execution_count": 32,
     "metadata": {},
     "output_type": "execute_result"
    }
   ],
   "source": [
    "np.random.pareto(3)"
   ]
  },
  {
   "cell_type": "markdown",
   "metadata": {},
   "source": [
    "With two arguments, the function draws an amount of samples specified by the second argument where shape (α) is provided by the first argument."
   ]
  },
  {
   "cell_type": "code",
   "execution_count": 33,
   "metadata": {},
   "outputs": [
    {
     "data": {
      "text/plain": [
       "array([0.05049284, 0.26020997, 0.22849387, 0.23381303, 0.94900395])"
      ]
     },
     "execution_count": 33,
     "metadata": {},
     "output_type": "execute_result"
    }
   ],
   "source": [
    "np.random.pareto(3,5)"
   ]
  },
  {
   "cell_type": "markdown",
   "metadata": {},
   "source": [
    "Below is a histogram plot with 1000 samples and α and is 3"
   ]
  },
  {
   "cell_type": "code",
   "execution_count": 34,
   "metadata": {},
   "outputs": [
    {
     "data": {
      "text/plain": [
       "(array([896.,  72.,  18.,   6.,   3.,   0.,   1.,   2.,   1.,   1.]),\n",
       " array([3.32927916e-04, 1.11282489e+00, 2.22531685e+00, 3.33780882e+00,\n",
       "        4.45030078e+00, 5.56279274e+00, 6.67528470e+00, 7.78777667e+00,\n",
       "        8.90026863e+00, 1.00127606e+01, 1.11252526e+01]),\n",
       " <a list of 10 Patch objects>)"
      ]
     },
     "execution_count": 34,
     "metadata": {},
     "output_type": "execute_result"
    },
    {
     "data": {
      "image/png": "[encoded data removed]",
      "text/plain": [
       "<Figure size 432x288 with 1 Axes>"
      ]
     },
     "metadata": {},
     "output_type": "display_data"
    }
   ],
   "source": [
    "x = np.random.pareto(3, 1000)\n",
    "plt.hist(x)"
   ]
  },
  {
   "cell_type": "markdown",
   "metadata": {},
   "source": [
    "## Poisson Distribution\n",
    "\n",
    "The Poisson distribution is popular for modelling the number of times an event occurs in an interval of time or space."
   ]
  },
  {
   "cell_type": "markdown",
   "metadata": {},
   "source": [
    "An event can occur 0, 1, 2, … times in an interval. The average number of events in an interval is designated \n",
    "λ (lambda). Lambda is the event rate, also called the rate parameter. The probability of observing k events in an interval is given by the equation  \n",
    "$${\\displaystyle P(k{\\text{ events in interval}})=e^{-\\lambda }{\\frac {\\lambda ^{k}}{k!}}}$$\n",
    "\n",
    "where \n",
    "* λ is the average number of events per interval\n",
    "* $e$ is the number 2.71828... (Euler's number) the base of the natural logarithms\n",
    "* $k$ takes values 0, 1, 2, …\n",
    "* $k! = k × (k − 1) × (k − 2) × … × 2 × 1$ is the factorial of $k$."
   ]
  },
  {
   "cell_type": "markdown",
   "metadata": {},
   "source": [
    "For example, the average number of goals in a World Cup soccer match is approximately 2.5 and the Poisson model is appropriate.\n",
    "Because the average event rate is 2.5 goals per match, λ = 2.5. \n",
    "\n",
    "\\begin{align}\n",
    "& {\\displaystyle P(k{\\text{ goals in a match}})={\\frac {2.5^{k}e^{-2.5}}{k!}}}  \\\\\n",
    "& {\\displaystyle P(k=0{\\text{ goals in a match}})={\\frac {2.5^{0}e^{-2.5}}{0!}}={\\frac {e^{-2.5}}{1}}\\approx 0.082} \\\\\n",
    "& {\\displaystyle P(k=1{\\text{ goal in a match}})={\\frac {2.5^{1}e^{-2.5}}{1!}}={\\frac {2.5e^{-2.5}}{1}}\\approx 0.205} \\\\\n",
    "& {\\displaystyle P(k=2{\\text{ goals in a match}})={\\frac {2.5^{2}e^{-2.5}}{2!}}={\\frac {6.25e^{-2.5}}{2}}\\approx 0.257}\n",
    "\\end{align}\n",
    "\n",
    "The table below gives the probability for 0 to 7 goals in a match.  \n",
    "\n",
    "k | P(k goals in a World Cup soccer match)\n",
    "--- | ---\n",
    "0 | 0.082 \n",
    "1 | 0.205 \n",
    "2 | 0.257 \n",
    "3 | 0.213 \n",
    "4 | 0.133 \n",
    "5 | 0.067 \n",
    "6 | 0.028 \n",
    "7 | 0.010"
   ]
  },
  {
   "cell_type": "markdown",
   "metadata": {},
   "source": [
    "The random.poisson function without arguments draws a sample where the average lambda $(\\lambda)$ is 1 "
   ]
  },
  {
   "cell_type": "code",
   "execution_count": 35,
   "metadata": {},
   "outputs": [
    {
     "data": {
      "text/plain": [
       "1"
      ]
     },
     "execution_count": 35,
     "metadata": {},
     "output_type": "execute_result"
    }
   ],
   "source": [
    "np.random.poisson()"
   ]
  },
  {
   "cell_type": "markdown",
   "metadata": {},
   "source": [
    "With one argument, the function draws a number where the argument is the average lambda $(\\lambda)$"
   ]
  },
  {
   "cell_type": "code",
   "execution_count": 36,
   "metadata": {},
   "outputs": [
    {
     "data": {
      "text/plain": [
       "1"
      ]
     },
     "execution_count": 36,
     "metadata": {},
     "output_type": "execute_result"
    }
   ],
   "source": [
    "np.random.poisson(2.5)"
   ]
  },
  {
   "cell_type": "markdown",
   "metadata": {},
   "source": [
    "With two arguments, the function draws an amount of samples specified by the second argument where  average lambda \n",
    "($\\lambda$) is provided by the first argument"
   ]
  },
  {
   "cell_type": "code",
   "execution_count": 37,
   "metadata": {},
   "outputs": [
    {
     "data": {
      "text/plain": [
       "array([3, 3, 2, 5, 0, 2, 3, 0, 1, 4])"
      ]
     },
     "execution_count": 37,
     "metadata": {},
     "output_type": "execute_result"
    }
   ],
   "source": [
    "np.random.poisson(2.5,10)"
   ]
  },
  {
   "cell_type": "markdown",
   "metadata": {},
   "source": [
    "Below is histogram plot with 1000 samples and $\\lambda$ is 2.5"
   ]
  },
  {
   "cell_type": "code",
   "execution_count": 38,
   "metadata": {},
   "outputs": [
    {
     "data": {
      "text/plain": [
       "(array([ 86., 209., 232., 233., 142.,  57.,  27.,   8.,   5.,   1.]),\n",
       " array([0. , 0.9, 1.8, 2.7, 3.6, 4.5, 5.4, 6.3, 7.2, 8.1, 9. ]),\n",
       " <a list of 10 Patch objects>)"
      ]
     },
     "execution_count": 38,
     "metadata": {},
     "output_type": "execute_result"
    },
    {
     "data": {
      "image/png": "[encoded data removed]",
      "text/plain": [
       "<Figure size 432x288 with 1 Axes>"
      ]
     },
     "metadata": {},
     "output_type": "display_data"
    }
   ],
   "source": [
    "x = np.random.poisson(2.5,1000)\n",
    "plt.hist(x)"
   ]
  },
  {
   "cell_type": "markdown",
   "metadata": {},
   "source": [
    "## Random Seeds\n",
    "A random seed (or seed state, or just seed) is a number used to initialize a pseudorandom number generator. Random seeds are often generated from the state of the computer system, such as the time.  \n",
    "A pseudorandom number generator is an algorithm for generating a sequence of numbers whose properties approximate the properties of sequences of random numbers. The pseudorandom-generated sequence is not truly random, because it is completely determined by an initial value, the seed.  \n",
    "If the seed is fixed, the same series of pseudorandom numbers are going to be generated. This is useful for debugging and testing programs that use random numbers"
   ]
  },
  {
   "cell_type": "markdown",
   "metadata": {},
   "source": [
    "By default Python uses a fraction of time to set the seed, usually microseconds at runtime. Let's compare calls to the 'rand()' function without and with a fixed seed."
   ]
  },
  {
   "cell_type": "code",
   "execution_count": 39,
   "metadata": {},
   "outputs": [
    {
     "data": {
      "text/plain": [
       "0.5151381211833326"
      ]
     },
     "execution_count": 39,
     "metadata": {},
     "output_type": "execute_result"
    }
   ],
   "source": [
    "np.random.rand()"
   ]
  },
  {
   "cell_type": "markdown",
   "metadata": {},
   "source": [
    "Let's fixed the seed to a fixed value and call 'rand()' again"
   ]
  },
  {
   "cell_type": "code",
   "execution_count": 40,
   "metadata": {},
   "outputs": [
    {
     "data": {
      "text/plain": [
       "0.9670298390136767"
      ]
     },
     "execution_count": 40,
     "metadata": {},
     "output_type": "execute_result"
    }
   ],
   "source": [
    "np.random.seed(4)\n",
    "np.random.rand()"
   ]
  },
  {
   "cell_type": "markdown",
   "metadata": {},
   "source": [
    "Let's use time as seed again an"
   ]
  },
  {
   "cell_type": "code",
   "execution_count": 41,
   "metadata": {},
   "outputs": [
    {
     "data": {
      "text/plain": [
       "0.3009670167171211"
      ]
     },
     "execution_count": 41,
     "metadata": {},
     "output_type": "execute_result"
    }
   ],
   "source": [
    "np.random.seed()\n",
    "np.random.rand()"
   ]
  },
  {
   "cell_type": "markdown",
   "metadata": {},
   "source": [
    "Now, let's set the seed value to 4 again and we'll see it generate the same value as before:"
   ]
  },
  {
   "cell_type": "code",
   "execution_count": 42,
   "metadata": {},
   "outputs": [
    {
     "data": {
      "text/plain": [
       "0.9670298390136767"
      ]
     },
     "execution_count": 42,
     "metadata": {},
     "output_type": "execute_result"
    }
   ],
   "source": [
    "np.random.seed(4)\n",
    "np.random.rand()"
   ]
  }
 ],
 "metadata": {
  "kernelspec": {
   "display_name": "Python 3",
   "language": "python",
   "name": "python3"
  },
  "language_info": {
   "codemirror_mode": {
    "name": "ipython",
    "version": 3
   },
   "file_extension": ".py",
   "mimetype": "text/x-python",
   "name": "python",
   "nbconvert_exporter": "python",
   "pygments_lexer": "ipython3",
   "version": "3.6.5"
  }
 },
 "nbformat": 4,
 "nbformat_minor": 2
}
