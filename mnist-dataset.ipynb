{
 "cells": [
  {
   "cell_type": "markdown",
   "metadata": {},
   "source": [
    "# MNIST Dataset"
   ]
  },
  {
   "cell_type": "markdown",
   "metadata": {},
   "source": [
    "The MNIST database (Modified National Institute of Standards and Technology database) is a large database of handwritten digits that is commonly used for training various image processing systems. The database is also widely used for training and testing in the field of machine learning. It was created by \"re-mixing\" the samples from NIST's original datasets. The creators felt that since NIST's training dataset was taken from American (should be US - not American ) Census Bureau employees, while the testing dataset was taken from USA high school students, it was not well-suited for machine learning experiments. Furthermore, the black and white images from NIST were normalized to fit into a 28x28 pixel bounding box and anti-aliased, which introduced grayscale levels. \n",
    " \n",
    "MNIST is the de facto \"Hello World\" dataset of computer vision. Since its release in 1999, this classic dataset of handwritten images has served as the basis for benchmarking classification algorithms. As new machine learning techniques emerge, MNIST remains a reliable resource for researchers and learners alike.\n",
    "\n",
    "![title](images/mnistexamples.png)\n",
    "\n",
    "## Sample Images\n",
    "The MNIST database contains 60,000 training images and 10,000 testing images. Half of the training set and half of the test set were taken from NIST's training dataset, while the other half of the training set and the other half of the test set were taken from NIST's testing dataset.\n",
    "\n",
    "The set of images in the MNIST database is organized on two of NIST's databases: Special Database 1 and Special Database 3. Special Database 1 consists of digits written by high school students and Special Database 3 consists of digits written by employees of the United States Census Bureau.\n",
    "\n",
    "## MNIST Files\n",
    "There are 4 files: \n",
    "train-images-idx3-ubyte: training set images \n",
    "train-labels-idx1-ubyte: training set labels \n",
    "t10k-images-idx3-ubyte:  test set images \n",
    "t10k-labels-idx1-ubyte:  test set labels\n",
    "\n",
    "The data is stored in a very simple file format designed for storing vectors and multidimensional matrices.\n",
    "All the integers in the files are stored in the Most Sifnificant (MSB) first or high endian format used by most non-Intel processors. Users of Intel processors and other low-endian machines must flip the bytes of the header. \n",
    " \n",
    "The training set contains 60000 examples, and the test set 10000 examples. \n",
    "The first 5000 examples of the test set are taken from the original NIST training set. The last 5000 are taken from the original NIST test set. The first 5000 are cleaner and easier than the last 5000.\n",
    "\n",
    "### The IDX File Format\n",
    "The IDX file format is a simple format for vectors and multidimensional matrices of various numerical types. \n",
    "The basic format is: \n",
    "\n",
    "|    |\n",
    "|---|\n",
    "| Magic Number (4 bytes integer)  |\n",
    "| size in dimension 0 (4 bytes integer) |\n",
    "| size in dimension 1 (4 bytes integer) |\n",
    "| size in dimension 2 (4 bytes integer) |\n",
    "| ..... |\n",
    "| size in dimension N (4 bytes integer) |\n",
    "| data |\n",
    "| data |\n",
    "| data |\n",
    "| ..... |\n",
    "\n",
    "\n",
    "The magic number is usually a four-byte integer (MSB first). The first 2 bytes of it are always 0. \n",
    "\n",
    "The third byte codes the type of the data:\n",
    "\n",
    "Key | Value\n",
    "--- | ---\n",
    "0x08 | unsigned byte  \n",
    "0x09 | signed byte\n",
    "0x0B | short (2 bytes)\n",
    "0x0C | int (4 bytes)  \n",
    "0x0D | float (4 bytes)\n",
    "0x0E | double (8 bytes)\n",
    "\n",
    "The 4-th byte codes the number of dimensions of the vector/matrix: 1 for vectors, 2 for matrices.... \n",
    "The sizes in each dimension are 4-byte integers (MSB first, high endian, like in most non-Intel processors). \n",
    "The data is stored like in a C array, i.e. the index in the last dimension changes the fastest.\n",
    "\n",
    "#### Training Set Label File (train-labels-idx1-ubyte):\n",
    "[offset] | [type]     |     [value]     |     [description]\n",
    "--- | --- | --- | ---\n",
    "0000  |   32 bit integer | 0x00000801(2049) | magic number (MSB first) \n",
    "0004  |   32 bit integer | 60000            | number of items \n",
    "0008  |   unsigned byte  | ??               | label \n",
    "0009  |   unsigned byte  | ??               | label \n",
    " | | ........ |  \n",
    "xxxx  |   unsigned byte |  ??       |        label\n",
    "\n",
    "The labels values are 0 to 9. \n",
    "\n",
    "#### Training Set Image File (train-images-idx3-ubyte):\n",
    "[offset] | [type]      |    [value]     |     [description] \n",
    "--- | --- | --- |\n",
    "0000  |   32 bit integer | 0x00000803(2051) | magic number \n",
    "0004  |   32 bit integer |  60000           | number of images \n",
    "0008  |   32 bit integer |  28              | number of rows \n",
    "0012  |   32 bit integer | 28               | number of columns \n",
    "0016  |   unsigned byte  | ??               | pixel \n",
    "0017  |   unsigned byte  | ??               | pixel \n",
    "| | ........ |\n",
    "xxxx  |   unsigned byte |  ??            |   pixel \n",
    "\n",
    "Pixels are organized row-wise. Pixel values are 0 to 255. 0 means background (white), 255 means foreground (black). \n",
    "\n",
    "#### Test Set Label File (t10k-labels-idx1-ubyte):\n",
    "[offset] | [type]     |     [value]     |     [description] \n",
    "--- | --- | --- | ---\n",
    "0000  |   32 bit integer | 0x00000801(2049) | magic number (MSB first) \n",
    "0004  |   32 bit integer |  10000       |     number of items \n",
    "0008  |   unsigned byte |  ??         |      label \n",
    "0009  |   unsigned byte |  ??         |      label \n",
    "| | ........ |\n",
    "xxxx   |  unsigned byte  | ??          |     label \n",
    "\n",
    "The labels values are 0 to 9. \n",
    "#### Test Set Image File (t10k-images-idx3-ubyte):\n",
    "[offset] | [type]    |      [value]     |     [description] \n",
    "--- | --- | --- | ---\n",
    "0000   |  32 bit integer | 0x00000803(2051) | magic number \n",
    "0004   |  32 bit integer | 10000           | number of images \n",
    "0008   |  32 bit integer | 28              | number of rows \n",
    "0012   |  32 bit integer | 28              | number of columns \n",
    "0016   |  unsigned byte  | ??              | pixel \n",
    "0017   |  unsigned byte  | ??              | pixel \n",
    "| | ........ |\n",
    "xxxx  |   unsigned byte  | ??              |  pixel \n",
    "\n",
    "Pixels are organized row-wise. Pixel values are 0 to 255. 0 means background (white), 255 means foreground (black).  "
   ]
  },
  {
   "cell_type": "markdown",
   "metadata": {},
   "source": [
    "## Reading Bytes From The Files"
   ]
  },
  {
   "cell_type": "markdown",
   "metadata": {},
   "source": [
    "The MNIST files originally are compressed. In order to use them we have to decompress them. We can make use of a decompression program, but since Python has support for the GZIP compression format we'll use that instead."
   ]
  },
  {
   "cell_type": "code",
   "execution_count": 1,
   "metadata": {},
   "outputs": [],
   "source": [
    "# https://github.com/ianmcloughlin/jupyter-teaching-notebooks/blob/master/mnist.ipynb\n",
    "import gzip\n",
    "\n",
    "with gzip.open('data/t10k-images-idx3-ubyte.gz', 'rb') as f:\n",
    "    file_content = f.read()"
   ]
  },
  {
   "cell_type": "markdown",
   "metadata": {},
   "source": [
    "The uncompressed data of the test set image file is now contained in the variable 'file_content'. Let's try to find out what type of data it is:"
   ]
  },
  {
   "cell_type": "code",
   "execution_count": 2,
   "metadata": {},
   "outputs": [
    {
     "data": {
      "text/plain": [
       "bytes"
      ]
     },
     "execution_count": 2,
     "metadata": {},
     "output_type": "execute_result"
    }
   ],
   "source": [
    "type(file_content)"
   ]
  },
  {
   "cell_type": "markdown",
   "metadata": {},
   "source": [
    "As expected, the file contain genereric bytes. Following the indications about the file format the first 4 bytes (that is, the first 32-bit integer) should give us back the magic number."
   ]
  },
  {
   "cell_type": "code",
   "execution_count": 3,
   "metadata": {},
   "outputs": [
    {
     "data": {
      "text/plain": [
       "b'\\x00\\x00\\x08\\x03'"
      ]
     },
     "execution_count": 3,
     "metadata": {},
     "output_type": "execute_result"
    }
   ],
   "source": [
    "file_content[0:4]"
   ]
  },
  {
   "cell_type": "markdown",
   "metadata": {},
   "source": [
    "Again, as stated by the format specification, the first two bytes are zeroed. The third byte codes the type of the data: '0x08' means unsigned bytes. The fourth byte specifies how many integers characterize the data: 3 means that the following three integers after the magic number are used to describe the data contained in the file. Let's see those three next integers.  \n",
    "\n",
    "Remember, integers are 4-byte long. Here it is the first integer:"
   ]
  },
  {
   "cell_type": "code",
   "execution_count": 4,
   "metadata": {},
   "outputs": [
    {
     "data": {
      "text/plain": [
       "b\"\\x00\\x00'\\x10\""
      ]
     },
     "execution_count": 4,
     "metadata": {},
     "output_type": "execute_result"
    }
   ],
   "source": [
    "file_content[4:8]"
   ]
  },
  {
   "cell_type": "markdown",
   "metadata": {},
   "source": [
    "Well, it is a hexadecimal number written in the Least Significant Bit (MSB) format. Let's try to convert it into a decimal number in the Most Significat Bit format:"
   ]
  },
  {
   "cell_type": "code",
   "execution_count": 5,
   "metadata": {},
   "outputs": [
    {
     "data": {
      "text/plain": [
       "10000"
      ]
     },
     "execution_count": 5,
     "metadata": {},
     "output_type": "execute_result"
    }
   ],
   "source": [
    "int.from_bytes(file_content[4:8], byteorder='big')"
   ]
  },
  {
   "cell_type": "markdown",
   "metadata": {},
   "source": [
    "The number '10000' means that there are 10000 images in this file.  \n",
    "\n",
    "Let's check out the next integer:"
   ]
  },
  {
   "cell_type": "code",
   "execution_count": 6,
   "metadata": {},
   "outputs": [
    {
     "data": {
      "text/plain": [
       "b'\\x00\\x00\\x00\\x1c'"
      ]
     },
     "execution_count": 6,
     "metadata": {},
     "output_type": "execute_result"
    }
   ],
   "source": [
    "file_content[8:12]"
   ]
  },
  {
   "cell_type": "markdown",
   "metadata": {},
   "source": [
    "Now in a MSB decimal:"
   ]
  },
  {
   "cell_type": "code",
   "execution_count": 7,
   "metadata": {},
   "outputs": [
    {
     "data": {
      "text/plain": [
       "28"
      ]
     },
     "execution_count": 7,
     "metadata": {},
     "output_type": "execute_result"
    }
   ],
   "source": [
    "int.from_bytes(file_content[8:12], byteorder='big')"
   ]
  },
  {
   "cell_type": "markdown",
   "metadata": {},
   "source": [
    "The number '28' means that one dimension of the images contained in the file is 28 bytes long.\n",
    "\n",
    "Now the next integer already in MSB decimal:"
   ]
  },
  {
   "cell_type": "code",
   "execution_count": 8,
   "metadata": {},
   "outputs": [
    {
     "data": {
      "text/plain": [
       "28"
      ]
     },
     "execution_count": 8,
     "metadata": {},
     "output_type": "execute_result"
    }
   ],
   "source": [
    "int.from_bytes(file_content[12:16], byteorder='big')"
   ]
  },
  {
   "cell_type": "markdown",
   "metadata": {},
   "source": [
    "Again the number '28'. It means that the other dimension of the images contained in the file is 28 bytes long. So, now we know that the file contains 10000 images which dimensions are 28 bytes by 28 bytes."
   ]
  },
  {
   "cell_type": "markdown",
   "metadata": {},
   "source": [
    "## Displaying the First Image\n",
    "\n",
    "At this point we have all the information to start reading the images in the file. Let's try to read the first image.\n",
    "\n",
    "We know that the first image starts at byte (or offset) 16 of the file. Since the dimensions of the images are 28 bytes by 28 bytes lets try to fetch all the image bytes at once, that means to get 784 bytes (28 times 28). "
   ]
  },
  {
   "cell_type": "code",
   "execution_count": 9,
   "metadata": {},
   "outputs": [],
   "source": [
    "first_image = file_content[16:800] # 800 = 784 + 16 bytes of offset"
   ]
  },
  {
   "cell_type": "markdown",
   "metadata": {},
   "source": [
    "Now let's shape all thos 784 bytes into a 28 bytes by 28 bytes matrix. For that, we create a list of objects that will be easily converted into a matrix of bytes"
   ]
  },
  {
   "cell_type": "code",
   "execution_count": 10,
   "metadata": {},
   "outputs": [
    {
     "data": {
      "text/plain": [
       "array([[  0,   0,   0,   0,   0,   0,   0,   0,   0,   0,   0,   0,   0,\n",
       "          0,   0,   0,   0,   0,   0,   0,   0,   0,   0,   0,   0,   0,\n",
       "          0,   0],\n",
       "       [  0,   0,   0,   0,   0,   0,   0,   0,   0,   0,   0,   0,   0,\n",
       "          0,   0,   0,   0,   0,   0,   0,   0,   0,   0,   0,   0,   0,\n",
       "          0,   0],\n",
       "       [  0,   0,   0,   0,   0,   0,   0,   0,   0,   0,   0,   0,   0,\n",
       "          0,   0,   0,   0,   0,   0,   0,   0,   0,   0,   0,   0,   0,\n",
       "          0,   0],\n",
       "       [  0,   0,   0,   0,   0,   0,   0,   0,   0,   0,   0,   0,   0,\n",
       "          0,   0,   0,   0,   0,   0,   0,   0,   0,   0,   0,   0,   0,\n",
       "          0,   0],\n",
       "       [  0,   0,   0,   0,   0,   0,   0,   0,   0,   0,   0,   0,   0,\n",
       "          0,   0,   0,   0,   0,   0,   0,   0,   0,   0,   0,   0,   0,\n",
       "          0,   0],\n",
       "       [  0,   0,   0,   0,   0,   0,   0,   0,   0,   0,   0,   0,   0,\n",
       "          0,   0,   0,   0,   0,   0,   0,   0,   0,   0,   0,   0,   0,\n",
       "          0,   0],\n",
       "       [  0,   0,   0,   0,   0,   0,   0,   0,   0,   0,   0,   0,   0,\n",
       "          0,   0,   0,   0,   0,   0,   0,   0,   0,   0,   0,   0,   0,\n",
       "          0,   0],\n",
       "       [  0,   0,   0,   0,   0,   0,  84, 185, 159, 151,  60,  36,   0,\n",
       "          0,   0,   0,   0,   0,   0,   0,   0,   0,   0,   0,   0,   0,\n",
       "          0,   0],\n",
       "       [  0,   0,   0,   0,   0,   0, 222, 254, 254, 254, 254, 241, 198,\n",
       "        198, 198, 198, 198, 198, 198, 198, 170,  52,   0,   0,   0,   0,\n",
       "          0,   0],\n",
       "       [  0,   0,   0,   0,   0,   0,  67, 114,  72, 114, 163, 227, 254,\n",
       "        225, 254, 254, 254, 250, 229, 254, 254, 140,   0,   0,   0,   0,\n",
       "          0,   0],\n",
       "       [  0,   0,   0,   0,   0,   0,   0,   0,   0,   0,   0,  17,  66,\n",
       "         14,  67,  67,  67,  59,  21, 236, 254, 106,   0,   0,   0,   0,\n",
       "          0,   0],\n",
       "       [  0,   0,   0,   0,   0,   0,   0,   0,   0,   0,   0,   0,   0,\n",
       "          0,   0,   0,   0,   0,  83, 253, 209,  18,   0,   0,   0,   0,\n",
       "          0,   0],\n",
       "       [  0,   0,   0,   0,   0,   0,   0,   0,   0,   0,   0,   0,   0,\n",
       "          0,   0,   0,   0,  22, 233, 255,  83,   0,   0,   0,   0,   0,\n",
       "          0,   0],\n",
       "       [  0,   0,   0,   0,   0,   0,   0,   0,   0,   0,   0,   0,   0,\n",
       "          0,   0,   0,   0, 129, 254, 238,  44,   0,   0,   0,   0,   0,\n",
       "          0,   0],\n",
       "       [  0,   0,   0,   0,   0,   0,   0,   0,   0,   0,   0,   0,   0,\n",
       "          0,   0,   0,  59, 249, 254,  62,   0,   0,   0,   0,   0,   0,\n",
       "          0,   0],\n",
       "       [  0,   0,   0,   0,   0,   0,   0,   0,   0,   0,   0,   0,   0,\n",
       "          0,   0,   0, 133, 254, 187,   5,   0,   0,   0,   0,   0,   0,\n",
       "          0,   0],\n",
       "       [  0,   0,   0,   0,   0,   0,   0,   0,   0,   0,   0,   0,   0,\n",
       "          0,   0,   9, 205, 248,  58,   0,   0,   0,   0,   0,   0,   0,\n",
       "          0,   0],\n",
       "       [  0,   0,   0,   0,   0,   0,   0,   0,   0,   0,   0,   0,   0,\n",
       "          0,   0, 126, 254, 182,   0,   0,   0,   0,   0,   0,   0,   0,\n",
       "          0,   0],\n",
       "       [  0,   0,   0,   0,   0,   0,   0,   0,   0,   0,   0,   0,   0,\n",
       "          0,  75, 251, 240,  57,   0,   0,   0,   0,   0,   0,   0,   0,\n",
       "          0,   0],\n",
       "       [  0,   0,   0,   0,   0,   0,   0,   0,   0,   0,   0,   0,   0,\n",
       "         19, 221, 254, 166,   0,   0,   0,   0,   0,   0,   0,   0,   0,\n",
       "          0,   0],\n",
       "       [  0,   0,   0,   0,   0,   0,   0,   0,   0,   0,   0,   0,   3,\n",
       "        203, 254, 219,  35,   0,   0,   0,   0,   0,   0,   0,   0,   0,\n",
       "          0,   0],\n",
       "       [  0,   0,   0,   0,   0,   0,   0,   0,   0,   0,   0,   0,  38,\n",
       "        254, 254,  77,   0,   0,   0,   0,   0,   0,   0,   0,   0,   0,\n",
       "          0,   0],\n",
       "       [  0,   0,   0,   0,   0,   0,   0,   0,   0,   0,   0,  31, 224,\n",
       "        254, 115,   1,   0,   0,   0,   0,   0,   0,   0,   0,   0,   0,\n",
       "          0,   0],\n",
       "       [  0,   0,   0,   0,   0,   0,   0,   0,   0,   0,   0, 133, 254,\n",
       "        254,  52,   0,   0,   0,   0,   0,   0,   0,   0,   0,   0,   0,\n",
       "          0,   0],\n",
       "       [  0,   0,   0,   0,   0,   0,   0,   0,   0,   0,  61, 242, 254,\n",
       "        254,  52,   0,   0,   0,   0,   0,   0,   0,   0,   0,   0,   0,\n",
       "          0,   0],\n",
       "       [  0,   0,   0,   0,   0,   0,   0,   0,   0,   0, 121, 254, 254,\n",
       "        219,  40,   0,   0,   0,   0,   0,   0,   0,   0,   0,   0,   0,\n",
       "          0,   0],\n",
       "       [  0,   0,   0,   0,   0,   0,   0,   0,   0,   0, 121, 254, 207,\n",
       "         18,   0,   0,   0,   0,   0,   0,   0,   0,   0,   0,   0,   0,\n",
       "          0,   0],\n",
       "       [  0,   0,   0,   0,   0,   0,   0,   0,   0,   0,   0,   0,   0,\n",
       "          0,   0,   0,   0,   0,   0,   0,   0,   0,   0,   0,   0,   0,\n",
       "          0,   0]])"
      ]
     },
     "execution_count": 10,
     "metadata": {},
     "output_type": "execute_result"
    }
   ],
   "source": [
    "import numpy as np\n",
    "first_image_matrix = np.array(list(first_image)).reshape(28,28)\n",
    "first_image_matrix"
   ]
  },
  {
   "cell_type": "markdown",
   "metadata": {},
   "source": [
    "Ok, let's try to plot this image"
   ]
  },
  {
   "cell_type": "code",
   "execution_count": 11,
   "metadata": {
    "scrolled": true
   },
   "outputs": [
    {
     "data": {
      "text/plain": [
       "<matplotlib.image.AxesImage at 0x215825a6978>"
      ]
     },
     "execution_count": 11,
     "metadata": {},
     "output_type": "execute_result"
    },
    {
     "data": {
      "image/png": "[encoded data removed]",
      "text/plain": [
       "<Figure size 432x288 with 1 Axes>"
      ]
     },
     "metadata": {},
     "output_type": "display_data"
    }
   ],
   "source": [
    "%matplotlib inline\n",
    "import matplotlib.pyplot as plt\n",
    "\n",
    "plt.imshow(first_image_matrix)"
   ]
  },
  {
   "cell_type": "markdown",
   "metadata": {},
   "source": [
    "Well, it is the number seven. For this excercise we are not interested in colors as much we are interested in the shape and contour of the number, so we can use a simpler colormap."
   ]
  },
  {
   "cell_type": "code",
   "execution_count": 12,
   "metadata": {},
   "outputs": [
    {
     "data": {
      "text/plain": [
       "<matplotlib.image.AxesImage at 0x21582200470>"
      ]
     },
     "execution_count": 12,
     "metadata": {},
     "output_type": "execute_result"
    },
    {
     "data": {
      "image/png": "[encoded data removed]",
      "text/plain": [
       "<Figure size 432x288 with 1 Axes>"
      ]
     },
     "metadata": {},
     "output_type": "display_data"
    }
   ],
   "source": [
    "plt.imshow(first_image_matrix, cmap='gray')"
   ]
  },
  {
   "cell_type": "markdown",
   "metadata": {},
   "source": [
    "That's better. But to make it more real world we might want to swap the foreground and blackground colors since it is more common to write with black ink on white paper. So let's go back a little bit and do some changes"
   ]
  },
  {
   "cell_type": "code",
   "execution_count": 13,
   "metadata": {},
   "outputs": [],
   "source": [
    "first_image = ~np.array(list(file_content[16:800])).reshape(28,28).astype(np.uint8)"
   ]
  },
  {
   "cell_type": "markdown",
   "metadata": {},
   "source": [
    "Take special notice on the '~' character. This is the bitwise operator 'NOT'. What it does is to inverse the value of a bit, if a bit is 0, it changes to a 1 and viceversa. Let's take a look at the result."
   ]
  },
  {
   "cell_type": "code",
   "execution_count": 14,
   "metadata": {},
   "outputs": [
    {
     "data": {
      "text/plain": [
       "<matplotlib.image.AxesImage at 0x215824d9dd8>"
      ]
     },
     "execution_count": 14,
     "metadata": {},
     "output_type": "execute_result"
    },
    {
     "data": {
      "image/png": "[encoded data removed]",
      "text/plain": [
       "<Figure size 432x288 with 1 Axes>"
      ]
     },
     "metadata": {},
     "output_type": "display_data"
    }
   ],
   "source": [
    "plt.imshow(first_image, cmap='gray')"
   ]
  },
  {
   "cell_type": "markdown",
   "metadata": {},
   "source": [
    "## Reading a Label"
   ]
  },
  {
   "cell_type": "markdown",
   "metadata": {},
   "source": [
    "Some of the images in the MNIST dataset could be inelegibe. To have the complete certainty of what number is displayed in the image, numeric labels were put in auxiliary files. These labels are the computer representation of the handwritten number and, pardon the redundancy, can be interpreted by the computer.   \n",
    "Let's try read the first label from the file. The first steps are very similar to those applied to read the first image.  \n",
    "Let's read the first 4 bytes, the magic number of the label file:"
   ]
  },
  {
   "cell_type": "code",
   "execution_count": 15,
   "metadata": {},
   "outputs": [
    {
     "data": {
      "text/plain": [
       "b'\\x00\\x00\\x08\\x01'"
      ]
     },
     "execution_count": 15,
     "metadata": {},
     "output_type": "execute_result"
    }
   ],
   "source": [
    "with gzip.open('data/t10k-labels-idx1-ubyte.gz', 'rb') as f:\n",
    "    label_content = f.read()\n",
    "label_content[0:4]"
   ]
  },
  {
   "cell_type": "markdown",
   "metadata": {},
   "source": [
    "The first two bytes are zero as expected, the third byte is '\\x08' that means data are unsigned bytes and '\\x01' means that the next integer (4-bytes) describes the data. Let's look at that 4-byte integer."
   ]
  },
  {
   "cell_type": "code",
   "execution_count": 16,
   "metadata": {},
   "outputs": [
    {
     "data": {
      "text/plain": [
       "b\"\\x00\\x00'\\x10\""
      ]
     },
     "execution_count": 16,
     "metadata": {},
     "output_type": "execute_result"
    }
   ],
   "source": [
    "label_content[4:8]"
   ]
  },
  {
   "cell_type": "markdown",
   "metadata": {},
   "source": [
    "Remember, it is in hexadecimal base in LSB, so let's change it to decimal base in MSB format"
   ]
  },
  {
   "cell_type": "code",
   "execution_count": 17,
   "metadata": {},
   "outputs": [
    {
     "data": {
      "text/plain": [
       "10000"
      ]
     },
     "execution_count": 17,
     "metadata": {},
     "output_type": "execute_result"
    }
   ],
   "source": [
    "int.from_bytes(label_content[4:8], byteorder='big')"
   ]
  },
  {
   "cell_type": "markdown",
   "metadata": {},
   "source": [
    "Well, the number is '10000', that means that there are 10000 data of type unsigned byte in this file. Since there was only one integer describing our data, it is implied that each datum is a unsigned byte scalar. We are ready to fetch the first label."
   ]
  },
  {
   "cell_type": "code",
   "execution_count": 18,
   "metadata": {},
   "outputs": [
    {
     "data": {
      "text/plain": [
       "7"
      ]
     },
     "execution_count": 18,
     "metadata": {},
     "output_type": "execute_result"
    }
   ],
   "source": [
    "int.from_bytes(label_content[8:9], byteorder='big') # Starting from byte or offset 8, skipping the header integers "
   ]
  },
  {
   "cell_type": "markdown",
   "metadata": {},
   "source": [
    "We got the number '7' in the first label, that corresponds to the number contained in the first image. The importance of this is that we need to pass to the recognition processes a way to validate their assertions."
   ]
  },
  {
   "cell_type": "markdown",
   "metadata": {},
   "source": [
    "## MNIST Preprocessing\n",
    "As mentioned at the begining of this document, the MNIST dataset is well known as the starting point for image recognition processes, though it is not mandatory. These processes, as any other computer process, take input to produce an output. So we must figure a way to pass the bytes of the MNIST images to the recognition processes in a more 'computer friendly' manner.  \n",
    "\n",
    "Matrices, or two-dimesion arrays, of 28 by 28 bytes can be proceesed by computers using two nested 'for' loops, usually. The inconvenience with this is that it takes a hit at performance. Two nested 'for' loops have a complexity of $O(n^2)$, which for big amounts of input data, like 10000 images of 28 by 28, degrades performance noticeably.\n",
    "\n",
    "One solution for this problem is to 'flatten' the image matrices like one big 1-dimension array of 10000 elements each element consisting of 784 bytes (28 x 28). This has the advantage that the input now is $O(n)$ complex."
   ]
  },
  {
   "cell_type": "code",
   "execution_count": 19,
   "metadata": {},
   "outputs": [],
   "source": [
    "train_img = ~np.array(list(file_content[16:])).reshape(10000, 28, 28).astype(np.uint8)\n",
    "inputs = train_img.reshape(10000, 784)"
   ]
  },
  {
   "cell_type": "markdown",
   "metadata": {},
   "source": [
    "Since the labels are contained in 1-dimensional array, they already have a linear $O(n)$ complexity."
   ]
  },
  {
   "cell_type": "code",
   "execution_count": 20,
   "metadata": {},
   "outputs": [],
   "source": [
    "train_lbl =  np.array(list(label_content[ 8:])).astype(np.uint8)"
   ]
  }
 ],
 "metadata": {
  "kernelspec": {
   "display_name": "Python 3",
   "language": "python",
   "name": "python3"
  },
  "language_info": {
   "codemirror_mode": {
    "name": "ipython",
    "version": 3
   },
   "file_extension": ".py",
   "mimetype": "text/x-python",
   "name": "python",
   "nbconvert_exporter": "python",
   "pygments_lexer": "ipython3",
   "version": "3.6.5"
  }
 },
 "nbformat": 4,
 "nbformat_minor": 2
}
